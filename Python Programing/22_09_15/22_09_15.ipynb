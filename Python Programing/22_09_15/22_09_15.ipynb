{
 "cells": [
  {
   "cell_type": "code",
   "execution_count": 2,
   "id": "d4b04404",
   "metadata": {},
   "outputs": [
    {
     "name": "stdout",
     "output_type": "stream",
     "text": [
      "여성이면 1, 남성이면 0을 입력하시오 : 0\n",
      "당신의 키는 얼마입니까 : 181\n",
      "당신의 허리 둘레는 얼마입니까 : 94\n",
      "당신의 RFM은   25.48936170212766\n"
     ]
    }
   ],
   "source": [
    "# RFM 구하는 공식 실습\n",
    "\n",
    "print(\"여성이면 1, 남성이면 0을 입력하시오 : \", end = '')\n",
    "a = int(input())\n",
    "\n",
    "print(\"당신의 키는 얼마입니까 : \", end = '')\n",
    "b = int(input())\n",
    "\n",
    "print(\"당신의 허리 둘레는 얼마입니까 : \", end = '')\n",
    "c = int(input())\n",
    "\n",
    "a1 = 64 - (20*(b/c)) + 12 * a\n",
    "\n",
    "print(f'당신의 RFM은   {a1}')"
   ]
  },
  {
   "cell_type": "markdown",
   "id": "0f53f4b1",
   "metadata": {},
   "source": [
    "## 논리연산자\n"
   ]
  },
  {
   "cell_type": "code",
   "execution_count": 3,
   "id": "5b1ad0ca",
   "metadata": {},
   "outputs": [
    {
     "name": "stdout",
     "output_type": "stream",
     "text": [
      "False True False True False True\n"
     ]
    }
   ],
   "source": [
    "# 1\n",
    "\n",
    "a,b = 100, 200\n",
    "print(a==b, a!=b, a>b, a<b, a>=b, a<=b)"
   ]
  },
  {
   "cell_type": "code",
   "execution_count": 5,
   "id": "6cb49fb1",
   "metadata": {},
   "outputs": [
    {
     "name": "stdout",
     "output_type": "stream",
     "text": [
      "False\n",
      "True\n",
      "True\n"
     ]
    }
   ],
   "source": [
    "# 2\n",
    "\n",
    "a = 99\n",
    "print((a > 100) and (a < 200))\n",
    "print((a > 100) or (a < 200))\n",
    "print(not(a == 100))"
   ]
  },
  {
   "cell_type": "markdown",
   "id": "b0d5d900",
   "metadata": {},
   "source": [
    "## 비트연산자"
   ]
  },
  {
   "cell_type": "code",
   "execution_count": 7,
   "id": "5dda592e",
   "metadata": {},
   "outputs": [
    {
     "name": "stdout",
     "output_type": "stream",
     "text": [
      "20 40 80 160\n"
     ]
    }
   ],
   "source": [
    "a = 10\n",
    "print(a<<1, a<<2, a<<3, a<<4)\n",
    "# <<는 2진수식으로 한 칸씩 왼쪽으로 옮긴다는 뜻"
   ]
  },
  {
   "cell_type": "code",
   "execution_count": 9,
   "id": "8a908b84",
   "metadata": {},
   "outputs": [
    {
     "name": "stdout",
     "output_type": "stream",
     "text": [
      "5 2 1 0\n"
     ]
    }
   ],
   "source": [
    "a = 10\n",
    "print(a>>1, a>>2, a>>3, a>>4)\n",
    "# >>는 2진수 식으로 한 칸씩 오른쪽으로 옮긴다."
   ]
  },
  {
   "cell_type": "markdown",
   "id": "71d4a225",
   "metadata": {},
   "source": [
    "## math 모듈"
   ]
  },
  {
   "cell_type": "code",
   "execution_count": 10,
   "id": "e9972f50",
   "metadata": {},
   "outputs": [
    {
     "data": {
      "text/plain": [
       "27.0"
      ]
     },
     "execution_count": 10,
     "metadata": {},
     "output_type": "execute_result"
    }
   ],
   "source": [
    "import math\n",
    "\n",
    "math.pow(3,3) # n1, n2 이면 n1의 n2승"
   ]
  },
  {
   "cell_type": "code",
   "execution_count": 11,
   "id": "fdc47208",
   "metadata": {},
   "outputs": [
    {
     "data": {
      "text/plain": [
       "99.0"
      ]
     },
     "execution_count": 11,
     "metadata": {},
     "output_type": "execute_result"
    }
   ],
   "source": [
    "math.fabs(-99) # 절대값"
   ]
  },
  {
   "cell_type": "code",
   "execution_count": 12,
   "id": "5fea7cfc",
   "metadata": {},
   "outputs": [
    {
     "data": {
      "text/plain": [
       "0.999999327347282"
      ]
     },
     "execution_count": 12,
     "metadata": {},
     "output_type": "execute_result"
    }
   ],
   "source": [
    "math.log(2.71828)"
   ]
  },
  {
   "cell_type": "code",
   "execution_count": 13,
   "id": "6f3021f9",
   "metadata": {},
   "outputs": [
    {
     "data": {
      "text/plain": [
       "3.141592653589793"
      ]
     },
     "execution_count": 13,
     "metadata": {},
     "output_type": "execute_result"
    }
   ],
   "source": [
    "math.pi"
   ]
  },
  {
   "cell_type": "code",
   "execution_count": 14,
   "id": "4f51b17c",
   "metadata": {},
   "outputs": [
    {
     "data": {
      "text/plain": [
       "1.0"
      ]
     },
     "execution_count": 14,
     "metadata": {},
     "output_type": "execute_result"
    }
   ],
   "source": [
    "math.sin(math.pi / 2.0)"
   ]
  },
  {
   "cell_type": "markdown",
   "id": "d78e34a6",
   "metadata": {},
   "source": [
    "## random 모듈"
   ]
  },
  {
   "cell_type": "code",
   "execution_count": 15,
   "id": "d29e9d69",
   "metadata": {},
   "outputs": [
    {
     "data": {
      "text/plain": [
       "0.7204282401470169"
      ]
     },
     "execution_count": 15,
     "metadata": {},
     "output_type": "execute_result"
    }
   ],
   "source": [
    "import random\n",
    "\n",
    "random.random() # 0~ 1미만의 임의의 실수 반환"
   ]
  },
  {
   "cell_type": "code",
   "execution_count": 22,
   "id": "c3ff3444",
   "metadata": {},
   "outputs": [
    {
     "data": {
      "text/plain": [
       "7"
      ]
     },
     "execution_count": 22,
     "metadata": {},
     "output_type": "execute_result"
    }
   ],
   "source": [
    "random.randint(1,7) # 1~7 의 임의의 정수를 반환"
   ]
  },
  {
   "cell_type": "code",
   "execution_count": 31,
   "id": "3b10803b",
   "metadata": {},
   "outputs": [
    {
     "data": {
      "text/plain": [
       "4"
      ]
     },
     "execution_count": 31,
     "metadata": {},
     "output_type": "execute_result"
    }
   ],
   "source": [
    "random.randrange(7) # 0~6 의 임의의 정수를 반환"
   ]
  },
  {
   "cell_type": "code",
   "execution_count": 32,
   "id": "38d2dfb5",
   "metadata": {},
   "outputs": [
    {
     "data": {
      "text/plain": [
       "4"
      ]
     },
     "execution_count": 32,
     "metadata": {},
     "output_type": "execute_result"
    }
   ],
   "source": [
    "random.randrange(1,7) # 1~6 의 임의의 정수를 반환"
   ]
  },
  {
   "cell_type": "code",
   "execution_count": 33,
   "id": "7356dea8",
   "metadata": {},
   "outputs": [
    {
     "data": {
      "text/plain": [
       "0"
      ]
     },
     "execution_count": 33,
     "metadata": {},
     "output_type": "execute_result"
    }
   ],
   "source": [
    "random.randrange(0,10,2) # 0,2,4,6,8 중 하나를 반환한다."
   ]
  },
  {
   "cell_type": "code",
   "execution_count": 46,
   "id": "f3df6bee",
   "metadata": {},
   "outputs": [
    {
     "data": {
      "text/plain": [
       "[30, 50, 20, 10, 40]"
      ]
     },
     "execution_count": 46,
     "metadata": {},
     "output_type": "execute_result"
    }
   ],
   "source": [
    "lst = [10,20,30,40,50]\n",
    "\n",
    "random.shuffle(lst) # 리스트의 순서를 랜덤하게 섞는다.\n",
    "lst"
   ]
  },
  {
   "cell_type": "code",
   "execution_count": 47,
   "id": "19bf7568",
   "metadata": {},
   "outputs": [
    {
     "data": {
      "text/plain": [
       "50"
      ]
     },
     "execution_count": 47,
     "metadata": {},
     "output_type": "execute_result"
    }
   ],
   "source": [
    "random.choice(lst) # 리스트 중 하나를 랜덤으로 고른다."
   ]
  }
 ],
 "metadata": {
  "kernelspec": {
   "display_name": "Python 3",
   "language": "python",
   "name": "python3"
  },
  "language_info": {
   "codemirror_mode": {
    "name": "ipython",
    "version": 3
   },
   "file_extension": ".py",
   "mimetype": "text/x-python",
   "name": "python",
   "nbconvert_exporter": "python",
   "pygments_lexer": "ipython3",
   "version": "3.8.8"
  }
 },
 "nbformat": 4,
 "nbformat_minor": 5
}
