{
 "cells": [
  {
   "cell_type": "code",
   "execution_count": 1,
   "id": "91a1177f-5354-4fbb-bb1a-c36155eb5cfd",
   "metadata": {},
   "outputs": [],
   "source": [
    "# 셀 상의 변수 출력하는 환경 설정\n",
    "from IPython.core.interactiveshell import InteractiveShell\n",
    "InteractiveShell.ast_node_interactivity = \"all\""
   ]
  },
  {
   "cell_type": "markdown",
   "id": "529702e9-d77a-47e3-951f-b71593795b9e",
   "metadata": {},
   "source": [
    "#### NumPy 설치 및 특징"
   ]
  },
  {
   "cell_type": "code",
   "execution_count": 2,
   "id": "5b680755-931e-4381-899f-afc8e1c2365d",
   "metadata": {},
   "outputs": [
    {
     "data": {
      "text/plain": [
       "'1.20.3'"
      ]
     },
     "execution_count": 2,
     "metadata": {},
     "output_type": "execute_result"
    }
   ],
   "source": [
    "import numpy as np\n",
    "\n",
    "np.__version__"
   ]
  },
  {
   "cell_type": "code",
   "execution_count": 3,
   "id": "a04014f7-b90f-41e3-b28a-f6a571bb1d4f",
   "metadata": {},
   "outputs": [],
   "source": [
    "mid_scores = np.array([10,20,30])\n",
    "final_scores = np.array([60, 70, 80])"
   ]
  },
  {
   "cell_type": "code",
   "execution_count": 4,
   "id": "b560c40f-44a3-4b5a-8418-7f81acf6cfa6",
   "metadata": {},
   "outputs": [
    {
     "name": "stdout",
     "output_type": "stream",
     "text": [
      "<class 'numpy.ndarray'> (3,)\n"
     ]
    }
   ],
   "source": [
    "print(type(mid_scores), mid_scores.shape)"
   ]
  },
  {
   "cell_type": "code",
   "execution_count": 5,
   "id": "34766420-465f-4c1f-939f-6ee3dbc4dc3b",
   "metadata": {},
   "outputs": [
    {
     "name": "stdout",
     "output_type": "stream",
     "text": [
      "[ 70  90 110] [35. 45. 55.] [170 190 210] [140 180 220]\n"
     ]
    }
   ],
   "source": [
    "total = mid_scores + final_scores\n",
    "print(total, total/2, total+100, total*2)"
   ]
  },
  {
   "cell_type": "markdown",
   "id": "c5889a72-8700-4dc4-bec3-a863a9857c8e",
   "metadata": {},
   "source": [
    "  \n",
    "##### 다차원배열"
   ]
  },
  {
   "cell_type": "code",
   "execution_count": 6,
   "id": "c375ce3f-04b8-429c-bc94-8f047e763a46",
   "metadata": {},
   "outputs": [
    {
     "ename": "AttributeError",
     "evalue": "'list' object has no attribute 'shape'",
     "output_type": "error",
     "traceback": [
      "\u001b[1;31m---------------------------------------------------------------------------\u001b[0m",
      "\u001b[1;31mAttributeError\u001b[0m                            Traceback (most recent call last)",
      "\u001b[1;32m~\\AppData\\Local\\Temp/ipykernel_24564/3098605454.py\u001b[0m in \u001b[0;36m<module>\u001b[1;34m\u001b[0m\n\u001b[0;32m      1\u001b[0m \u001b[0mx\u001b[0m \u001b[1;33m=\u001b[0m \u001b[1;33m[\u001b[0m\u001b[1;36m1\u001b[0m\u001b[1;33m,\u001b[0m \u001b[1;36m2\u001b[0m\u001b[1;33m,\u001b[0m \u001b[1;36m3\u001b[0m\u001b[1;33m]\u001b[0m\u001b[1;33m\u001b[0m\u001b[1;33m\u001b[0m\u001b[0m\n\u001b[1;32m----> 2\u001b[1;33m \u001b[0mx\u001b[0m\u001b[1;33m.\u001b[0m\u001b[0mshape\u001b[0m\u001b[1;33m\u001b[0m\u001b[1;33m\u001b[0m\u001b[0m\n\u001b[0m",
      "\u001b[1;31mAttributeError\u001b[0m: 'list' object has no attribute 'shape'"
     ]
    }
   ],
   "source": [
    "x = [1, 2, 3]\n",
    "x.shape"
   ]
  },
  {
   "cell_type": "code",
   "execution_count": 7,
   "id": "e7a159c7-4270-4c9f-9555-9690bcef2ac2",
   "metadata": {},
   "outputs": [
    {
     "name": "stdout",
     "output_type": "stream",
     "text": [
      "(3, 2, 3)\n",
      "3\n",
      "int32\n",
      "4\n",
      "18\n"
     ]
    }
   ],
   "source": [
    "x = [[[1,2,3], [4,5,6]], [[1,2,3], [4,5,6]], [[1,2,3], [4,5,6]]]\n",
    "\n",
    "a = np.array(x)\n",
    "\n",
    "print(a.shape) # 배열의 차원 (튜플)\n",
    "print(a.ndim) # 차원의 개수\n",
    "print(a.dtype) # 배열 내 원소의 타입\n",
    "print(a.itemsize) # 배열 내 원소의 크기를 바이트 단위로 기술\n",
    "print(a.size) # 배열 원소의 개수"
   ]
  },
  {
   "cell_type": "markdown",
   "id": "4b4eaf5d-79f2-412b-9a80-98b60bb4968b",
   "metadata": {},
   "source": [
    "##### LAB10-1 nadrray 객체를 생성하고 속성을 알아보자"
   ]
  },
  {
   "cell_type": "code",
   "execution_count": 8,
   "id": "8817af8b-5baf-4367-a4d4-779d7d33f10c",
   "metadata": {},
   "outputs": [
    {
     "name": "stdout",
     "output_type": "stream",
     "text": [
      "실습 1 : array_a = [0 1 2 3 4 5 6 7 8 9]\n",
      "실습 2 : array_b = [0 1 2 3 4 5 6 7 8 9]\n",
      "실습 3 : array_c = [0 2 4 6 8]\n",
      "실습 4: \n",
      "array_c의 shape : (5,)\n",
      "array_c의 ndim : 1\n",
      "array_c의 dtype : int32\n",
      "array_c의 size : 5\n",
      "array_c의 itemsize : 4\n"
     ]
    }
   ],
   "source": [
    "# 실습 1\n",
    "array_a = np.array([0, 1, 2, 3, 4, 5, 6, 7, 8, 9])\n",
    "print('실습 1 : array_a =', array_a)\n",
    "\n",
    "# 실습 2\n",
    "array_b = np.array(range(10))\n",
    "print('실습 2 : array_b =', array_b)\n",
    "\n",
    "# 실습 3\n",
    "array_c = np.array(range(0,10,2))\n",
    "print('실습 3 : array_c =', array_c)\n",
    "\n",
    "# 실습 4\n",
    "print('실습 4: ')\n",
    "print('array_c의 shape :', array_c.shape)\n",
    "print('array_c의 ndim :', array_c.ndim)\n",
    "print('array_c의 dtype :', array_c.dtype)\n",
    "print('array_c의 size :', array_c.size)\n",
    "print('array_c의 itemsize :',array_c.itemsize)"
   ]
  },
  {
   "cell_type": "markdown",
   "id": "d76dfaad-99e3-4224-8f60-f40073f1bedb",
   "metadata": {},
   "source": [
    "#### ndarray 객체 배열 연산"
   ]
  },
  {
   "cell_type": "markdown",
   "id": "9346c07c-668c-4f0e-bccc-2f68eadf756f",
   "metadata": {},
   "source": [
    "##### LAB10-2 여러 사람의 BMI를 빠르고 간편하게 계산하기"
   ]
  },
  {
   "cell_type": "code",
   "execution_count": 9,
   "id": "fb78d1c2-0619-4426-a495-fcb95d42778b",
   "metadata": {},
   "outputs": [
    {
     "name": "stdout",
     "output_type": "stream",
     "text": [
      "대상자들의 키: [1.83 1.76 1.69 1.86 1.77 1.73]\n",
      "대상자들의 몸무게: [86 74 59 95 80 68]\n",
      "대상자들의 BMI\n",
      "[25.68007405 23.88946281 20.65754    27.45982194 25.53544639 22.72043837]\n"
     ]
    }
   ],
   "source": [
    "heights = [ 1.83, 1.76, 1.69, 1.86, 1.77, 1.73 ] \n",
    "weights = [ 86, 74, 59, 95, 80, 68 ] \n",
    "\n",
    "np_heights = np.array(heights) \n",
    "np_weights = np.array(weights) \n",
    " \n",
    "bmi = np_weights/(np_heights**2) \n",
    "print('대상자들의 키:', np_heights)\n",
    "print('대상자들의 몸무게:', np_weights)\n",
    "print('대상자들의 BMI')\n",
    "print(bmi)"
   ]
  },
  {
   "cell_type": "markdown",
   "id": "3c11e7c7-d286-4c9b-a715-38aa9c4bcde4",
   "metadata": {},
   "source": [
    "#### 인덱싱 Indexing과 슬라이싱 Slicing"
   ]
  },
  {
   "cell_type": "markdown",
   "id": "1c80e1a2-0ac2-4a92-b087-117b66a60cf2",
   "metadata": {},
   "source": [
    "##### 논리적인 인덱싱"
   ]
  },
  {
   "cell_type": "code",
   "execution_count": 10,
   "id": "7a35eea9-daf3-4a62-b4d6-4299fe45f3c7",
   "metadata": {},
   "outputs": [],
   "source": [
    "x = [18, 19, 25, 30, 28]\n",
    "ages = np.array(x)"
   ]
  },
  {
   "cell_type": "code",
   "execution_count": 11,
   "id": "c7dae11d-ceda-43b5-861a-8aee573c662d",
   "metadata": {},
   "outputs": [
    {
     "data": {
      "text/plain": [
       "array([False, False,  True,  True,  True])"
      ]
     },
     "execution_count": 11,
     "metadata": {},
     "output_type": "execute_result"
    }
   ],
   "source": [
    "y = ages > 20\n",
    "y"
   ]
  },
  {
   "cell_type": "code",
   "execution_count": 12,
   "id": "da952010-81f0-403c-9ba3-6a13a79aac65",
   "metadata": {},
   "outputs": [
    {
     "data": {
      "text/plain": [
       "array([25, 30, 28])"
      ]
     },
     "execution_count": 12,
     "metadata": {},
     "output_type": "execute_result"
    }
   ],
   "source": [
    "ages[ages>20]"
   ]
  },
  {
   "cell_type": "code",
   "execution_count": 13,
   "id": "0b0bc9db-17b4-4d1b-9dd6-20ba130213e8",
   "metadata": {},
   "outputs": [
    {
     "data": {
      "text/plain": [
       "array([25.68007405, 27.45982194, 25.53544639])"
      ]
     },
     "execution_count": 13,
     "metadata": {},
     "output_type": "execute_result"
    }
   ],
   "source": [
    "heights = [ 1.83, 1.76, 1.69, 1.86, 1.77, 1.73 ] \n",
    "weights = [ 86, 74, 59, 95, 80, 68 ]\n",
    "\n",
    "bmi = np_weights/(np_heights**2)\n",
    "bmi[bmi>25]"
   ]
  },
  {
   "cell_type": "markdown",
   "id": "ae244b3e-e692-4dc2-bb20-5c5e2e047681",
   "metadata": {},
   "source": [
    "#### 2차원 배열의 인덱싱"
   ]
  },
  {
   "cell_type": "code",
   "execution_count": 14,
   "id": "2a41e7a2-2a20-4313-9120-be7dda64061b",
   "metadata": {},
   "outputs": [
    {
     "data": {
      "text/plain": [
       "array([[ 1,  2,  3,  4],\n",
       "       [ 5,  6,  7,  8],\n",
       "       [ 9, 10, 11, 12],\n",
       "       [13, 14, 15, 16]])"
      ]
     },
     "execution_count": 14,
     "metadata": {},
     "output_type": "execute_result"
    }
   ],
   "source": [
    "y = [[1,2,3,4],[5,6,7,8],[9,10,11,12],[13,14,15,16]]\n",
    "np_y = np.array(y)\n",
    "np_y"
   ]
  },
  {
   "cell_type": "code",
   "execution_count": 15,
   "id": "80142a36-9a25-4c14-8acd-6b36e9e08939",
   "metadata": {},
   "outputs": [
    {
     "name": "stdout",
     "output_type": "stream",
     "text": [
      "(4, 4) 2\n"
     ]
    }
   ],
   "source": [
    "print(np_y.shape, np_y.ndim)"
   ]
  },
  {
   "cell_type": "code",
   "execution_count": 16,
   "id": "c4484e87-70e1-44c5-80d1-3979958982b5",
   "metadata": {},
   "outputs": [
    {
     "name": "stdout",
     "output_type": "stream",
     "text": [
      "[[3 4]\n",
      " [7 8]]\n",
      "[1 2 3 4]\n",
      "[6 7]\n"
     ]
    }
   ],
   "source": [
    "print(np_y[0:2, 2:4])\n",
    "print(np_y[0])\n",
    "print(np_y[1,1:3])"
   ]
  },
  {
   "cell_type": "code",
   "execution_count": 17,
   "id": "6a2b8502-4c4b-410c-8c19-61dfb5d44d76",
   "metadata": {},
   "outputs": [
    {
     "data": {
      "text/plain": [
       "array([[[ 1,  2,  3,  4],\n",
       "        [ 5,  6,  7,  8]],\n",
       "\n",
       "       [[ 9, 10, 11, 12],\n",
       "        [13, 14, 15, 16]]])"
      ]
     },
     "execution_count": 17,
     "metadata": {},
     "output_type": "execute_result"
    }
   ],
   "source": [
    "a = np.arange(1,17)\n",
    "b = a.reshape(-1,2,4)\n",
    "b"
   ]
  },
  {
   "cell_type": "code",
   "execution_count": 18,
   "id": "04993ac9-46df-4aa7-a1b5-0bb5210a2fc2",
   "metadata": {},
   "outputs": [
    {
     "data": {
      "text/plain": [
       "array([[ 1,  2,  3,  4],\n",
       "       [ 5,  6,  7,  8],\n",
       "       [ 9, 10, 11, 12],\n",
       "       [13, 14, 15, 16]])"
      ]
     },
     "execution_count": 18,
     "metadata": {},
     "output_type": "execute_result"
    }
   ],
   "source": [
    "np_array = np.arange(1,17).reshape(4,4)\n",
    "np_array"
   ]
  },
  {
   "cell_type": "code",
   "execution_count": 19,
   "id": "a78eaa20-fcf5-4947-8d8f-d9cbad2a74b4",
   "metadata": {},
   "outputs": [
    {
     "data": {
      "text/plain": [
       "array([[1, 2, 3, 4],\n",
       "       [5, 6, 7, 8]])"
      ]
     },
     "execution_count": 19,
     "metadata": {},
     "output_type": "execute_result"
    }
   ],
   "source": [
    "np_array[0:2]"
   ]
  },
  {
   "cell_type": "code",
   "execution_count": 20,
   "id": "6a03f44a-2d38-4f11-a442-eddee309368b",
   "metadata": {},
   "outputs": [
    {
     "data": {
      "text/plain": [
       "array([1, 2, 3, 4])"
      ]
     },
     "execution_count": 20,
     "metadata": {},
     "output_type": "execute_result"
    },
    {
     "data": {
      "text/plain": [
       "array([1, 5])"
      ]
     },
     "execution_count": 20,
     "metadata": {},
     "output_type": "execute_result"
    }
   ],
   "source": [
    "np_array[0:2][0]\n",
    "np_array[0:2,0]"
   ]
  },
  {
   "cell_type": "code",
   "execution_count": 21,
   "id": "4d01b430-aba8-4ac0-8101-45d6a83f58d0",
   "metadata": {},
   "outputs": [
    {
     "data": {
      "text/plain": [
       "array([[ 1,  2,  3,  4],\n",
       "       [ 9, 10, 11, 12]])"
      ]
     },
     "execution_count": 21,
     "metadata": {},
     "output_type": "execute_result"
    },
    {
     "data": {
      "text/plain": [
       "array([[ 1,  2,  3,  4],\n",
       "       [ 9, 10, 11, 12]])"
      ]
     },
     "execution_count": 21,
     "metadata": {},
     "output_type": "execute_result"
    }
   ],
   "source": [
    "np_array[0:4:2]\n",
    "np_array[::2]"
   ]
  },
  {
   "cell_type": "code",
   "execution_count": 22,
   "id": "e6de540c-71f0-4bb0-aff6-c721357e5510",
   "metadata": {},
   "outputs": [
    {
     "data": {
      "text/plain": [
       "array([[1, 2, 3, 4]])"
      ]
     },
     "execution_count": 22,
     "metadata": {},
     "output_type": "execute_result"
    },
    {
     "data": {
      "text/plain": [
       "array([[ 1,  3],\n",
       "       [ 9, 11]])"
      ]
     },
     "execution_count": 22,
     "metadata": {},
     "output_type": "execute_result"
    }
   ],
   "source": [
    "np_array[::2][::2]\n",
    "np_array[::2,::2]"
   ]
  },
  {
   "cell_type": "code",
   "execution_count": 23,
   "id": "ea1e8a5b-90ad-4046-8ffc-e410141925af",
   "metadata": {},
   "outputs": [
    {
     "data": {
      "text/plain": [
       "array([[1, 2, 3, 4]])"
      ]
     },
     "execution_count": 23,
     "metadata": {},
     "output_type": "execute_result"
    }
   ],
   "source": [
    "a=np_array[::2]\n",
    "a[::2]"
   ]
  },
  {
   "cell_type": "markdown",
   "id": "8993ee33-4c8a-4887-b302-d2ece72e485a",
   "metadata": {},
   "source": [
    "2D 배열에서 논리적인 인덱싱"
   ]
  },
  {
   "cell_type": "code",
   "execution_count": 24,
   "id": "3f3c8449-abc7-4008-8211-80b047972727",
   "metadata": {},
   "outputs": [
    {
     "data": {
      "text/plain": [
       "array([[False, False, False, False],\n",
       "       [False,  True,  True,  True],\n",
       "       [ True,  True,  True,  True],\n",
       "       [ True,  True,  True,  True]])"
      ]
     },
     "execution_count": 24,
     "metadata": {},
     "output_type": "execute_result"
    },
    {
     "data": {
      "text/plain": [
       "array([ 6,  7,  8,  9, 10, 11, 12, 13, 14, 15, 16])"
      ]
     },
     "execution_count": 24,
     "metadata": {},
     "output_type": "execute_result"
    }
   ],
   "source": [
    "np_array>5\n",
    "\n",
    "np_array[np_array>5]"
   ]
  },
  {
   "cell_type": "code",
   "execution_count": 25,
   "id": "f3b09332-b6eb-46f9-afa3-760446748549",
   "metadata": {},
   "outputs": [
    {
     "data": {
      "text/plain": [
       "array([ 3,  7, 11, 15])"
      ]
     },
     "execution_count": 25,
     "metadata": {},
     "output_type": "execute_result"
    },
    {
     "data": {
      "text/plain": [
       "array([False,  True,  True,  True])"
      ]
     },
     "execution_count": 25,
     "metadata": {},
     "output_type": "execute_result"
    }
   ],
   "source": [
    "np_array[:,2]\n",
    "np_array[:,2]>5"
   ]
  },
  {
   "cell_type": "code",
   "execution_count": 26,
   "id": "af8f4134-7f2b-45d2-97c9-709bdc5eb144",
   "metadata": {},
   "outputs": [
    {
     "data": {
      "text/plain": [
       "array([[False,  True, False,  True],\n",
       "       [False,  True, False,  True],\n",
       "       [False,  True, False,  True],\n",
       "       [False,  True, False,  True]])"
      ]
     },
     "execution_count": 26,
     "metadata": {},
     "output_type": "execute_result"
    },
    {
     "data": {
      "text/plain": [
       "array([ 2,  4,  6,  8, 10, 12, 14, 16])"
      ]
     },
     "execution_count": 26,
     "metadata": {},
     "output_type": "execute_result"
    }
   ],
   "source": [
    "# 짝수 구하기\n",
    "np_array %2 ==0\n",
    "np_array[np_array %2 ==0]"
   ]
  },
  {
   "cell_type": "markdown",
   "id": "f48d1a2d-839a-4135-8b38-ff662c0358c7",
   "metadata": {},
   "source": [
    "##### LAB10-3 2차원 배열 연습하기"
   ]
  },
  {
   "cell_type": "code",
   "execution_count": 27,
   "id": "80aa64aa-0fa3-4743-a86d-73101d24ef5d",
   "metadata": {},
   "outputs": [
    {
     "data": {
      "text/plain": [
       "array(['c', 'c', 'c'], dtype='<U1')"
      ]
     },
     "execution_count": 27,
     "metadata": {},
     "output_type": "execute_result"
    }
   ],
   "source": [
    "x = np.array([['a', 'b', 'c', 'd'],\n",
    "              ['c', 'c', 'g', 'h']])\n",
    "x[ x == 'c']"
   ]
  },
  {
   "cell_type": "markdown",
   "id": "0e0b6035-f82d-448e-8a60-f5062652bb93",
   "metadata": {},
   "source": [
    "#### Boolean Indexing"
   ]
  },
  {
   "cell_type": "code",
   "execution_count": 28,
   "id": "b1c8af7c-4ee5-43fe-99ca-96c961444e0f",
   "metadata": {},
   "outputs": [],
   "source": [
    "# Numpy 객체 출력 용도의 pprint 함수 정의\n",
    "def pprint(arr):\n",
    "    print(\"type:{}\".format(type(arr)))\n",
    "    print(\"shape: {}, dimension: {}, dtype:{}\".format(arr.shape, arr.ndim, arr.dtype))\n",
    "    print(\"Array's Data:\\n\", arr)"
   ]
  },
  {
   "cell_type": "code",
   "execution_count": 29,
   "id": "f823aa19-4207-4128-ba5a-a9e7681caa4b",
   "metadata": {},
   "outputs": [
    {
     "data": {
      "text/plain": [
       "array([[ 1,  2,  3,  4,  5,  6],\n",
       "       [ 7,  8,  9, 10, 11, 12],\n",
       "       [13, 14, 15, 16, 17, 18],\n",
       "       [19, 20, 21, 22, 23, 24]])"
      ]
     },
     "execution_count": 29,
     "metadata": {},
     "output_type": "execute_result"
    }
   ],
   "source": [
    "a1 = np.arange(1,25).reshape(4,6)\n",
    "a1"
   ]
  },
  {
   "cell_type": "code",
   "execution_count": 30,
   "id": "29e56979-bd28-4538-9727-934af84319c1",
   "metadata": {},
   "outputs": [
    {
     "name": "stdout",
     "output_type": "stream",
     "text": [
      "[[False  True False  True False  True]\n",
      " [False  True False  True False  True]\n",
      " [False  True False  True False  True]\n",
      " [False  True False  True False  True]]\n"
     ]
    }
   ],
   "source": [
    "# 짝수인 요소 확인\n",
    "# numpy broadcasting을 이용하여 짝수인 배열 요소 확인\n",
    "even_arr = a1%2==0\n",
    "print(even_arr)"
   ]
  },
  {
   "cell_type": "code",
   "execution_count": 32,
   "id": "95c63a11-6482-4e94-a697-0d2d715da559",
   "metadata": {},
   "outputs": [
    {
     "data": {
      "text/plain": [
       "300"
      ]
     },
     "execution_count": 32,
     "metadata": {},
     "output_type": "execute_result"
    }
   ],
   "source": [
    "# a1[a1%2==0] 동일한 의미\n",
    "b1=a1[even_arr]\n",
    "np.sum(a1)"
   ]
  },
  {
   "cell_type": "markdown",
   "id": "916a210d-f05b-47bc-8157-17e2f4049f4e",
   "metadata": {},
   "source": [
    "##### 2014 시애틀 강수량 데이터 : 1월 평균 강수량은?  \n",
    "data/Seattle2014.csv"
   ]
  },
  {
   "cell_type": "code",
   "execution_count": 33,
   "id": "140a834a-2904-46e3-98b2-88c2694d05c8",
   "metadata": {},
   "outputs": [
    {
     "data": {
      "text/html": [
       "<div>\n",
       "<style scoped>\n",
       "    .dataframe tbody tr th:only-of-type {\n",
       "        vertical-align: middle;\n",
       "    }\n",
       "\n",
       "    .dataframe tbody tr th {\n",
       "        vertical-align: top;\n",
       "    }\n",
       "\n",
       "    .dataframe thead th {\n",
       "        text-align: right;\n",
       "    }\n",
       "</style>\n",
       "<table border=\"1\" class=\"dataframe\">\n",
       "  <thead>\n",
       "    <tr style=\"text-align: right;\">\n",
       "      <th></th>\n",
       "      <th>STATION</th>\n",
       "      <th>STATION_NAME</th>\n",
       "      <th>DATE</th>\n",
       "      <th>PRCP</th>\n",
       "      <th>SNWD</th>\n",
       "      <th>SNOW</th>\n",
       "      <th>TMAX</th>\n",
       "      <th>TMIN</th>\n",
       "      <th>AWND</th>\n",
       "      <th>WDF2</th>\n",
       "      <th>WDF5</th>\n",
       "      <th>WSF2</th>\n",
       "      <th>WSF5</th>\n",
       "      <th>WT01</th>\n",
       "      <th>WT05</th>\n",
       "      <th>WT02</th>\n",
       "      <th>WT03</th>\n",
       "    </tr>\n",
       "  </thead>\n",
       "  <tbody>\n",
       "    <tr>\n",
       "      <th>0</th>\n",
       "      <td>GHCND:USW00024233</td>\n",
       "      <td>SEATTLE TACOMA INTERNATIONAL AIRPORT WA US</td>\n",
       "      <td>20140101</td>\n",
       "      <td>0</td>\n",
       "      <td>0</td>\n",
       "      <td>0</td>\n",
       "      <td>72</td>\n",
       "      <td>33</td>\n",
       "      <td>12</td>\n",
       "      <td>340</td>\n",
       "      <td>310</td>\n",
       "      <td>36</td>\n",
       "      <td>40</td>\n",
       "      <td>-9999</td>\n",
       "      <td>-9999</td>\n",
       "      <td>-9999</td>\n",
       "      <td>-9999</td>\n",
       "    </tr>\n",
       "    <tr>\n",
       "      <th>1</th>\n",
       "      <td>GHCND:USW00024233</td>\n",
       "      <td>SEATTLE TACOMA INTERNATIONAL AIRPORT WA US</td>\n",
       "      <td>20140102</td>\n",
       "      <td>41</td>\n",
       "      <td>0</td>\n",
       "      <td>0</td>\n",
       "      <td>106</td>\n",
       "      <td>61</td>\n",
       "      <td>32</td>\n",
       "      <td>190</td>\n",
       "      <td>200</td>\n",
       "      <td>94</td>\n",
       "      <td>116</td>\n",
       "      <td>-9999</td>\n",
       "      <td>-9999</td>\n",
       "      <td>-9999</td>\n",
       "      <td>-9999</td>\n",
       "    </tr>\n",
       "    <tr>\n",
       "      <th>2</th>\n",
       "      <td>GHCND:USW00024233</td>\n",
       "      <td>SEATTLE TACOMA INTERNATIONAL AIRPORT WA US</td>\n",
       "      <td>20140103</td>\n",
       "      <td>15</td>\n",
       "      <td>0</td>\n",
       "      <td>0</td>\n",
       "      <td>89</td>\n",
       "      <td>28</td>\n",
       "      <td>26</td>\n",
       "      <td>30</td>\n",
       "      <td>50</td>\n",
       "      <td>63</td>\n",
       "      <td>72</td>\n",
       "      <td>1</td>\n",
       "      <td>-9999</td>\n",
       "      <td>-9999</td>\n",
       "      <td>-9999</td>\n",
       "    </tr>\n",
       "    <tr>\n",
       "      <th>3</th>\n",
       "      <td>GHCND:USW00024233</td>\n",
       "      <td>SEATTLE TACOMA INTERNATIONAL AIRPORT WA US</td>\n",
       "      <td>20140104</td>\n",
       "      <td>0</td>\n",
       "      <td>0</td>\n",
       "      <td>0</td>\n",
       "      <td>78</td>\n",
       "      <td>6</td>\n",
       "      <td>27</td>\n",
       "      <td>40</td>\n",
       "      <td>40</td>\n",
       "      <td>45</td>\n",
       "      <td>58</td>\n",
       "      <td>1</td>\n",
       "      <td>-9999</td>\n",
       "      <td>-9999</td>\n",
       "      <td>-9999</td>\n",
       "    </tr>\n",
       "    <tr>\n",
       "      <th>4</th>\n",
       "      <td>GHCND:USW00024233</td>\n",
       "      <td>SEATTLE TACOMA INTERNATIONAL AIRPORT WA US</td>\n",
       "      <td>20140105</td>\n",
       "      <td>0</td>\n",
       "      <td>0</td>\n",
       "      <td>0</td>\n",
       "      <td>83</td>\n",
       "      <td>-5</td>\n",
       "      <td>37</td>\n",
       "      <td>10</td>\n",
       "      <td>10</td>\n",
       "      <td>67</td>\n",
       "      <td>76</td>\n",
       "      <td>-9999</td>\n",
       "      <td>-9999</td>\n",
       "      <td>-9999</td>\n",
       "      <td>-9999</td>\n",
       "    </tr>\n",
       "    <tr>\n",
       "      <th>...</th>\n",
       "      <td>...</td>\n",
       "      <td>...</td>\n",
       "      <td>...</td>\n",
       "      <td>...</td>\n",
       "      <td>...</td>\n",
       "      <td>...</td>\n",
       "      <td>...</td>\n",
       "      <td>...</td>\n",
       "      <td>...</td>\n",
       "      <td>...</td>\n",
       "      <td>...</td>\n",
       "      <td>...</td>\n",
       "      <td>...</td>\n",
       "      <td>...</td>\n",
       "      <td>...</td>\n",
       "      <td>...</td>\n",
       "      <td>...</td>\n",
       "    </tr>\n",
       "    <tr>\n",
       "      <th>360</th>\n",
       "      <td>GHCND:USW00024233</td>\n",
       "      <td>SEATTLE TACOMA INTERNATIONAL AIRPORT WA US</td>\n",
       "      <td>20141227</td>\n",
       "      <td>33</td>\n",
       "      <td>0</td>\n",
       "      <td>0</td>\n",
       "      <td>94</td>\n",
       "      <td>44</td>\n",
       "      <td>49</td>\n",
       "      <td>210</td>\n",
       "      <td>210</td>\n",
       "      <td>112</td>\n",
       "      <td>161</td>\n",
       "      <td>1</td>\n",
       "      <td>-9999</td>\n",
       "      <td>-9999</td>\n",
       "      <td>-9999</td>\n",
       "    </tr>\n",
       "    <tr>\n",
       "      <th>361</th>\n",
       "      <td>GHCND:USW00024233</td>\n",
       "      <td>SEATTLE TACOMA INTERNATIONAL AIRPORT WA US</td>\n",
       "      <td>20141228</td>\n",
       "      <td>41</td>\n",
       "      <td>0</td>\n",
       "      <td>0</td>\n",
       "      <td>67</td>\n",
       "      <td>28</td>\n",
       "      <td>18</td>\n",
       "      <td>50</td>\n",
       "      <td>30</td>\n",
       "      <td>58</td>\n",
       "      <td>72</td>\n",
       "      <td>1</td>\n",
       "      <td>-9999</td>\n",
       "      <td>-9999</td>\n",
       "      <td>-9999</td>\n",
       "    </tr>\n",
       "    <tr>\n",
       "      <th>362</th>\n",
       "      <td>GHCND:USW00024233</td>\n",
       "      <td>SEATTLE TACOMA INTERNATIONAL AIRPORT WA US</td>\n",
       "      <td>20141229</td>\n",
       "      <td>0</td>\n",
       "      <td>0</td>\n",
       "      <td>0</td>\n",
       "      <td>61</td>\n",
       "      <td>6</td>\n",
       "      <td>43</td>\n",
       "      <td>350</td>\n",
       "      <td>350</td>\n",
       "      <td>76</td>\n",
       "      <td>103</td>\n",
       "      <td>1</td>\n",
       "      <td>-9999</td>\n",
       "      <td>-9999</td>\n",
       "      <td>-9999</td>\n",
       "    </tr>\n",
       "    <tr>\n",
       "      <th>363</th>\n",
       "      <td>GHCND:USW00024233</td>\n",
       "      <td>SEATTLE TACOMA INTERNATIONAL AIRPORT WA US</td>\n",
       "      <td>20141230</td>\n",
       "      <td>0</td>\n",
       "      <td>0</td>\n",
       "      <td>0</td>\n",
       "      <td>33</td>\n",
       "      <td>-21</td>\n",
       "      <td>36</td>\n",
       "      <td>90</td>\n",
       "      <td>70</td>\n",
       "      <td>63</td>\n",
       "      <td>76</td>\n",
       "      <td>-9999</td>\n",
       "      <td>-9999</td>\n",
       "      <td>-9999</td>\n",
       "      <td>-9999</td>\n",
       "    </tr>\n",
       "    <tr>\n",
       "      <th>364</th>\n",
       "      <td>GHCND:USW00024233</td>\n",
       "      <td>SEATTLE TACOMA INTERNATIONAL AIRPORT WA US</td>\n",
       "      <td>20141231</td>\n",
       "      <td>0</td>\n",
       "      <td>0</td>\n",
       "      <td>0</td>\n",
       "      <td>33</td>\n",
       "      <td>-27</td>\n",
       "      <td>30</td>\n",
       "      <td>30</td>\n",
       "      <td>-9999</td>\n",
       "      <td>58</td>\n",
       "      <td>-9999</td>\n",
       "      <td>-9999</td>\n",
       "      <td>-9999</td>\n",
       "      <td>-9999</td>\n",
       "      <td>-9999</td>\n",
       "    </tr>\n",
       "  </tbody>\n",
       "</table>\n",
       "<p>365 rows × 17 columns</p>\n",
       "</div>"
      ],
      "text/plain": [
       "               STATION                                STATION_NAME      DATE  \\\n",
       "0    GHCND:USW00024233  SEATTLE TACOMA INTERNATIONAL AIRPORT WA US  20140101   \n",
       "1    GHCND:USW00024233  SEATTLE TACOMA INTERNATIONAL AIRPORT WA US  20140102   \n",
       "2    GHCND:USW00024233  SEATTLE TACOMA INTERNATIONAL AIRPORT WA US  20140103   \n",
       "3    GHCND:USW00024233  SEATTLE TACOMA INTERNATIONAL AIRPORT WA US  20140104   \n",
       "4    GHCND:USW00024233  SEATTLE TACOMA INTERNATIONAL AIRPORT WA US  20140105   \n",
       "..                 ...                                         ...       ...   \n",
       "360  GHCND:USW00024233  SEATTLE TACOMA INTERNATIONAL AIRPORT WA US  20141227   \n",
       "361  GHCND:USW00024233  SEATTLE TACOMA INTERNATIONAL AIRPORT WA US  20141228   \n",
       "362  GHCND:USW00024233  SEATTLE TACOMA INTERNATIONAL AIRPORT WA US  20141229   \n",
       "363  GHCND:USW00024233  SEATTLE TACOMA INTERNATIONAL AIRPORT WA US  20141230   \n",
       "364  GHCND:USW00024233  SEATTLE TACOMA INTERNATIONAL AIRPORT WA US  20141231   \n",
       "\n",
       "     PRCP  SNWD  SNOW  TMAX  TMIN  AWND  WDF2  WDF5  WSF2  WSF5  WT01  WT05  \\\n",
       "0       0     0     0    72    33    12   340   310    36    40 -9999 -9999   \n",
       "1      41     0     0   106    61    32   190   200    94   116 -9999 -9999   \n",
       "2      15     0     0    89    28    26    30    50    63    72     1 -9999   \n",
       "3       0     0     0    78     6    27    40    40    45    58     1 -9999   \n",
       "4       0     0     0    83    -5    37    10    10    67    76 -9999 -9999   \n",
       "..    ...   ...   ...   ...   ...   ...   ...   ...   ...   ...   ...   ...   \n",
       "360    33     0     0    94    44    49   210   210   112   161     1 -9999   \n",
       "361    41     0     0    67    28    18    50    30    58    72     1 -9999   \n",
       "362     0     0     0    61     6    43   350   350    76   103     1 -9999   \n",
       "363     0     0     0    33   -21    36    90    70    63    76 -9999 -9999   \n",
       "364     0     0     0    33   -27    30    30 -9999    58 -9999 -9999 -9999   \n",
       "\n",
       "     WT02  WT03  \n",
       "0   -9999 -9999  \n",
       "1   -9999 -9999  \n",
       "2   -9999 -9999  \n",
       "3   -9999 -9999  \n",
       "4   -9999 -9999  \n",
       "..    ...   ...  \n",
       "360 -9999 -9999  \n",
       "361 -9999 -9999  \n",
       "362 -9999 -9999  \n",
       "363 -9999 -9999  \n",
       "364 -9999 -9999  \n",
       "\n",
       "[365 rows x 17 columns]"
      ]
     },
     "execution_count": 33,
     "metadata": {},
     "output_type": "execute_result"
    }
   ],
   "source": [
    "# 데이터 로딩\n",
    "import numpy as np\n",
    "import pandas as pd\n",
    "rains_in_seattle = pd.read_csv(\"./data/seattle2014.csv\")\n",
    "rains_in_seattle"
   ]
  },
  {
   "cell_type": "code",
   "execution_count": 35,
   "id": "d271b3bf-7e8e-422b-bd2b-5d97c5d1ecc2",
   "metadata": {},
   "outputs": [
    {
     "name": "stdout",
     "output_type": "stream",
     "text": [
      "0       0\n",
      "1      41\n",
      "2      15\n",
      "3       0\n",
      "4       0\n",
      "       ..\n",
      "360    33\n",
      "361    41\n",
      "362     0\n",
      "363     0\n",
      "364     0\n",
      "Name: PRCP, Length: 365, dtype: int64\n",
      "Data Size: 365\n",
      "<class 'numpy.ndarray'> (365,)\n"
     ]
    }
   ],
   "source": [
    "print(rains_in_seattle['PRCP'])\n",
    "\n",
    "rains_arr = rains_in_seattle['PRCP'].values\n",
    "print(\"Data Size:\", len(rains_arr))\n",
    "print(type(rains_arr), rains_arr.shape)"
   ]
  },
  {
   "cell_type": "code",
   "execution_count": 36,
   "id": "83d5c0c4-c5c0-47cb-8630-f2498c27aea3",
   "metadata": {},
   "outputs": [
    {
     "data": {
      "text/plain": [
       "array([  0,  41,  15,   0,   0,   3, 122,  97,  58,  43, 213,  15,   0,\n",
       "         0,   0,   0,   0,   0,   0,   0,   0,   5,   0,   0,   0,   0,\n",
       "         0,  89, 216,   0,  23,  20,   0,   0,   0,   0,   0,   0,  51,\n",
       "         5, 183, 170,  46,  18,  94, 117, 264, 145, 152,  10,  30,  28,\n",
       "        25,  61, 130,   3,   0,   0,   0,   5, 191, 107, 165, 467,  30,\n",
       "         0, 323,  43, 188,   0,   0,   5,  69,  81, 277,   3,   0,   5,\n",
       "         0,   0,   0,   0,   0,  41,  36,   3, 221, 140,   0,   0,   0,\n",
       "         0,  25,   0,  46,   0,   0,  46,   0,   0,   0,   0,   0,   0,\n",
       "         5, 109, 185,   0, 137,   0,  51, 142,  89, 124,   0,  33,  69,\n",
       "         0,   0,   0,   0,   0, 333, 160,  51,   0,   0, 137,  20,   5,\n",
       "         0,   0,   0,   0,   0,   0,   0,   0,   0,   0,   0,   0,  38,\n",
       "         0,  56,   0,   0,   0,   0,   0,   0,   0,   0,   0,   0,   0,\n",
       "         0,   0,   0,   0,   0,   0,  18,  64,   0,   5,  36,  13,   0,\n",
       "         8,   3,   0,   0,   0,   0,   0,   0,  18,  23,   0,   0,   0,\n",
       "         0,   0,   0,   0,   0,   0,   0,   0,   0,   0,   0,   0,   0,\n",
       "         0,   0,   0,   0,   0,   0,   0,   3, 193,   0,   0,   0,   0,\n",
       "         0,   0,   0,   0,   0,   5,   0,   0,   0,   0,   0,   0,   0,\n",
       "         0,   5, 127, 216,   0,  10,   0,   0,   0,   0,   0,   0,   0,\n",
       "         0,   0,   0,   0,   0,   0,   0,  84,  13,   0,  30,   0,   0,\n",
       "         0,   0,   0,   0,   0,   0,   0,   0,   0,   0,   0,   0,   5,\n",
       "         3,   0,   0,   0,   3, 183, 203,  43,  89,   0,   0,   8,   0,\n",
       "         0,   0,   0,   0,   0,   0,   0,   0,   0,   3,  74,   0,  76,\n",
       "        71,  86,   0,  33, 150,   0, 117,  10, 320,  94,  41,  61,  15,\n",
       "         8, 127,   5, 254, 170,   0,  18, 109,  41,  48,  41,   0,   0,\n",
       "        51,   0,   0,   0,   0,   0,   0,   0,   0,   0,   0,  36, 152,\n",
       "         5, 119,  13, 183,   3,  33, 343,  36,   0,   0,   0,   0,   8,\n",
       "        30,  74,   0,  91,  99, 130,  69,   0,   0,   0,   0,   0,  28,\n",
       "       130,  30, 196,   0,   0, 206,  53,   0,   0,  33,  41,   0,   0,\n",
       "         0], dtype=int64)"
      ]
     },
     "execution_count": 36,
     "metadata": {},
     "output_type": "execute_result"
    }
   ],
   "source": [
    "rains_arr"
   ]
  },
  {
   "cell_type": "code",
   "execution_count": 45,
   "id": "846825b4-6f16-4924-9e0b-644051b23818",
   "metadata": {},
   "outputs": [
    {
     "data": {
      "text/plain": [
       "array([ True,  True,  True,  True,  True,  True,  True,  True,  True,\n",
       "        True,  True,  True,  True,  True,  True,  True,  True,  True,\n",
       "        True,  True,  True,  True,  True,  True,  True,  True,  True,\n",
       "        True,  True,  True,  True, False, False, False, False, False,\n",
       "       False, False, False, False, False, False, False, False, False,\n",
       "       False, False, False, False, False, False, False, False, False,\n",
       "       False, False, False, False, False, False, False, False, False,\n",
       "       False, False, False, False, False, False, False, False, False,\n",
       "       False, False, False, False, False, False, False, False, False,\n",
       "       False, False, False, False, False, False, False, False, False,\n",
       "       False, False, False, False, False, False, False, False, False,\n",
       "       False, False, False, False, False, False, False, False, False,\n",
       "       False, False, False, False, False, False, False, False, False,\n",
       "       False, False, False, False, False, False, False, False, False,\n",
       "       False, False, False, False, False, False, False, False, False,\n",
       "       False, False, False, False, False, False, False, False, False,\n",
       "       False, False, False, False, False, False, False, False, False,\n",
       "       False, False, False, False, False, False, False, False, False,\n",
       "       False, False, False, False, False, False, False, False, False,\n",
       "       False, False, False, False, False, False, False, False, False,\n",
       "       False, False, False, False, False, False, False, False, False,\n",
       "       False, False, False, False, False, False, False, False, False,\n",
       "       False, False, False, False, False, False, False, False, False,\n",
       "       False, False, False, False, False, False, False, False, False,\n",
       "       False, False, False, False, False, False, False, False, False,\n",
       "       False, False, False, False, False, False, False, False, False,\n",
       "       False, False, False, False, False, False, False, False, False,\n",
       "       False, False, False, False, False, False, False, False, False,\n",
       "       False, False, False, False, False, False, False, False, False,\n",
       "       False, False, False, False, False, False, False, False, False,\n",
       "       False, False, False, False, False, False, False, False, False,\n",
       "       False, False, False, False, False, False, False, False, False,\n",
       "       False, False, False, False, False, False, False, False, False,\n",
       "       False, False, False, False, False, False, False, False, False,\n",
       "       False, False, False, False, False, False, False, False, False,\n",
       "       False, False, False, False, False, False, False, False, False,\n",
       "       False, False, False, False, False, False, False, False, False,\n",
       "       False, False, False, False, False, False, False, False, False,\n",
       "       False, False, False, False, False, False, False, False, False,\n",
       "       False, False, False, False, False, False, False, False, False,\n",
       "       False, False, False, False, False])"
      ]
     },
     "execution_count": 45,
     "metadata": {},
     "output_type": "execute_result"
    }
   ],
   "source": [
    "# 날짜 배열 \n",
    "days_arr = np.arange(0, 365)\n",
    "\n",
    "# 1월의 날수 boolean index 생성\n",
    "condition_jan = days_arr < 31\n",
    "condition_jan"
   ]
  },
  {
   "cell_type": "code",
   "execution_count": 42,
   "id": "8e30ab13-271f-410c-8b57-3d3574cfcdc0",
   "metadata": {},
   "outputs": [
    {
     "data": {
      "text/plain": [
       "array([  0,  41,  15,   0,   0,   3, 122,  97,  58,  43, 213,  15,   0,\n",
       "         0,   0,   0,   0,   0,   0,   0,   0,   5,   0,   0,   0,   0,\n",
       "         0,  89, 216,   0,  23], dtype=int64)"
      ]
     },
     "execution_count": 42,
     "metadata": {},
     "output_type": "execute_result"
    },
    {
     "data": {
      "text/plain": [
       "31"
      ]
     },
     "execution_count": 42,
     "metadata": {},
     "output_type": "execute_result"
    }
   ],
   "source": [
    "#1월의 강수량 추출\n",
    "rains_jan = rains_arr[condition_jan]\n",
    "rains_jan\n",
    "\n",
    "\n",
    "#강수량 데이터 수 (1월: 31일)\n",
    "len(rains_jan)"
   ]
  },
  {
   "cell_type": "code",
   "execution_count": 43,
   "id": "2d91d1fa-9758-44cb-8ac2-461d05f3c617",
   "metadata": {},
   "outputs": [
    {
     "data": {
      "text/plain": [
       "940"
      ]
     },
     "execution_count": 43,
     "metadata": {},
     "output_type": "execute_result"
    }
   ],
   "source": [
    "# 1월 강수량 총합\n",
    "np.sum(rains_jan)"
   ]
  },
  {
   "cell_type": "code",
   "execution_count": 44,
   "id": "d7302ed5-1b65-409c-9756-8c63af4f854b",
   "metadata": {},
   "outputs": [
    {
     "data": {
      "text/plain": [
       "30.322580645161292"
      ]
     },
     "execution_count": 44,
     "metadata": {},
     "output_type": "execute_result"
    }
   ],
   "source": [
    "# 1월 평균 강수향\n",
    "np.mean(rains_jan)"
   ]
  },
  {
   "cell_type": "code",
   "execution_count": 46,
   "id": "8eeb8a45-1b46-4e88-b9d4-b6b98fb2bdb1",
   "metadata": {},
   "outputs": [
    {
     "data": {
      "text/plain": [
       "array([  0,   0,   0,   0,   0,   0,  51,   5, 183, 170,  46,  18,  94,\n",
       "       117, 264, 145, 152,  10], dtype=int64)"
      ]
     },
     "execution_count": 46,
     "metadata": {},
     "output_type": "execute_result"
    },
    {
     "data": {
      "text/plain": [
       "69.72222222222223"
      ]
     },
     "execution_count": 46,
     "metadata": {},
     "output_type": "execute_result"
    }
   ],
   "source": [
    "# 2 conditions : np.logical_and\n",
    "mask1 = days_arr > 31\n",
    "mask2 = days_arr < 50\n",
    "mask3 = np.logical_and(mask1, mask2)\n",
    "\n",
    "rains_days = rains_arr[mask3]\n",
    "rains_days\n",
    "np.mean(rains_days)"
   ]
  },
  {
   "cell_type": "code",
   "execution_count": 47,
   "id": "11a7e092-baec-4341-9f26-a3418cd94eec",
   "metadata": {},
   "outputs": [
    {
     "data": {
      "text/plain": [
       "array([ 41,  15,   3, 122,  97,  58,  43, 213,  15,   5,  89, 216,  23,\n",
       "        20,  51,   5, 183, 170,  46,  18,  94, 117, 264, 145, 152,  10,\n",
       "        30,  28,  25,  61, 130,   3,   5, 191, 107, 165, 467,  30, 323,\n",
       "        43, 188,   5,  69,  81, 277,   3,   5,  41,  36,   3, 221, 140,\n",
       "        25,  46,  46,   5, 109, 185, 137,  51, 142,  89, 124,  33,  69,\n",
       "       333, 160,  51, 137,  20,   5,  38,  56,  18,  64,   5,  36,  13,\n",
       "         8,   3,  18,  23,   3, 193,   5,   5, 127, 216,  10,  84,  13,\n",
       "        30,   5,   3,   3, 183, 203,  43,  89,   8,   3,  74,  76,  71,\n",
       "        86,  33, 150, 117,  10, 320,  94,  41,  61,  15,   8, 127,   5,\n",
       "       254, 170,  18, 109,  41,  48,  41,  51,  36, 152,   5, 119,  13,\n",
       "       183,   3,  33, 343,  36,   8,  30,  74,  91,  99, 130,  69,  28,\n",
       "       130,  30, 196, 206,  53,  33,  41], dtype=int64)"
      ]
     },
     "execution_count": 47,
     "metadata": {},
     "output_type": "execute_result"
    },
    {
     "data": {
      "text/plain": [
       "82.18666666666667"
      ]
     },
     "execution_count": 47,
     "metadata": {},
     "output_type": "execute_result"
    }
   ],
   "source": [
    "mask = rains_arr > 0\n",
    "rains_noempty = rains_arr[mask]\n",
    "rains_noempty\n",
    "np.mean(rains_noempty)"
   ]
  },
  {
   "cell_type": "markdown",
   "id": "534a204a-8ab0-4d80-b685-70e0fc39ad21",
   "metadata": {},
   "source": [
    "#### Fancy Indexing  \n",
    "배열에 인덱스 배열을 전달하여 요소를 참조"
   ]
  },
  {
   "cell_type": "markdown",
   "id": "9f507e0c-0990-47f9-b191-22ea17faca76",
   "metadata": {},
   "source": [
    "Fancy Case 1"
   ]
  },
  {
   "cell_type": "code",
   "execution_count": null,
   "id": "08befc4d-b2d2-46f7-825f-8db318ece6d3",
   "metadata": {},
   "outputs": [],
   "source": [
    "arr = np.arange(1, 25).reshape((4, 6))\n",
    "pprint(arr)"
   ]
  },
  {
   "cell_type": "code",
   "execution_count": null,
   "id": "3b5c66e0-773f-4c61-8d56-5e4277f5ea75",
   "metadata": {},
   "outputs": [],
   "source": [
    "a=[arr[0,0], arr[1, 1], arr[2, 2], arr[3, 3]]\n",
    "print(a, type(a))"
   ]
  },
  {
   "cell_type": "code",
   "execution_count": null,
   "id": "a9210a76-bda3-487f-ad4f-349cde5f77dd",
   "metadata": {},
   "outputs": [],
   "source": [
    "# 두 배열을 전달==> (0, 0), (1,1), (2,2), (3, 3)\n",
    "b=arr[[0, 1, 2, 3], [0, 1, 2, 3]]\n",
    "print(b, type(b))"
   ]
  },
  {
   "cell_type": "markdown",
   "id": "7d6742e2-b67e-46d2-ad7f-e2eefa85de12",
   "metadata": {},
   "source": [
    "Fancy Case 2"
   ]
  },
  {
   "cell_type": "code",
   "execution_count": null,
   "id": "3370e511-a424-4949-bdde-77d0e12cb500",
   "metadata": {},
   "outputs": [],
   "source": [
    "# 전체 행에 대해서, 1, 2번 컬럼 참조\n",
    "arr[:, [1, 2]]"
   ]
  },
  {
   "cell_type": "markdown",
   "id": "efccd8d5-906e-4124-b1e5-0c94676857ad",
   "metadata": {},
   "source": [
    "#### LAB10-4 넘파이 배열의 형태 알아내고 슬라이싱하여 연산"
   ]
  },
  {
   "cell_type": "code",
   "execution_count": null,
   "id": "c8c959d3-d1df-4118-90b3-668b9489e393",
   "metadata": {},
   "outputs": [],
   "source": [
    "x = np.array([[ 1.83, 1.76, 1.69, 1.86, 1.77, 1.73 ], \n",
    "              [ 86.0, 74.0, 59.0, 95.0, 80.0, 68.0 ]]) \n",
    "\n",
    "y = x[0:2, 1:3] \n",
    "z = x[0:2][1:3]\n",
    "\n",
    "print(y)\n",
    "print(z)"
   ]
  },
  {
   "cell_type": "code",
   "execution_count": null,
   "id": "c69443d0-b2fe-4fe9-a837-7ec0e02454f5",
   "metadata": {},
   "outputs": [],
   "source": [
    "print('x shape :', x.shape)\n",
    "print('y shape :', y.shape)\n",
    "print('z shape :', z.shape)\n",
    "print('z values = :', z)\n",
    "\n",
    "bmi = x[0] / x[1]**2\n",
    "print('BMI data')\n",
    "print(bmi)"
   ]
  },
  {
   "cell_type": "markdown",
   "id": "e4f16a7e-69ea-4957-acdd-5fbbf35e2ed7",
   "metadata": {},
   "source": [
    "#### LAB10-5 2차원 배열에서 특정 조건을 만족하는 행만 추출하기"
   ]
  },
  {
   "cell_type": "code",
   "execution_count": 48,
   "id": "197f882e-e5cb-4d23-b691-3584a0c393d8",
   "metadata": {},
   "outputs": [
    {
     "data": {
      "text/plain": [
       "array([[170. ,  76.4],\n",
       "       [183. ,  86.2],\n",
       "       [181. ,  78.5],\n",
       "       [176. ,  80.1]])"
      ]
     },
     "execution_count": 48,
     "metadata": {},
     "output_type": "execute_result"
    }
   ],
   "source": [
    "players = [[170, 76.4], \n",
    "           [183, 86.2], \n",
    "           [181, 78.5], \n",
    "           [176, 80.1]] \n",
    "\n",
    "np_players = np.array(players) \n",
    "np_players"
   ]
  },
  {
   "cell_type": "code",
   "execution_count": 50,
   "id": "ce583c3a-a725-4023-840e-057e4c3ecc2a",
   "metadata": {},
   "outputs": [
    {
     "name": "stdout",
     "output_type": "stream",
     "text": [
      "몸무게가 80 이상인 선수 정보\n",
      "[[183.   86.2]\n",
      " [176.   80.1]]\n",
      "키가 180 이상인 선수 정보\n",
      "[[183.   86.2]\n",
      " [181.   78.5]]\n"
     ]
    }
   ],
   "source": [
    "print('몸무게가 80 이상인 선수 정보')\n",
    "print(np_players[ np_players[:, 1] >= 80.0 ])\n",
    "\n",
    "print('키가 180 이상인 선수 정보')\n",
    "print(np_players[ np_players[:, 0] >= 180.0 ])"
   ]
  },
  {
   "cell_type": "markdown",
   "id": "b0ae9091-d267-4c5e-8d9d-3625ba2cba5d",
   "metadata": {},
   "source": [
    "####  \n",
    "#### 배열 생성 및 데이터 생성 함수"
   ]
  },
  {
   "cell_type": "markdown",
   "id": "24d5aa20-3abf-4f43-839a-bfea20aee1c7",
   "metadata": {},
   "source": [
    "arange() 함수와 range() 함수"
   ]
  },
  {
   "cell_type": "code",
   "execution_count": 51,
   "id": "c5a7f984-ad83-4b4c-99b9-cc82acf79e80",
   "metadata": {},
   "outputs": [
    {
     "data": {
      "text/plain": [
       "array([0, 1, 2, 3, 4, 5, 6, 7, 8, 9])"
      ]
     },
     "execution_count": 51,
     "metadata": {},
     "output_type": "execute_result"
    },
    {
     "data": {
      "text/plain": [
       "array([0, 2, 4, 6, 8])"
      ]
     },
     "execution_count": 51,
     "metadata": {},
     "output_type": "execute_result"
    },
    {
     "data": {
      "text/plain": [
       "array([0, 3, 6, 9])"
      ]
     },
     "execution_count": 51,
     "metadata": {},
     "output_type": "execute_result"
    },
    {
     "data": {
      "text/plain": [
       "array([0. , 0.2, 0.4, 0.6, 0.8])"
      ]
     },
     "execution_count": 51,
     "metadata": {},
     "output_type": "execute_result"
    }
   ],
   "source": [
    "np.arange(0,10)\n",
    "np.arange(0,10,2)\n",
    "np.arange(0,10,3)\n",
    "np.arange(0.0, 1.0, 0.2)"
   ]
  },
  {
   "cell_type": "code",
   "execution_count": null,
   "id": "1e98f018-cd96-40b2-97a4-325a21a0a592",
   "metadata": {},
   "outputs": [],
   "source": [
    "list(range(10))\n",
    "list(range(0,10,2))\n",
    "list(range(0, 1.0, 0.3)) # error"
   ]
  },
  {
   "cell_type": "code",
   "execution_count": 52,
   "id": "ba296469-9169-4010-b1c3-7e1798d927f2",
   "metadata": {},
   "outputs": [
    {
     "data": {
      "text/plain": [
       "array([0, 1, 2, 3, 4, 5, 6, 7, 8, 9])"
      ]
     },
     "execution_count": 52,
     "metadata": {},
     "output_type": "execute_result"
    }
   ],
   "source": [
    "np.array(range(10))"
   ]
  },
  {
   "cell_type": "markdown",
   "id": "70f6378c-c0ae-493f-9218-f2630a67e9f3",
   "metadata": {},
   "source": [
    "linspace() 함수와 logspace() 함수"
   ]
  },
  {
   "cell_type": "code",
   "execution_count": 53,
   "id": "20692aed-0945-4028-8da8-570e77501ffe",
   "metadata": {},
   "outputs": [
    {
     "data": {
      "text/plain": [
       "array([ 0.        ,  0.52631579,  1.05263158,  1.57894737,  2.10526316,\n",
       "        2.63157895,  3.15789474,  3.68421053,  4.21052632,  4.73684211,\n",
       "        5.26315789,  5.78947368,  6.31578947,  6.84210526,  7.36842105,\n",
       "        7.89473684,  8.42105263,  8.94736842,  9.47368421, 10.        ])"
      ]
     },
     "execution_count": 53,
     "metadata": {},
     "output_type": "execute_result"
    },
    {
     "data": {
      "text/plain": [
       "array([1.00000000e+00, 3.59381366e+00, 1.29154967e+01, 4.64158883e+01,\n",
       "       1.66810054e+02, 5.99484250e+02, 2.15443469e+03, 7.74263683e+03,\n",
       "       2.78255940e+04, 1.00000000e+05])"
      ]
     },
     "execution_count": 53,
     "metadata": {},
     "output_type": "execute_result"
    }
   ],
   "source": [
    "np.linspace(0, 10, 20)\n",
    "np.logspace(0, 5, 10)"
   ]
  },
  {
   "cell_type": "code",
   "execution_count": 54,
   "id": "60ca7613-7dfb-418c-9afb-3372ab0aa974",
   "metadata": {},
   "outputs": [
    {
     "name": "stdout",
     "output_type": "stream",
     "text": [
      "[ 1.25892541  1.40400425  1.565802    1.74624535  1.94748304  2.1719114\n",
      "  2.42220294  2.70133812  3.0126409   3.35981829  3.74700446  4.17881006\n",
      "  4.66037703  5.19743987  5.79639395  6.46437163  7.2093272   8.04013161\n",
      "  8.9666781  10.        ]\n"
     ]
    }
   ],
   "source": [
    "a = np.logspace(0.1, 1, 20, endpoint=True)\n",
    "print(a)"
   ]
  },
  {
   "cell_type": "code",
   "execution_count": 55,
   "id": "8a8b0c82-cf70-4314-b66b-a2665cb3477f",
   "metadata": {},
   "outputs": [
    {
     "data": {
      "text/plain": [
       "[<matplotlib.lines.Line2D at 0x20427e0a100>]"
      ]
     },
     "execution_count": 55,
     "metadata": {},
     "output_type": "execute_result"
    },
    {
     "data": {
      "image/png": "[encoded data removed]",
      "text/plain": [
       "<Figure size 432x288 with 1 Axes>"
      ]
     },
     "metadata": {
      "needs_background": "light"
     },
     "output_type": "display_data"
    }
   ],
   "source": [
    "import matplotlib.pyplot as plt \n",
    "plt.plot(a)"
   ]
  },
  {
   "cell_type": "code",
   "execution_count": null,
   "id": "550a7ac2-70c4-4f84-b05e-ce02dd5d5402",
   "metadata": {},
   "outputs": [],
   "source": [
    "'''\n",
    "Error (Old type)\n",
    "import matplotlib as plt \n",
    "plt.plot(a, '0')\n",
    "plt.show()\n",
    "'''"
   ]
  },
  {
   "cell_type": "markdown",
   "id": "f452fa9d-6442-4e7d-b6b0-c3f617edb1a6",
   "metadata": {},
   "source": [
    "배열의 형태를 바꾸는 reshape() 함수와 flatten() 함수"
   ]
  },
  {
   "cell_type": "code",
   "execution_count": 56,
   "id": "6334efe8-d1de-4076-8994-764ab614747c",
   "metadata": {},
   "outputs": [
    {
     "data": {
      "text/plain": [
       "array([ 0,  1,  2,  3,  4,  5,  6,  7,  8,  9, 10, 11])"
      ]
     },
     "execution_count": 56,
     "metadata": {},
     "output_type": "execute_result"
    }
   ],
   "source": [
    "y = np.arange(12)\n",
    "y"
   ]
  },
  {
   "cell_type": "code",
   "execution_count": 57,
   "id": "cffdacbb-02a6-4fbc-a6ad-905e19eb3045",
   "metadata": {},
   "outputs": [
    {
     "data": {
      "text/plain": [
       "array([[ 0,  1,  2,  3],\n",
       "       [ 4,  5,  6,  7],\n",
       "       [ 8,  9, 10, 11]])"
      ]
     },
     "execution_count": 57,
     "metadata": {},
     "output_type": "execute_result"
    },
    {
     "data": {
      "text/plain": [
       "array([[ 0,  1],\n",
       "       [ 2,  3],\n",
       "       [ 4,  5],\n",
       "       [ 6,  7],\n",
       "       [ 8,  9],\n",
       "       [10, 11]])"
      ]
     },
     "execution_count": 57,
     "metadata": {},
     "output_type": "execute_result"
    },
    {
     "ename": "ValueError",
     "evalue": "cannot reshape array of size 12 into shape (7,2)",
     "output_type": "error",
     "traceback": [
      "\u001b[1;31m---------------------------------------------------------------------------\u001b[0m",
      "\u001b[1;31mValueError\u001b[0m                                Traceback (most recent call last)",
      "\u001b[1;32m~\\AppData\\Local\\Temp/ipykernel_24564/1336169937.py\u001b[0m in \u001b[0;36m<module>\u001b[1;34m\u001b[0m\n\u001b[0;32m      1\u001b[0m \u001b[0my\u001b[0m\u001b[1;33m.\u001b[0m\u001b[0mreshape\u001b[0m\u001b[1;33m(\u001b[0m\u001b[1;36m3\u001b[0m\u001b[1;33m,\u001b[0m\u001b[1;36m4\u001b[0m\u001b[1;33m)\u001b[0m\u001b[1;33m\u001b[0m\u001b[1;33m\u001b[0m\u001b[0m\n\u001b[0;32m      2\u001b[0m \u001b[0my\u001b[0m\u001b[1;33m.\u001b[0m\u001b[0mreshape\u001b[0m\u001b[1;33m(\u001b[0m\u001b[1;36m6\u001b[0m\u001b[1;33m,\u001b[0m \u001b[1;33m-\u001b[0m\u001b[1;36m1\u001b[0m\u001b[1;33m)\u001b[0m\u001b[1;33m\u001b[0m\u001b[1;33m\u001b[0m\u001b[0m\n\u001b[1;32m----> 3\u001b[1;33m \u001b[0my\u001b[0m\u001b[1;33m.\u001b[0m\u001b[0mreshape\u001b[0m\u001b[1;33m(\u001b[0m\u001b[1;36m7\u001b[0m\u001b[1;33m,\u001b[0m\u001b[1;36m2\u001b[0m\u001b[1;33m)\u001b[0m \u001b[1;31m# error\u001b[0m\u001b[1;33m\u001b[0m\u001b[1;33m\u001b[0m\u001b[0m\n\u001b[0m",
      "\u001b[1;31mValueError\u001b[0m: cannot reshape array of size 12 into shape (7,2)"
     ]
    }
   ],
   "source": [
    "y.reshape(3,4)\n",
    "y.reshape(6, -1)\n",
    "y.reshape(7,2) # error"
   ]
  },
  {
   "cell_type": "code",
   "execution_count": 60,
   "id": "ef01e86c-5fff-493e-ad15-4279792c77c1",
   "metadata": {},
   "outputs": [
    {
     "data": {
      "text/plain": [
       "array([[ 0,  1,  2,  3],\n",
       "       [ 4,  5,  6,  7],\n",
       "       [ 8,  9, 10, 11]])"
      ]
     },
     "execution_count": 60,
     "metadata": {},
     "output_type": "execute_result"
    }
   ],
   "source": [
    "a = y.reshape(3,4)\n",
    "a"
   ]
  },
  {
   "cell_type": "code",
   "execution_count": 61,
   "id": "19cca885-f757-4777-a92d-7c83ab29cb17",
   "metadata": {},
   "outputs": [
    {
     "data": {
      "text/plain": [
       "array([ 0,  1,  2,  3,  4,  5,  6,  7,  8,  9, 10, 11])"
      ]
     },
     "execution_count": 61,
     "metadata": {},
     "output_type": "execute_result"
    }
   ],
   "source": [
    "a.flatten()"
   ]
  },
  {
   "cell_type": "code",
   "execution_count": null,
   "id": "ea8a429c-9146-42c6-9268-ccf3cc1ae654",
   "metadata": {},
   "outputs": [],
   "source": [
    "np.arange(0, 10).reshape(2, 5)\n",
    "np.arange(0, 10).reshape(5, 2)\n",
    "np.arange(0, 10).reshape(2, 3) # error"
   ]
  },
  {
   "cell_type": "code",
   "execution_count": null,
   "id": "414a0571-4750-4f05-94a1-2d7554820eb1",
   "metadata": {},
   "outputs": [],
   "source": [
    "np.arange(0, 24).reshape(4, 3, 2)"
   ]
  },
  {
   "cell_type": "code",
   "execution_count": null,
   "id": "49d0e195-802d-4628-9444-50ba0f1f30f7",
   "metadata": {},
   "outputs": [],
   "source": [
    "a = np.arange(6).reshape(3, 2)\n",
    "a"
   ]
  },
  {
   "cell_type": "code",
   "execution_count": null,
   "id": "417e533d-fb24-4491-ac97-6e3e8df91421",
   "metadata": {},
   "outputs": [],
   "source": [
    "np.transpose(a)"
   ]
  },
  {
   "cell_type": "markdown",
   "id": "89a2028e-7fe3-4b1a-8b30-82b41e9bce3c",
   "metadata": {},
   "source": [
    "###\n",
    "### 참고 : ndarray 클래스"
   ]
  },
  {
   "cell_type": "code",
   "execution_count": null,
   "id": "cf46c976-53f4-4032-bcd7-a89b3fb4ef57",
   "metadata": {},
   "outputs": [],
   "source": [
    "arr = np.ndarray(shape=(2,2), dtype=float, order='F')\n",
    "arr"
   ]
  },
  {
   "cell_type": "code",
   "execution_count": null,
   "id": "aca8e2b8-2055-4b93-a178-88ad1171aa45",
   "metadata": {},
   "outputs": [],
   "source": [
    "arr = np.ndarray((2,), buffer=np.array([1,2,3]), \n",
    "                 offset=np.int_().itemsize, \n",
    "                 dtype=int) # offset = 1*itemsize, i.e. skip first element\n",
    "arr"
   ]
  },
  {
   "cell_type": "markdown",
   "id": "c0eb939d-fe01-4e4c-a541-62ad3017ad29",
   "metadata": {},
   "source": [
    "#### Broadcasting  \n",
    "두 배열 간의 Shape이 다를 경우 두 배열 간의 형상을 맞추는 과정"
   ]
  },
  {
   "cell_type": "markdown",
   "id": "35d4850c-4845-457d-ac02-cd9c09269421",
   "metadata": {},
   "source": [
    "1) Case 1 : 배열과 스칼라"
   ]
  },
  {
   "cell_type": "code",
   "execution_count": null,
   "id": "e4b328b2-de9f-4e17-ae32-2234fe4a87e5",
   "metadata": {},
   "outputs": [],
   "source": [
    "a = np.arange(1, 25).reshape(4,6)\n",
    "a + 100"
   ]
  },
  {
   "cell_type": "code",
   "execution_count": null,
   "id": "b20eafb2-d988-44db-9960-f367834c55c4",
   "metadata": {},
   "outputs": [],
   "source": [
    "# a + 100은 다음과 같은 과정으로 수행\n",
    "new_arr = np.full_like(a, 100)\n",
    "a + new_arr"
   ]
  },
  {
   "cell_type": "markdown",
   "id": "30865b55-a553-4f02-9064-796b6ac6c084",
   "metadata": {},
   "source": [
    "2. Case 2 : Shape이 다른 배열들의 연산"
   ]
  },
  {
   "cell_type": "code",
   "execution_count": null,
   "id": "d5b341ec-d48f-4bb9-9e2e-7d5e5c6204fd",
   "metadata": {},
   "outputs": [],
   "source": [
    "a = np.arange(5).reshape((1,5))\n",
    "b = np.arange(5).reshape((5,1))\n",
    "a + b"
   ]
  },
  {
   "cell_type": "raw",
   "id": "4fb7582a-b1d3-4c55-b065-7551ec7ab52e",
   "metadata": {},
   "source": []
  }
 ],
 "metadata": {
  "kernelspec": {
   "display_name": "Python 3 (ipykernel)",
   "language": "python",
   "name": "python3"
  },
  "language_info": {
   "codemirror_mode": {
    "name": "ipython",
    "version": 3
   },
   "file_extension": ".py",
   "mimetype": "text/x-python",
   "name": "python",
   "nbconvert_exporter": "python",
   "pygments_lexer": "ipython3",
   "version": "3.8.11"
  }
 },
 "nbformat": 4,
 "nbformat_minor": 5
}
