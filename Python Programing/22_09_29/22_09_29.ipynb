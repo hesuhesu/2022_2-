{
 "cells": [
  {
   "cell_type": "markdown",
   "id": "254ab7d6",
   "metadata": {},
   "source": [
    "## list 슬라이싱"
   ]
  },
  {
   "cell_type": "code",
   "execution_count": 7,
   "id": "aa04326c",
   "metadata": {},
   "outputs": [
    {
     "name": "stdout",
     "output_type": "stream",
     "text": [
      "[10]\n",
      "[10, 20, 30]\n",
      "[20, 30, 40, 50, 60, 70]\n",
      "[10, 20, 30, 40, 50] \n",
      "\n",
      "[10, 20, 30, 40, 50, 60, 70]\n"
     ]
    }
   ],
   "source": [
    "list1 = [10,20,30,40,50,60,70]\n",
    "print(list1[0:1]) # 슬라이싱. 0~0까지 출력.\n",
    "print(list1[0:3]) # 0~2까지 출력.\n",
    "print(list1[1:]) # 1부터 끝까지\n",
    "print(list1[:5], \"\\n\") # 처음부터 4까지\n",
    "\n",
    "print(list1[:], \"\\n\") # 전체 슬라이싱.\n",
    "\n",
    "print(list1[-2:]) # 뒤에서 2개를 출력.\n",
    "print(list1[:-2], \"\\n\") # 첨부터 맨 뒤 2개를 제외한 나머지 출력.\n",
    "\n",
    "print(list1[::-1]) # 모든 항목을 역순으로 정렬\n",
    "print(list1[1::-1]) # 처음의 두 개 항목만 슬라이싱"
   ]
  },
  {
   "cell_type": "markdown",
   "id": "92558ad5",
   "metadata": {},
   "source": [
    "## tuple"
   ]
  },
  {
   "cell_type": "code",
   "execution_count": 8,
   "id": "49df99b5",
   "metadata": {},
   "outputs": [],
   "source": [
    "tuple1 = () # 빈 튜플"
   ]
  },
  {
   "cell_type": "code",
   "execution_count": 9,
   "id": "abb5c08c",
   "metadata": {},
   "outputs": [
    {
     "name": "stdout",
     "output_type": "stream",
     "text": [
      "(1,)\n"
     ]
    }
   ],
   "source": [
    "tuple2 = (1,) # (1)만 하게 되면 일반 int형으로 인식. 마지막에 ,를 넣는다.\n",
    "print(tuple2)"
   ]
  },
  {
   "cell_type": "code",
   "execution_count": 10,
   "id": "3c593f93",
   "metadata": {},
   "outputs": [
    {
     "name": "stdout",
     "output_type": "stream",
     "text": [
      "(1, 2, 3, 4)\n",
      "(1, 2, 3, 4)\n"
     ]
    }
   ],
   "source": [
    "tuple3 = (1,2,3,4)\n",
    "tuple4 = 1,2,3,4\n",
    "\n",
    "print(tuple3)\n",
    "print(tuple4) # 간단하게 튜플 생성이 가능."
   ]
  },
  {
   "cell_type": "code",
   "execution_count": 11,
   "id": "ecc26b5b",
   "metadata": {},
   "outputs": [
    {
     "name": "stdout",
     "output_type": "stream",
     "text": [
      "(1, 2, 3, 4)\n"
     ]
    }
   ],
   "source": [
    "list1 = [1,2,3,4]\n",
    "tuple5 = tuple(list1) # list -> tuple 형으로 변형이 가능함\n",
    "print(tuple5) "
   ]
  },
  {
   "cell_type": "markdown",
   "id": "4fd80d89",
   "metadata": {},
   "source": [
    "## 딕셔너리"
   ]
  },
  {
   "cell_type": "code",
   "execution_count": 13,
   "id": "6314f4c1",
   "metadata": {},
   "outputs": [
    {
     "name": "stdout",
     "output_type": "stream",
     "text": [
      "{1: 'a', 2: 'b', 3: 'c'}\n"
     ]
    }
   ],
   "source": [
    "dic1 = {1 : 'a', 2 : 'b', 3 : 'c'} # 앞의 key, 뒤의 value로 이뤄짐.\n",
    "print(dic1)"
   ]
  },
  {
   "cell_type": "code",
   "execution_count": 15,
   "id": "fbc6416e",
   "metadata": {},
   "outputs": [
    {
     "name": "stdout",
     "output_type": "stream",
     "text": [
      "{1: 'd', 2: 'c', 3: 'c'}\n"
     ]
    }
   ],
   "source": [
    "dic1[1] = 'd' # key-value 값을 따로 줄 수도 있다.\n",
    "dic1[2] = 'c'\n",
    "\n",
    "print(dic1)"
   ]
  },
  {
   "cell_type": "code",
   "execution_count": 17,
   "id": "e4630b26",
   "metadata": {},
   "outputs": [
    {
     "name": "stdout",
     "output_type": "stream",
     "text": [
      "{'a': 1, 'b': 2, 'c': 3}\n"
     ]
    }
   ],
   "source": [
    "dic2 = {'a' : 1, 'b' : 2, 'c' : 3} # key-value는 어느값이든 자유.\n",
    "print(dic2)"
   ]
  },
  {
   "cell_type": "code",
   "execution_count": 18,
   "id": "03bab106",
   "metadata": {},
   "outputs": [
    {
     "name": "stdout",
     "output_type": "stream",
     "text": [
      "{2: 'a', 5: 'b', 1: 'y'}\n"
     ]
    }
   ],
   "source": [
    "dic3 = {2 : 'a', 5 : 'b', 1 : 'y'} # 순번 정렬은 아니다.\n",
    "print(dic3)"
   ]
  },
  {
   "cell_type": "code",
   "execution_count": 22,
   "id": "bf511f0c",
   "metadata": {},
   "outputs": [
    {
     "data": {
      "text/plain": [
       "3"
      ]
     },
     "execution_count": 22,
     "metadata": {},
     "output_type": "execute_result"
    }
   ],
   "source": [
    "person = {'이름' : '홍길동', '나이' : '26', '몸무게' : '82'}\n",
    "# 문자열을 입력 시 ''를 넣어준다. 아닐 시 오류\n",
    "len(person) "
   ]
  },
  {
   "cell_type": "code",
   "execution_count": 23,
   "id": "50f724c7",
   "metadata": {},
   "outputs": [
    {
     "data": {
      "text/plain": [
       "True"
      ]
     },
     "execution_count": 23,
     "metadata": {},
     "output_type": "execute_result"
    }
   ],
   "source": [
    "'이름' in person  # 딕셔너리 항목 중 '이름'이 있는지 확인"
   ]
  },
  {
   "cell_type": "code",
   "execution_count": 24,
   "id": "4587aec5",
   "metadata": {},
   "outputs": [
    {
     "data": {
      "text/plain": [
       "False"
      ]
     },
     "execution_count": 24,
     "metadata": {},
     "output_type": "execute_result"
    }
   ],
   "source": [
    "'홍길동' in person  # 값에는 있으나, 키가 아니라 false."
   ]
  },
  {
   "cell_type": "code",
   "execution_count": 27,
   "id": "5a5e56a8",
   "metadata": {},
   "outputs": [
    {
     "name": "stdout",
     "output_type": "stream",
     "text": [
      "True\n"
     ]
    }
   ],
   "source": [
    "person1 = {'이름' : '홍길동', '나이' : '26', '몸무게' : '82'}\n",
    "person2 = {'나이' : '26', '이름' : '홍길동', '몸무게' : '82'}\n",
    "\n",
    "print(person1 == person2)\n",
    "# print(person1 > person2)\n",
    "# 딕셔너리에서는 비교연산자를 지원하지 않는다."
   ]
  },
  {
   "cell_type": "code",
   "execution_count": 32,
   "id": "2fbc98f1",
   "metadata": {},
   "outputs": [
    {
     "name": "stdout",
     "output_type": "stream",
     "text": [
      "dict_keys(['이름', '나이', '몸무게'])\n",
      "dict_values(['홍길동', '26', '82'])\n",
      "dict_items([('이름', '홍길동'), ('나이', '26'), ('몸무게', '82')])\n"
     ]
    }
   ],
   "source": [
    "person1 = {'이름' : '홍길동', '나이' : '26', '몸무게' : '82'}\n",
    "\n",
    "print(person1.keys()) # key값만 출력\n",
    "print(person1.values()) # value 값만 출력\n",
    "print(person1.items()) # 키 : 값 공동으로 묶어서 출력"
   ]
  },
  {
   "cell_type": "code",
   "execution_count": 35,
   "id": "636ff413",
   "metadata": {},
   "outputs": [
    {
     "name": "stdout",
     "output_type": "stream",
     "text": [
      "None\n",
      "홍길동\n",
      "{}\n"
     ]
    }
   ],
   "source": [
    "person1 = {'이름' : '홍길동', '나이' : '26', '몸무게' : '82'}\n",
    "\n",
    "print(person1.get('취미')) # key값이 없으므로 none 반환\n",
    "print(person1.get('이름')) # key값의 value를 반환\n",
    "\n",
    "person1.clear() # 모든 값 삭제\n",
    "print(person1)"
   ]
  },
  {
   "cell_type": "code",
   "execution_count": 39,
   "id": "48260254",
   "metadata": {},
   "outputs": [],
   "source": [
    "person = {'이름' : '홍길동', '나이' : '26', '몸무게' : '82'}\n",
    "\n",
    "for key in person :\n",
    "    print('{} : {}'.format(key,person[key]))"
   ]
  }
 ],
 "metadata": {
  "kernelspec": {
   "display_name": "Python 3",
   "language": "python",
   "name": "python3"
  },
  "language_info": {
   "codemirror_mode": {
    "name": "ipython",
    "version": 3
   },
   "file_extension": ".py",
   "mimetype": "text/x-python",
   "name": "python",
   "nbconvert_exporter": "python",
   "pygments_lexer": "ipython3",
   "version": "3.8.8"
  }
 },
 "nbformat": 4,
 "nbformat_minor": 5
}
