{
 "cells": [
  {
   "cell_type": "markdown",
   "id": "f7c72d8c",
   "metadata": {},
   "source": [
    "## list - 2"
   ]
  },
  {
   "cell_type": "code",
   "execution_count": 1,
   "id": "74f30130",
   "metadata": {},
   "outputs": [
    {
     "data": {
      "text/plain": [
       "[11, 22, 33, 44, [55, 66]]"
      ]
     },
     "execution_count": 1,
     "metadata": {},
     "output_type": "execute_result"
    }
   ],
   "source": [
    "list1 = [11,22,33,44]\n",
    "list1.append([55,66]) # 맨 마지막에 리스트 항목 하나를 추가해준다.\n",
    "list1"
   ]
  },
  {
   "cell_type": "code",
   "execution_count": 2,
   "id": "0235a5ad",
   "metadata": {},
   "outputs": [
    {
     "data": {
      "text/plain": [
       "[11, 22, 33, 44, 55, 66]"
      ]
     },
     "execution_count": 2,
     "metadata": {},
     "output_type": "execute_result"
    }
   ],
   "source": [
    "list1 = [11,22,33,44]\n",
    "list1.extend([55,66]) # 연산자와 같은 개념. 안의 내용을 추가해준다.\n",
    "list1"
   ]
  },
  {
   "cell_type": "code",
   "execution_count": 5,
   "id": "93fc5784",
   "metadata": {},
   "outputs": [
    {
     "name": "stdout",
     "output_type": "stream",
     "text": [
      "현재 리스트 : [30, 20, 10]\n",
      "append(40) 후의 리스트 : [30, 20, 10, 40]\n",
      "pop()으로 추출한 값 : 40\n",
      "pop() 후의 리스트 : [30, 20, 10]\n"
     ]
    }
   ],
   "source": [
    "mylist = [30,20,10]\n",
    "print(\"현재 리스트 : %s\" % mylist)\n",
    "\n",
    "mylist.append(40)\n",
    "print(\"append(40) 후의 리스트 : %s\"%mylist)\n",
    "\n",
    "print(\"pop()으로 추출한 값 : %s\"%mylist.pop())\n",
    "print(\"pop() 후의 리스트 : %s\"%mylist)\n",
    "\n",
    "# sort = 오름차순 정렬, reverse = 역 정렬, index(n) = 해당 원소의 위치\n",
    "# insert(n,m) = n index에 m을 추가. remove(n) = 특정 원소 삭제\n",
    "# extend = 원소형태로 변형해서 추가."
   ]
  },
  {
   "cell_type": "code",
   "execution_count": 7,
   "id": "a954326c",
   "metadata": {},
   "outputs": [
    {
     "name": "stdout",
     "output_type": "stream",
     "text": [
      "sorted() 후의 mylist : [30, 20, 10]\n",
      "sorted() 후의 newlist : [10, 20, 30]\n"
     ]
    }
   ],
   "source": [
    "mylist = [30,20,10]\n",
    "newlist = sorted(mylist)\n",
    "print(\"sorted() 후의 mylist : %s\"%mylist)\n",
    "print(\"sorted() 후의 newlist : %s\"%newlist)"
   ]
  },
  {
   "cell_type": "markdown",
   "id": "d319b6eb",
   "metadata": {},
   "source": [
    "## range를 사용한 list"
   ]
  },
  {
   "cell_type": "code",
   "execution_count": 8,
   "id": "0935ff8e",
   "metadata": {},
   "outputs": [
    {
     "data": {
      "text/plain": [
       "[1, 2, 3]"
      ]
     },
     "execution_count": 8,
     "metadata": {},
     "output_type": "execute_result"
    }
   ],
   "source": [
    "list1 = list()        # 리스트 생성법 - 1\n",
    "list2 = []            # 리스트 생성법 - 2\n",
    "list3 = list((1,2,3)) # 리스트 생성법 - 3\n",
    "\n",
    "list3"
   ]
  },
  {
   "cell_type": "code",
   "execution_count": 10,
   "id": "d74e6071",
   "metadata": {},
   "outputs": [
    {
     "data": {
      "text/plain": [
       "[1, 2, 3, 4, 5, 6, 7, 8, 9]"
      ]
     },
     "execution_count": 10,
     "metadata": {},
     "output_type": "execute_result"
    }
   ],
   "source": [
    "list4 = list(range(1,10)) # range(1,10)은 1~9까지이다.\n",
    "list4"
   ]
  },
  {
   "cell_type": "code",
   "execution_count": 11,
   "id": "6d79d2f0",
   "metadata": {},
   "outputs": [
    {
     "data": {
      "text/plain": [
       "['A', 'B', 'C', 'D', 'E', 'F']"
      ]
     },
     "execution_count": 11,
     "metadata": {},
     "output_type": "execute_result"
    }
   ],
   "source": [
    "list5 = list('ABCDEF') # 문자열의 경우 하나하나 따로 분류함.\n",
    "list5"
   ]
  },
  {
   "cell_type": "code",
   "execution_count": 14,
   "id": "285ac1af",
   "metadata": {},
   "outputs": [
    {
     "name": "stdout",
     "output_type": "stream",
     "text": [
      "even_list = [2, 4, 6, 8, 10]\n"
     ]
    }
   ],
   "source": [
    "# 응용 - 1\n",
    "\n",
    "even_list = list(range(2,12,2))\n",
    "print(\"even_list = %s\"%even_list)"
   ]
  },
  {
   "cell_type": "code",
   "execution_count": 17,
   "id": "13606a63",
   "metadata": {},
   "outputs": [
    {
     "name": "stdout",
     "output_type": "stream",
     "text": [
      "nations = ['Korea', 'China', 'India', 'Nepal']\n"
     ]
    }
   ],
   "source": [
    "# 응용 - 2\n",
    "\n",
    "nations = ['Korea', 'China', 'India', 'Nepal']\n",
    "print(\"nations = %s\"%nations)"
   ]
  },
  {
   "cell_type": "code",
   "execution_count": 19,
   "id": "fc7b0079",
   "metadata": {},
   "outputs": [
    {
     "name": "stdout",
     "output_type": "stream",
     "text": [
      "friends = ['길동', '철수', '은지', '지은', '영민']\n"
     ]
    }
   ],
   "source": [
    "# 응용 - 3\n",
    "\n",
    "friends = ['길동', '철수', '은지', '지은', '영민']\n",
    "print(\"friends = %s\"%friends)"
   ]
  },
  {
   "cell_type": "code",
   "execution_count": 22,
   "id": "0e99b2fe",
   "metadata": {},
   "outputs": [
    {
     "name": "stdout",
     "output_type": "stream",
     "text": [
      "string = %s ['X', 'Y', 'Z']\n"
     ]
    }
   ],
   "source": [
    "# 응용 - 4\n",
    "\n",
    "string = ['X', 'Y', 'Z']\n",
    "print(\"string = %s\",string)"
   ]
  },
  {
   "cell_type": "markdown",
   "id": "cef7a9a8",
   "metadata": {},
   "source": [
    "## 기타 list 방식"
   ]
  },
  {
   "cell_type": "code",
   "execution_count": 25,
   "id": "9bc124c1",
   "metadata": {},
   "outputs": [
    {
     "name": "stdout",
     "output_type": "stream",
     "text": [
      "[11, 22, 33, 44, 55, 66, 77]\n",
      "[11, 22, 33, 55, 66, 77]\n"
     ]
    }
   ],
   "source": [
    "list1 = [11,22,33,44,55,66,77]\n",
    "print(list1)\n",
    "\n",
    "del list1[3] # 4번째 원소가 삭제됨. del 44 같은 방법 x\n",
    "print(list1) "
   ]
  },
  {
   "cell_type": "code",
   "execution_count": 28,
   "id": "ecd9641a",
   "metadata": {},
   "outputs": [
    {
     "name": "stdout",
     "output_type": "stream",
     "text": [
      "[11, 22, 33, 44, 55, 66, 77]\n",
      "[11, 22, 33, 55, 66, 77]\n"
     ]
    }
   ],
   "source": [
    "list1 = [11,22,33,44,55,66,77]\n",
    "print(list1)\n",
    "\n",
    "list1.remove(44) # 특정 원소가 삭제 가능. 단 없는 원소면 오류남.\n",
    "print(list1)"
   ]
  },
  {
   "cell_type": "code",
   "execution_count": 31,
   "id": "93bc9258",
   "metadata": {},
   "outputs": [
    {
     "name": "stdout",
     "output_type": "stream",
     "text": [
      "True\n",
      "False\n"
     ]
    }
   ],
   "source": [
    "# in, not in 연산자\n",
    "\n",
    "list2 = [10,20,30,40]\n",
    "\n",
    "print(10 in list2)\n",
    "print(10 not in list2)"
   ]
  },
  {
   "cell_type": "code",
   "execution_count": 34,
   "id": "1f187e76",
   "metadata": {},
   "outputs": [
    {
     "name": "stdout",
     "output_type": "stream",
     "text": [
      "10\n",
      "50\n",
      "150\n"
     ]
    }
   ],
   "source": [
    "# max, min, sum\n",
    "\n",
    "list3 = [10,20,30,40,50]\n",
    "\n",
    "print(min(list3)) # 최소값\n",
    "print(max(list3)) # 최댓값\n",
    "print(sum(list3)) # 전체 list 합"
   ]
  },
  {
   "cell_type": "markdown",
   "id": "6e8761c2",
   "metadata": {},
   "source": [
    "## 2차원 list"
   ]
  },
  {
   "cell_type": "code",
   "execution_count": null,
   "id": "4f876a67",
   "metadata": {},
   "outputs": [],
   "source": [
    "# 1차원 list\n",
    "\n",
    "aa = [10,20,30]\n",
    "\n",
    "# 2차원 list\n",
    "bb = [[1,2,3,4],\n",
    "     [5,6,7,8],\n",
    "     [9,10,11,12]]"
   ]
  },
  {
   "cell_type": "code",
   "execution_count": 35,
   "id": "3aa48742",
   "metadata": {},
   "outputs": [
    {
     "name": "stdout",
     "output_type": "stream",
     "text": [
      "  1   2   3   4 \n",
      "  5   6   7   8 \n",
      "  9  10  11  12 \n"
     ]
    }
   ],
   "source": [
    "# 2차원 list 생성 함수\n",
    "\n",
    "list1 = []\n",
    "list2 = []\n",
    "\n",
    "value = 1\n",
    "\n",
    "for i in range(0,3):\n",
    "    for j in range(0,4) :\n",
    "        list1.append(value)\n",
    "        value += 1\n",
    "    list2.append(list1)\n",
    "    list1 = []\n",
    "\n",
    "for i in range(0,3):\n",
    "    for j in range(0,4):\n",
    "        print(\"%3d\"%list2[i][j], end=\" \")\n",
    "    print(\"\")"
   ]
  }
 ],
 "metadata": {
  "kernelspec": {
   "display_name": "Python 3",
   "language": "python",
   "name": "python3"
  },
  "language_info": {
   "codemirror_mode": {
    "name": "ipython",
    "version": 3
   },
   "file_extension": ".py",
   "mimetype": "text/x-python",
   "name": "python",
   "nbconvert_exporter": "python",
   "pygments_lexer": "ipython3",
   "version": "3.8.8"
  }
 },
 "nbformat": 4,
 "nbformat_minor": 5
}
