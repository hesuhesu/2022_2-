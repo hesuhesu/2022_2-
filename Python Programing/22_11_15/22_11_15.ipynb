{
 "cells": [
  {
   "cell_type": "markdown",
   "id": "55080b44",
   "metadata": {},
   "source": [
    "# numpy"
   ]
  },
  {
   "cell_type": "code",
   "execution_count": 1,
   "id": "2a1c5235",
   "metadata": {},
   "outputs": [],
   "source": [
    "import numpy as np"
   ]
  },
  {
   "cell_type": "code",
   "execution_count": 3,
   "id": "5401e909",
   "metadata": {},
   "outputs": [
    {
     "name": "stdout",
     "output_type": "stream",
     "text": [
      "[10 20 30]\n"
     ]
    }
   ],
   "source": [
    "listA = [10,20,30]\n",
    "listB = [40,50,60]\n",
    "print(listA+listB)\n",
    "\n",
    "numpy1 = np.array([10,20,30])\n",
    "numpy2 = np.array([40,50,60])\n",
    "print(numpy1 + numpy2)"
   ]
  },
  {
   "cell_type": "code",
   "execution_count": 15,
   "id": "3cd4c147",
   "metadata": {},
   "outputs": [
    {
     "name": "stdout",
     "output_type": "stream",
     "text": [
      "[10, 20, 30, 10, 20, 30]\n",
      "[20 40 60]\n"
     ]
    }
   ],
   "source": [
    "listA = [10,20,30]\n",
    "listA = listA * 2\n",
    "print(listA) # 일반적인 리스트 시 출력\n",
    "\n",
    "mid_scores = np.array([10,20,30])\n",
    "mid_scores = mid_scores * 2\n",
    "print(mid_scores)\n",
    "\n",
    "# 일반 리스트와 numpy 리스트와는 차이가 있다"
   ]
  },
  {
   "cell_type": "code",
   "execution_count": 24,
   "id": "b032852e",
   "metadata": {},
   "outputs": [
    {
     "name": "stdout",
     "output_type": "stream",
     "text": [
      "(5,)\n",
      "1\n",
      "int32\n",
      "4\n",
      "5\n"
     ]
    }
   ],
   "source": [
    "a = np.array([1,2,3,4,5])\n",
    "print(a.shape) # 객체의 형태\n",
    "print(a.ndim) # 객체의 차원\n",
    "print(a.dtype) # 객체 내부 자료형\n",
    "print(a.itemsize) # 객체 내부 자료형이 차지하는 메모리 크기(byte)\n",
    "print(a.size) # 객체 전체 크기(항목의 수)"
   ]
  }
 ],
 "metadata": {
  "kernelspec": {
   "display_name": "Python 3",
   "language": "python",
   "name": "python3"
  },
  "language_info": {
   "codemirror_mode": {
    "name": "ipython",
    "version": 3
   },
   "file_extension": ".py",
   "mimetype": "text/x-python",
   "name": "python",
   "nbconvert_exporter": "python",
   "pygments_lexer": "ipython3",
   "version": "3.8.8"
  }
 },
 "nbformat": 4,
 "nbformat_minor": 5
}
