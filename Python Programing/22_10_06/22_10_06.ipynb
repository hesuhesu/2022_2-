{
 "cells": [
  {
   "cell_type": "markdown",
   "id": "7a2717df",
   "metadata": {},
   "source": [
    "## Function & Module"
   ]
  },
  {
   "cell_type": "code",
   "execution_count": 1,
   "id": "5a4310ec",
   "metadata": {},
   "outputs": [
    {
     "name": "stdout",
     "output_type": "stream",
     "text": [
      "9\n"
     ]
    }
   ],
   "source": [
    "# 예시 - 1\n",
    "\n",
    "def F(x) :  # 함수 선언.\n",
    "    return x ** 2  # 반환값 지정\n",
    "\n",
    "print(F(3))"
   ]
  },
  {
   "cell_type": "code",
   "execution_count": 9,
   "id": "38e3fdae",
   "metadata": {},
   "outputs": [
    {
     "name": "stdout",
     "output_type": "stream",
     "text": [
      "누적값 5\n",
      "누적값 13\n"
     ]
    }
   ],
   "source": [
    "# 전역변수\n",
    "\n",
    "global a\n",
    "a = 0\n",
    "\n",
    "def func1(x):\n",
    "    global a\n",
    "    a += x\n",
    "    return print(\"누적값 {}\".format(a))\n",
    "\n",
    "func1(5)\n",
    "func1(8)"
   ]
  },
  {
   "cell_type": "code",
   "execution_count": 11,
   "id": "8cc74a75",
   "metadata": {},
   "outputs": [
    {
     "name": "stdout",
     "output_type": "stream",
     "text": [
      "매개변수 호출결과 ==> 30\n",
      "매개변수 호출결과 ==> 68\n"
     ]
    }
   ],
   "source": [
    "# 가변 매개변수 - *arg\n",
    "\n",
    "def para(*a) :  # 가변 매개변수이다. tuple형.\n",
    "    result = 0\n",
    "    for num in a :\n",
    "        result = result + num\n",
    "    \n",
    "    return result\n",
    "\n",
    "## 전역 변수 선언 부분\n",
    "hap = 0\n",
    "\n",
    "## 메인 코드 부분\n",
    "hap = para(10,20)\n",
    "print(\"매개변수 호출결과 ==> %d\"%hap)\n",
    "hap = para(10,20,30,5,2,1)\n",
    "print(\"매개변수 호출결과 ==> %d\"%hap)"
   ]
  },
  {
   "cell_type": "code",
   "execution_count": 12,
   "id": "eb3c164b",
   "metadata": {},
   "outputs": [
    {
     "name": "stdout",
     "output_type": "stream",
     "text": [
      "n1 1\n",
      "n2 2\n",
      "n3 6\n"
     ]
    }
   ],
   "source": [
    "# 가변 매개변수 - *kwargs\n",
    "\n",
    "def para2(**b) :          # key-value를 가지는 dictionary를 사용하는 가변 매개변수.\n",
    "    for k,v in b.items():\n",
    "        print(k,v)\n",
    "\n",
    "para2(n1=1,n2=2,n3=6)"
   ]
  },
  {
   "cell_type": "code",
   "execution_count": 25,
   "id": "75371a4c",
   "metadata": {},
   "outputs": [
    {
     "name": "stdout",
     "output_type": "stream",
     "text": [
      "0 1\n",
      "1 a\n",
      "2 bcd\n"
     ]
    }
   ],
   "source": [
    "# tuple식 가변 매개변수 응용\n",
    "\n",
    "def args_function(*args):\n",
    "    for i,v in enumerate(args) : # enumerate 는 차례대로 index를 출력하는 함수.\n",
    "        print(i,v)\n",
    "        \n",
    "args_function(1,'a','bcd') # 만약 **a 인 딕셔너리 형식이라면, key,value 순서대로 출력된다."
   ]
  },
  {
   "cell_type": "code",
   "execution_count": 16,
   "id": "d87cf0b5",
   "metadata": {},
   "outputs": [
    {
     "name": "stdout",
     "output_type": "stream",
     "text": [
      "{'server': 'localhost', 'port': 3306, 'user': 'root', 'password': 'python'} \n",
      "\n",
      "server localhost\n",
      "port 3306\n",
      "user root\n",
      "password python\n"
     ]
    }
   ],
   "source": [
    "def connect(**kw) :\n",
    "    print(kw, '\\n')\n",
    "    for key,val in kw.items():\n",
    "        print(key,val)\n",
    "\n",
    "config = {'server' : 'localhost', 'port' : 3306, 'user' : 'root', 'password' : 'python'}\n",
    "\n",
    "connect(**config)"
   ]
  }
 ],
 "metadata": {
  "kernelspec": {
   "display_name": "Python 3",
   "language": "python",
   "name": "python3"
  },
  "language_info": {
   "codemirror_mode": {
    "name": "ipython",
    "version": 3
   },
   "file_extension": ".py",
   "mimetype": "text/x-python",
   "name": "python",
   "nbconvert_exporter": "python",
   "pygments_lexer": "ipython3",
   "version": "3.8.8"
  }
 },
 "nbformat": 4,
 "nbformat_minor": 5
}
