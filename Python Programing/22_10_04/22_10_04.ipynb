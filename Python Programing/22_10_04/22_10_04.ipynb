{
 "cells": [
  {
   "cell_type": "code",
   "execution_count": 6,
   "id": "c29f3dce",
   "metadata": {},
   "outputs": [
    {
     "name": "stdout",
     "output_type": "stream",
     "text": [
      "[22, 33, 44, 55]\n",
      "{1: 22, 2: 33, 3: 44}\n"
     ]
    }
   ],
   "source": [
    "lst = [11,22,33,44,55]\n",
    "lst.pop(0) # 1번째 리스트 항목 제거\n",
    "print(lst)\n",
    "\n",
    "dic = {0:11, 1:22, 2:33, 3:44}\n",
    "dic.pop(0) # 1번째 딕셔너리 항목 제거\n",
    "print(dic)"
   ]
  },
  {
   "cell_type": "code",
   "execution_count": 9,
   "id": "3ea405a3",
   "metadata": {},
   "outputs": [
    {
     "name": "stdout",
     "output_type": "stream",
     "text": [
      "[('Edward', '에드워드'), ('Gothen', '고든'), ('Henry', '헨리'), ('James', '제임스'), ('Thomas', '토마스')]\n"
     ]
    }
   ],
   "source": [
    "import operator\n",
    "\n",
    "trainDic, trainList = {},[]\n",
    "\n",
    "trainDic = {'Thomas' : '토마스', 'Edward' : '에드워드', 'Henry' : '헨리', 'Gothen' : '고든', 'James' : '제임스'}\n",
    "trainList = sorted(trainDic.items(), key = operator.itemgetter(0))\n",
    "\n",
    "# itemgetter\n",
    "\n",
    "print(trainList)"
   ]
  },
  {
   "cell_type": "code",
   "execution_count": 10,
   "id": "a1e9b582",
   "metadata": {},
   "outputs": [
    {
     "data": {
      "text/plain": [
       "['kim', 'choi', 'lee', 'hong']"
      ]
     },
     "execution_count": 10,
     "metadata": {},
     "output_type": "execute_result"
    }
   ],
   "source": [
    "alist = ['kim', 'park', 'lee', 'hong']\n",
    "blist = alist\n",
    "blist[1] = 'choi'\n",
    "alist  # python은 c와 달리 '참조' 기능이 존재. 이 때는 동일 메모리를 사용한다."
   ]
  },
  {
   "cell_type": "code",
   "execution_count": 11,
   "id": "09567a98",
   "metadata": {},
   "outputs": [
    {
     "name": "stdout",
     "output_type": "stream",
     "text": [
      "2352004158208 2352004158208\n"
     ]
    }
   ],
   "source": [
    "print(id(alist), id(blist)) # id 값은 동일"
   ]
  },
  {
   "cell_type": "code",
   "execution_count": 12,
   "id": "a77915ac",
   "metadata": {},
   "outputs": [
    {
     "name": "stdout",
     "output_type": "stream",
     "text": [
      "2352004185792 2352005188672\n"
     ]
    }
   ],
   "source": [
    "alist = ['kim', 'park', 'lee', 'hong']\n",
    "blist = list(alist)\n",
    "print(id(alist), id(blist))\n",
    "# 동일한 내용을 가진 새로운 리스트 생성 시 list()함수를 이용한다."
   ]
  },
  {
   "cell_type": "markdown",
   "id": "acce2927",
   "metadata": {},
   "source": [
    "## lambda 함수"
   ]
  },
  {
   "cell_type": "code",
   "execution_count": 14,
   "id": "7ae711d9",
   "metadata": {},
   "outputs": [
    {
     "name": "stdout",
     "output_type": "stream",
     "text": [
      "100과 200의 합 : 300\n"
     ]
    }
   ],
   "source": [
    "print('100과 200의 합 :', (lambda x,y : x+y)(100,200))\n",
    "# 람다 함수는 간단식에 유용. 복잡식은 def(함수) 선언을 한다.\n",
    "# 람다 함수의 사용 시 주의점은 표현식 안에서 새로운 변수를 선언할 수 없다."
   ]
  },
  {
   "cell_type": "code",
   "execution_count": 17,
   "id": "e3697283",
   "metadata": {},
   "outputs": [
    {
     "name": "stdout",
     "output_type": "stream",
     "text": [
      "100\n",
      "300\n"
     ]
    }
   ],
   "source": [
    "t = [100,200,300]\n",
    "\n",
    "print((lambda x:x[0])(t))  # 형식을 암기하면 도움된다.\n",
    "print((lambda x:x[2])(t))"
   ]
  },
  {
   "cell_type": "markdown",
   "id": "37318de7",
   "metadata": {},
   "source": [
    "## List Comprehension (리스트 함축)"
   ]
  },
  {
   "cell_type": "code",
   "execution_count": 53,
   "id": "e053d2a5",
   "metadata": {},
   "outputs": [
    {
     "name": "stdout",
     "output_type": "stream",
     "text": [
      "[1, 4, 9, 16, 25]\n",
      "[9, 36, 81, 144, 225, 324]\n",
      "[0, 0, 3, 0, 0, 6, 0, 0, 9, 0, 0, 12, 0, 0, 15, 0, 0, 18, 0, 0]\n"
     ]
    }
   ],
   "source": [
    "print([x**2 for x in [1,2,3,4,5]]) # [수식 for 항목 in range() if 조건식]\n",
    "print([x**2 for x in range(1,21) if x%3 == 0])\n",
    "print([x if x%3 == 0 else 0 for x in range(1,21) ])"
   ]
  },
  {
   "cell_type": "code",
   "execution_count": 35,
   "id": "43496456",
   "metadata": {},
   "outputs": [
    {
     "name": "stdout",
     "output_type": "stream",
     "text": [
      "[0, 1, 2, 3, 4, 5, 6, 7, 8, 9]\n",
      "['H', 'E', 'L', 'L', 'O', ' ', 'W', 'O', 'R', 'L', 'D']\n"
     ]
    }
   ],
   "source": [
    "print([x for x in range(10)])\n",
    "\n",
    "st = 'hello world'\n",
    "print([x.upper() for x in st]) # upper 함수는 소문자를 대문자로 변환한다."
   ]
  },
  {
   "cell_type": "code",
   "execution_count": 45,
   "id": "2ab409cd",
   "metadata": {},
   "outputs": [
    {
     "name": "stdout",
     "output_type": "stream",
     "text": [
      "[0, 2, 4, 6, 8]\n",
      "['W', 'T', 'T', 'P', 'W']\n"
     ]
    }
   ],
   "source": [
    "print([x for x in range(10) if x % 2 == 0])\n",
    "\n",
    "a = ['welcome', 'to', 'the', 'python', 'world']\n",
    "first_a = [s[0].upper() for s in a] # a 리스트 안의 항목의 첫번째 글자를 대문자로 변형\n",
    "print(first_a) "
   ]
  },
  {
   "cell_type": "code",
   "execution_count": 43,
   "id": "459f3ce4",
   "metadata": {},
   "outputs": [
    {
     "name": "stdout",
     "output_type": "stream",
     "text": [
      "['12345', '65432']\n"
     ]
    }
   ],
   "source": [
    "s = ['hello', '12345', 'world', '65432']\n",
    "numbers = [x for x in s if x.isdigit()] # isdigit함수는 숫자를 탐색하는 함수.\n",
    "print(numbers)"
   ]
  },
  {
   "cell_type": "code",
   "execution_count": 48,
   "id": "e05798a9",
   "metadata": {},
   "outputs": [
    {
     "name": "stdout",
     "output_type": "stream",
     "text": [
      "{16, 1, 4, 9}\n"
     ]
    }
   ],
   "source": [
    "# Set\n",
    "\n",
    "oldlist = [1,1,2,3,3,4]\n",
    "newSet = {i*i for i in oldlist}\n",
    "print(newSet)"
   ]
  },
  {
   "cell_type": "code",
   "execution_count": 54,
   "id": "53ffb6a3",
   "metadata": {},
   "outputs": [
    {
     "name": "stdout",
     "output_type": "stream",
     "text": [
      "{'abc': 1, '가나다': 2, 'def': 3}\n"
     ]
    }
   ],
   "source": [
    "# Dictionary\n",
    "\n",
    "id_name = {1 : 'abc', 2 : '가나다', 3 : 'def'}\n",
    "name_id = {val:key for key, val in id_name.items()}\n",
    "print(name_id) # key와 value 값 변환."
   ]
  },
  {
   "cell_type": "code",
   "execution_count": 56,
   "id": "fa068cda",
   "metadata": {},
   "outputs": [
    {
     "name": "stdout",
     "output_type": "stream",
     "text": [
      "떡볶이 --> 오뎅\n",
      "짜장면 --> 단무지\n",
      "라면 --> 김치\n"
     ]
    }
   ],
   "source": [
    "food = ['떡볶이', '짜장면', '라면', '피자', '맥주', '치킨', '삼겹살']\n",
    "side = ['오뎅', '단무지', '김치']\n",
    "for food, side in zip(food, side) :\n",
    "    print(food, '-->', side)"
   ]
  },
  {
   "cell_type": "code",
   "execution_count": 57,
   "id": "12c25ba4",
   "metadata": {},
   "outputs": [
    {
     "name": "stdout",
     "output_type": "stream",
     "text": [
      "[('떡볶이', '오뎅'), ('짜장면', '단무지'), ('라면', '김치')]\n",
      "{'떡볶이': '오뎅', '짜장면': '단무지', '라면': '김치'}\n"
     ]
    }
   ],
   "source": [
    "food = ['떡볶이', '짜장면', '라면', '피자', '맥주', '치킨', '삼겹살']\n",
    "side = ['오뎅', '단무지', '김치']\n",
    "tupleList = list(zip(food,side))\n",
    "dic = dict(zip(food,side))\n",
    "print(tupleList)\n",
    "print(dic)"
   ]
  }
 ],
 "metadata": {
  "kernelspec": {
   "display_name": "Python 3",
   "language": "python",
   "name": "python3"
  },
  "language_info": {
   "codemirror_mode": {
    "name": "ipython",
    "version": 3
   },
   "file_extension": ".py",
   "mimetype": "text/x-python",
   "name": "python",
   "nbconvert_exporter": "python",
   "pygments_lexer": "ipython3",
   "version": "3.8.8"
  }
 },
 "nbformat": 4,
 "nbformat_minor": 5
}
