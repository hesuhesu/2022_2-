{
 "cells": [
  {
   "cell_type": "markdown",
   "id": "72cf2523",
   "metadata": {},
   "source": [
    "# overriding"
   ]
  },
  {
   "cell_type": "code",
   "execution_count": 1,
   "id": "26f309c1",
   "metadata": {},
   "outputs": [],
   "source": [
    "class Car :\n",
    "    speed = 0\n",
    "    def upSpeed(self, value) :\n",
    "        self.speed += value\n",
    "        \n",
    "        print(\"현재 속도(슈퍼 클래스) : %d\" % self.speed)\n",
    "    \n",
    "class Sedan(Car) :\n",
    "    def upSpeed(self, value) :\n",
    "        self.speed += value\n",
    "        \n",
    "        if self.speed > 150 :\n",
    "            self.speed = 150\n",
    "            \n",
    "        print(\"현재 속도(서브 클래스) : %d\" % self.speed)\n",
    "        \n",
    "class Truck(Car) :\n",
    "    pass"
   ]
  },
  {
   "cell_type": "code",
   "execution_count": 2,
   "id": "ce68436b",
   "metadata": {},
   "outputs": [
    {
     "name": "stdout",
     "output_type": "stream",
     "text": [
      "트럭 --> 현재 속도(슈퍼 클래스) : 200\n",
      "승용차 --> 현재 속도(서브 클래스) : 150\n"
     ]
    }
   ],
   "source": [
    "sedan1, truck1 = None, None\n",
    "\n",
    "truck1 = Truck()\n",
    "sedan1 = Sedan()\n",
    "\n",
    "print(\"트럭 --> \", end = \"\")\n",
    "truck1.upSpeed(200)\n",
    "\n",
    "print(\"승용차 --> \", end = \"\")\n",
    "sedan1.upSpeed(200)"
   ]
  },
  {
   "cell_type": "markdown",
   "id": "32efd940",
   "metadata": {},
   "source": [
    "# 캡슐화"
   ]
  },
  {
   "cell_type": "code",
   "execution_count": 7,
   "id": "ceeeb6d6",
   "metadata": {},
   "outputs": [],
   "source": [
    "class Cat :\n",
    "    def __init__(self, name, age) :\n",
    "        self.__name = name \n",
    "        # 언더가 2개가 붙은 변수는 클래스 내에서만 변경 가능한 변수\n",
    "        self.__age = age\n",
    "        \n",
    "    # Cat 객체의 문자열 표현방식\n",
    "    def __str__(self) :\n",
    "        return 'Cat(name='+self.__name+', age='+str(self.__age)+')'\n",
    "    # self.__age를 외부에서 자유롭게 접근하는 것을 제한하고 음수가 되지 않도록 함\n",
    "    def set_age(self, age):\n",
    "        if age > 0 :\n",
    "            self.__age = age\n",
    "    def get_age(self) :\n",
    "        return self.__age"
   ]
  },
  {
   "cell_type": "code",
   "execution_count": 8,
   "id": "0cbb6a91",
   "metadata": {},
   "outputs": [
    {
     "name": "stdout",
     "output_type": "stream",
     "text": [
      "Cat(name=나비, age=3)\n",
      "Cat(name=나비, age=4)\n"
     ]
    }
   ],
   "source": [
    "nabi = Cat('나비', 3) # nabi 인스턴스 생성\n",
    "print(nabi)\n",
    "nabi.set_age(4) # set_age() 메소드를 통해 age에 접근\n",
    "nabi.set_age(-5) # set_age() 메소드를 통해 age가 음수가 되지 않도록 함\n",
    "print(nabi)"
   ]
  },
  {
   "cell_type": "markdown",
   "id": "b75811f7",
   "metadata": {},
   "source": [
    "# 클래스 변수와 __dict__"
   ]
  },
  {
   "cell_type": "code",
   "execution_count": 13,
   "id": "d6188720",
   "metadata": {},
   "outputs": [],
   "source": [
    "class Circle :\n",
    "    PI = 3.14\n",
    "    def __init__(self,name,radius) :\n",
    "        self.__name = name\n",
    "        self.__radius = radius"
   ]
  },
  {
   "cell_type": "code",
   "execution_count": 14,
   "id": "fb86d548",
   "metadata": {},
   "outputs": [
    {
     "name": "stdout",
     "output_type": "stream",
     "text": [
      "c1의 속성들 :  {'_Circle__name': 'C1', '_Circle__radius': 4}\n",
      "c1의 name 변수값 :  C1\n",
      "c1의 radius 변수값 :  4\n"
     ]
    }
   ],
   "source": [
    "c1 = Circle(\"C1\", 4)\n",
    "print(\"c1의 속성들 : \", c1.__dict__)\n",
    "# __dict__[key] 형식으로 value를 얻을 수 있음\n",
    "print(\"c1의 name 변수값 : \", c1.__dict__['_Circle__name'])\n",
    "print(\"c1의 radius 변수값 : \", c1.__dict__['_Circle__radius'])\n",
    "\n",
    "# 언더바 2개가 없는 변수 호출 시 name, radius 처럼 단독 변수명만 사용하면 됨"
   ]
  },
  {
   "cell_type": "markdown",
   "id": "2815560d",
   "metadata": {},
   "source": [
    "# class 심화"
   ]
  },
  {
   "cell_type": "code",
   "execution_count": 17,
   "id": "4cf24423",
   "metadata": {},
   "outputs": [],
   "source": [
    "class Line :\n",
    "    length = 0\n",
    "    def __init__(self, length) :\n",
    "        self.length = length\n",
    "        print(self.length, '길이의 선이 생성되었습니다')\n",
    "        \n",
    "    def __del__(self) :\n",
    "        print(self.length, '길이의 선이 제거되었습니다')\n",
    "        \n",
    "    def __repr__(self) :\n",
    "        return '선의 길이 : ' + str(self.length)\n",
    "    \n",
    "    def __add__(self, other) :\n",
    "        return self.length + other.length\n",
    "    \n",
    "    def __lt__(self, other) :\n",
    "        return self.length < other.length\n",
    "    \n",
    "    def __eq__(self, other) :\n",
    "        return self.length == other.length"
   ]
  },
  {
   "cell_type": "code",
   "execution_count": 18,
   "id": "5ea1158f",
   "metadata": {},
   "outputs": [
    {
     "name": "stdout",
     "output_type": "stream",
     "text": [
      "100 길이의 선이 생성되었습니다\n",
      "100 길이의 선이 제거되었습니다\n",
      "200 길이의 선이 생성되었습니다\n",
      "200 길이의 선이 제거되었습니다\n",
      "선의 길이 : 100\n",
      "두 선의 길이 합 :  300\n",
      "선분 2가 더 기네요.\n",
      "100 길이의 선이 제거되었습니다\n"
     ]
    }
   ],
   "source": [
    "myLine1 = Line(100)\n",
    "myLine2 = Line(200)\n",
    "\n",
    "print(myLine1)\n",
    "\n",
    "print('두 선의 길이 합 : ', myLine1 + myLine2)\n",
    "\n",
    "if myLine1 < myLine2 : \n",
    "    print('선분 2가 더 기네요.')\n",
    "elif myLine1 == myLine2 :\n",
    "    print('두 선분이 같네요.')\n",
    "else :\n",
    "    print('모르겠네요.')\n",
    "    \n",
    "del(myLine1)"
   ]
  }
 ],
 "metadata": {
  "kernelspec": {
   "display_name": "Python 3",
   "language": "python",
   "name": "python3"
  },
  "language_info": {
   "codemirror_mode": {
    "name": "ipython",
    "version": 3
   },
   "file_extension": ".py",
   "mimetype": "text/x-python",
   "name": "python",
   "nbconvert_exporter": "python",
   "pygments_lexer": "ipython3",
   "version": "3.8.8"
  }
 },
 "nbformat": 4,
 "nbformat_minor": 5
}
