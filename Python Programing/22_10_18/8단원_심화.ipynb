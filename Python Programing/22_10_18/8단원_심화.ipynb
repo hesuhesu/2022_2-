{
 "cells": [
  {
   "cell_type": "markdown",
   "metadata": {
    "id": "i_ZRdpwUdd5S"
   },
   "source": [
    "### 도전문제 8.1"
   ]
  },
  {
   "cell_type": "code",
   "execution_count": 1,
   "metadata": {
    "id": "hmC-GCztUbfD"
   },
   "outputs": [
    {
     "name": "stdout",
     "output_type": "stream",
     "text": [
      "Last : 홍\n",
      "First : 길동\n",
      "Company : 창원대학교\n"
     ]
    }
   ],
   "source": [
    "person_dic = {'Last': '홍', 'First': '길동', 'Company': '창원대학교'}\r\n",
    "for key, value in person_dic.items():\r\n",
    "    print( key,':', value)"
   ]
  },
  {
   "cell_type": "markdown",
   "metadata": {
    "id": "87bShRr3TH1D"
   },
   "source": [
    "### 도전문제 8.2"
   ]
  },
  {
   "cell_type": "code",
   "execution_count": 3,
   "metadata": {
    "id": "iJK1iW4zUjPb"
   },
   "outputs": [
    {
     "name": "stdin",
     "output_type": "stream",
     "text": [
      "메뉴를 선택하시오 1) 재고조회 2) 입고 3) 출고 4) 종료 :  2\n",
      "[입고] 물건의 이름과 수량을 입력하시오 :  펜 5\n",
      "메뉴를 선택하시오 1) 재고조회 2) 입고 3) 출고 4) 종료 :  1\n",
      "[재고조회] 물건의 이름을 입력하시오:  펜\n"
     ]
    },
    {
     "name": "stdout",
     "output_type": "stream",
     "text": [
      "재고 : 8\n"
     ]
    },
    {
     "name": "stdin",
     "output_type": "stream",
     "text": [
      "메뉴를 선택하시오 1) 재고조회 2) 입고 3) 출고 4) 종료 :  4\n"
     ]
    },
    {
     "name": "stdout",
     "output_type": "stream",
     "text": [
      "프로그램을 종료합니다.\n"
     ]
    }
   ],
   "source": [
    "items = { \"커피음료\": 7, \"펜\": 3, \"종이컵\": 2, \"우유\": 1, \"콜라\": 4, \"책\": 5 } \r\n",
    "\r\n",
    "while True:\r\n",
    "    option = int(input(\"메뉴를 선택하시오 1) 재고조회 2) 입고 3) 출고 4) 종료 : \"))\r\n",
    "    if option == 1:\r\n",
    "        name = input(\"[재고조회] 물건의 이름을 입력하시오: \") \r\n",
    "        print('재고 :', items[name])\r\n",
    "    elif option == 2:\r\n",
    "        name, count = input(\"[입고] 물건의 이름과 수량을 입력하시오 : \").split()\r\n",
    "        items[name] += int(count)\r\n",
    "    elif option == 3:\r\n",
    "        name, count = input(\"[출고] 물건의 이름과 수량을 입력하시오 : \").split()\r\n",
    "        items[name] -= int(count)\r\n",
    "    elif option == 4:\r\n",
    "        print('프로그램을 종료합니다.')\r\n",
    "        break"
   ]
  },
  {
   "cell_type": "markdown",
   "metadata": {
    "id": "Tb7VhUG1TIeU"
   },
   "source": [
    "### 도전문제 8.3"
   ]
  },
  {
   "cell_type": "code",
   "execution_count": null,
   "metadata": {
    "id": "Mm_nPqoqU0_L"
   },
   "outputs": [],
   "source": [
    "partyA = set([\"Park\", \"Kim\", \"Lee\"]) \r\n",
    "partyB = set([\"Park\", \"Choi\"])\r\n",
    "\r\n",
    "print(\"파티 A, B에 참석한 사람들 : \", end=\"\")\r\n",
    "for x in partyA.union(partyB):\r\n",
    "    print(x, end=\" \")"
   ]
  },
  {
   "cell_type": "code",
   "execution_count": null,
   "metadata": {
    "id": "IEMB0JorU2Qz"
   },
   "outputs": [],
   "source": [
    "partyA = set([\"Park\", \"Kim\", \"Lee\"]) \r\n",
    "partyB = set([\"Park\", \"Choi\"])\r\n",
    "\r\n",
    "print(\"파티 A, B에 중복없이 참석한 사람 : \", end=\"\")\r\n",
    "for x in partyA.symmetric_difference(partyB):\r\n",
    "    print(x, end=\" \")"
   ]
  },
  {
   "cell_type": "code",
   "execution_count": null,
   "metadata": {
    "id": "XGudnIhiU3Wr"
   },
   "outputs": [],
   "source": [
    "partyA = set([\"Park\", \"Kim\", \"Lee\"]) \r\n",
    "partyB = set([\"Park\", \"Choi\"])\r\n",
    "\r\n",
    "print(\"파티 A에만 참석한 사람 : \", end=\"\")\r\n",
    "for x in partyA.difference(partyB):\r\n",
    "    print(x, end=\" \")"
   ]
  },
  {
   "cell_type": "markdown",
   "metadata": {
    "id": "qfoyEfK8TI_D"
   },
   "source": [
    "### 심화문제 8.1"
   ]
  },
  {
   "cell_type": "code",
   "execution_count": null,
   "metadata": {
    "id": "jjBsLRNEVOsD"
   },
   "outputs": [],
   "source": [
    "fruits_dic = {'사과':0, '배':0, '수박':0, '귤':0, '포도':0}\r\n",
    "\r\n",
    "# 문장이 너무 길기 때문에 \\를 이용해 여러 줄로 나눠 읽기 쉽게 해준다.\r\n",
    "fruits_dic[\"사과\"], fruits_dic[\"배\"], \\\r\n",
    "fruits_dic[\"수박\"], fruits_dic[\"귤\"], \\\r\n",
    "fruits_dic[\"포도\"] = map(int, input('사과, 배, 수박, 귤, 포도 가격을 공백으로 구분하여 입력: ').split())\r\n",
    "\r\n",
    "print('------------- 오늘의 과일 가격 ----------------')\r\n",
    "for name, price in fruits_dic.items():\r\n",
    "    print('{0:3s}:{1:6d}원'.format(name, price))"
   ]
  },
  {
   "cell_type": "markdown",
   "metadata": {
    "id": "SqZxytYhT84E"
   },
   "source": [
    "### 심화문제 8.2"
   ]
  },
  {
   "cell_type": "code",
   "execution_count": null,
   "metadata": {
    "id": "grw0tg4UVQxL"
   },
   "outputs": [],
   "source": [
    "fruits_dic = {'사과':0, '배':0, '수박':0, '귤':0, '포도':0}\r\n",
    "\r\n",
    "# 문장이 너무 길기 때문에 \\를 이용해 여러 줄로 나눠 읽기 쉽게 해준다.\r\n",
    "fruits_dic[\"사과\"], fruits_dic[\"배\"], \\\r\n",
    "fruits_dic[\"수박\"], fruits_dic[\"귤\"], \\\r\n",
    "fruits_dic[\"포도\"] = map(int, input('사과, 배, 수박, 귤, 포도 가격을 공백으로 구분하여 입력: ').split())\r\n",
    "\r\n",
    "name = input(\"구매를 원하는 과일의 이름을 입력하시오 : \") \r\n",
    "print('오늘의', name, '가격은', fruits_dic[name], '원 입니다.')"
   ]
  },
  {
   "cell_type": "markdown",
   "metadata": {
    "id": "B6h_aQOMT9jj"
   },
   "source": [
    "### 심화문제 8.3"
   ]
  },
  {
   "cell_type": "code",
   "execution_count": null,
   "metadata": {
    "id": "qXTGAGSFVSKz"
   },
   "outputs": [],
   "source": [
    "student_tup = (('211101', '최성훈', '010-1234-4500'), ('211102', '김은지', '010-2230-6540'), ('211103', '이세은', '010-3232-7788') )\r\n",
    "\r\n",
    "student_dic = {}\r\n",
    "for student in student_tup:\r\n",
    "    number, name, phone = student\r\n",
    "    student_dic[number] = [name, phone]\r\n",
    "\r\n",
    "for key, value in student_dic.items():\r\n",
    "    print(\"{'\" + key + \"' :\",value, \"}\")"
   ]
  },
  {
   "cell_type": "code",
   "execution_count": null,
   "metadata": {
    "id": "eOJ1hp8CVUYj"
   },
   "outputs": [],
   "source": [
    "student_tup = (('211101', '최성훈', '010-1234-4500'), ('211102', '김은지', '010-2230-6540'), ('211103', '이세은', '010-3232-7788') )\r\n",
    "\r\n",
    "student_dic = {}\r\n",
    "for student in student_tup:\r\n",
    "    number, name, phone = student\r\n",
    "    student_dic[number] = [name, phone]\r\n",
    "\r\n",
    "number = input(\"학번을 입력하시오 : \")\r\n",
    "print('이름 :', student_dic[number][0])\r\n",
    "print('연락처 :', student_dic[number][1])"
   ]
  },
  {
   "cell_type": "code",
   "execution_count": null,
   "metadata": {
    "id": "NRnHbIXHVU17"
   },
   "outputs": [],
   "source": [
    "student_tup = (('211101', '최성훈', '010-1234-4500'), ('211102', '김은지', '010-2230-6540'), ('211103', '이세은', '010-3232-7788') )\r\n",
    "\r\n",
    "student_dic = {}\r\n",
    "for student in student_tup:\r\n",
    "    number, name, phone = student\r\n",
    "    student_dic[number] = [name, phone]\r\n",
    "\r\n",
    "student_dic['211101'].append(4.3)\r\n",
    "student_dic['211102'].append(3.9)\r\n",
    "student_dic['211103'].append(4.25)\r\n",
    "\r\n",
    "print(\"학생의 정보 목록\")\r\n",
    "for key, value in student_dic.items():\r\n",
    "    print(\"{'\" + key + \"' :\",value, \"}\")"
   ]
  },
  {
   "cell_type": "code",
   "execution_count": null,
   "metadata": {
    "id": "NcbqoWPTVdxj"
   },
   "outputs": [],
   "source": [
    "student_tup = (('211101', '최성훈', '010-1234-4500'), ('211102', '김은지', '010-2230-6540'), ('211103', '이세은', '010-3232-7788') )\r\n",
    "\r\n",
    "student_dic = {}\r\n",
    "for student in student_tup:\r\n",
    "    number, name, phone = student\r\n",
    "    student_dic[number] = [name, phone]\r\n",
    "\r\n",
    "student_dic['211101'].append(4.3)\r\n",
    "student_dic['211102'].append(3.9)\r\n",
    "student_dic['211103'].append(4.25)\r\n",
    "\r\n",
    "result = 0\r\n",
    "\r\n",
    "print(\"학생의 정보 목록\")\r\n",
    "for key, value in student_dic.items():\r\n",
    "    result += value[2]\r\n",
    "\r\n",
    "print('전체 학생의 학점 평균 :', str(result/3))"
   ]
  },
  {
   "cell_type": "markdown",
   "metadata": {
    "id": "cxJM10bBT96D"
   },
   "source": [
    "### 심화문제 8.4"
   ]
  },
  {
   "cell_type": "code",
   "execution_count": null,
   "metadata": {
    "id": "b-NWOxPuVfkK"
   },
   "outputs": [],
   "source": [
    "lst = [10, 30, 40, 50, 30, 30, 20, 20, 20, 10, 30]\r\n",
    "\r\n",
    "lst_dic = {}\r\n",
    "for value in lst:\r\n",
    "    if lst_dic.get(value):\r\n",
    "        lst_dic[value] += 1\r\n",
    "    else:\r\n",
    "        lst_dic[value] = 1\r\n",
    "\r\n",
    "sorted_lst = sorted(lst_dic.items(), key=lambda x: x[0])\r\n",
    "\r\n",
    "lst = []\r\n",
    "for value in sorted_lst:\r\n",
    "    if value[1] == 1:\r\n",
    "        lst.append(value[0])\r\n",
    "\r\n",
    "print('중복이 없는 원소 :',lst)"
   ]
  },
  {
   "cell_type": "code",
   "execution_count": null,
   "metadata": {
    "id": "PnSkMHErVgHj"
   },
   "outputs": [],
   "source": [
    "lst = [10, 30, 40, 50, 30, 30, 20, 20, 20, 10, 30]\r\n",
    "\r\n",
    "lst_dic = {}\r\n",
    "for value in lst:\r\n",
    "    if lst_dic.get(value):\r\n",
    "        lst_dic[value] += 1\r\n",
    "    else:\r\n",
    "        lst_dic[value] = 1\r\n",
    "\r\n",
    "sorted_lst = sorted(lst_dic.items(), key=lambda x: x[0])\r\n",
    "\r\n",
    "lst = []\r\n",
    "for value in sorted_lst:\r\n",
    "    lst.append(value[0])\r\n",
    "\r\n",
    "print('전체 원소 :',lst)"
   ]
  },
  {
   "cell_type": "code",
   "execution_count": null,
   "metadata": {
    "id": "ZBjWTtk9VhVD"
   },
   "outputs": [],
   "source": [
    "lst = [10, 30, 40, 50, 30, 30, 20, 20, 20, 10, 30]\r\n",
    "\r\n",
    "lst_dic = {}\r\n",
    "for value in lst:\r\n",
    "    if lst_dic.get(value):\r\n",
    "        lst_dic[value] += 1\r\n",
    "    else:\r\n",
    "        lst_dic[value] = 1\r\n",
    "\r\n",
    "sorted_lst = sorted(lst_dic.items(), key=lambda x: x[0])\r\n",
    "\r\n",
    "lst = []\r\n",
    "for value in sorted_lst:\r\n",
    "    if value[1] != 1:\r\n",
    "        print(value[0], ':', value[1], '회')"
   ]
  },
  {
   "cell_type": "markdown",
   "metadata": {
    "id": "WaOMYKuvT-CD"
   },
   "source": [
    "### 심화문제 8.5"
   ]
  },
  {
   "cell_type": "code",
   "execution_count": null,
   "metadata": {
    "id": "HQaOl8IOVkTy"
   },
   "outputs": [],
   "source": [
    "print(\"사전 프로그램 시작... 종료는 q를 입력\")\r\n",
    "dictionary = {}\r\n",
    "\r\n",
    "while True:\r\n",
    "    st = input('$ ')\r\n",
    "    command = st[0]       # 첫 입력 문자를 추출한다\r\n",
    "    if command == '<':\r\n",
    "        st = st[1:]\r\n",
    "        inputStr = st.split(':')\r\n",
    "        if len(inputStr) < 2 :\r\n",
    "            print('입력 오류가 발생했습니다.')\r\n",
    "        else:\r\n",
    "            dictionary[inputStr[0].strip()] = inputStr[1].strip()\r\n",
    "    elif command == '>':\r\n",
    "        st = st[1:]\r\n",
    "        inputStr = st.strip()\r\n",
    "        if inputStr in dictionary:\r\n",
    "            print(dictionary[inputStr])\r\n",
    "        else :\r\n",
    "            print('{}가 사전에 없습니다.'.format(inputStr))\r\n",
    "    elif command == 'q':\r\n",
    "        break\r\n",
    "    elif command == 'v':\r\n",
    "        print('영어 사전에 있는 단어와 뜻을 출력합니다.')\r\n",
    "        for key, value in dictionary.items():\r\n",
    "            print(key, ':', value)\r\n",
    "    else :\r\n",
    "        print('입력 오류가 발생했습니다.')\r\n",
    "print(\"사전 프로그램을 종료합니다.\")"
   ]
  },
  {
   "cell_type": "markdown",
   "metadata": {
    "id": "rwWC_sCrT-Gz"
   },
   "source": [
    "### 심화문제 8.6"
   ]
  },
  {
   "cell_type": "code",
   "execution_count": null,
   "metadata": {
    "id": "ARj1fLFOVlvz"
   },
   "outputs": [],
   "source": [
    "student_tuple = [('211101', '강이안', '010-123-1111'), ('211102', '박동민', '010-123-2222'),('211103', '김수정', '010-123-3333')]\r\n",
    "\r\n",
    "student_dic = {}\r\n",
    "for student in student_tuple:\r\n",
    "    number, name, phone = student\r\n",
    "    student_dic[number] = [name, phone]\r\n",
    "\r\n",
    "for key, value in student_dic.items():\r\n",
    "    print(key + \" :\",value[0])\r\n",
    "\r\n",
    "number = input(\"학번을 입력하시오 : \")\r\n",
    "print(number + ' 학생은 ' + student_dic[number][0] + '이며, 전화번호는 ' + student_dic[number][1] + '입니다.')"
   ]
  }
 ],
 "metadata": {
  "colab": {
   "collapsed_sections": [],
   "name": "8장_도전문제_심화문제.ipynb",
   "provenance": []
  },
  "kernelspec": {
   "display_name": "Python 3",
   "language": "python",
   "name": "python3"
  },
  "language_info": {
   "codemirror_mode": {
    "name": "ipython",
    "version": 3
   },
   "file_extension": ".py",
   "mimetype": "text/x-python",
   "name": "python",
   "nbconvert_exporter": "python",
   "pygments_lexer": "ipython3",
   "version": "3.8.11"
  }
 },
 "nbformat": 4,
 "nbformat_minor": 4
}
