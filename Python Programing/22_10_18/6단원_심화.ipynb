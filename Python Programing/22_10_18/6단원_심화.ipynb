{
 "cells": [
  {
   "cell_type": "markdown",
   "metadata": {
    "id": "i_ZRdpwUdd5S"
   },
   "source": [
    "### 도전문제 6.1"
   ]
  },
  {
   "cell_type": "code",
   "execution_count": 1,
   "metadata": {
    "id": "283LDiKMmXYw"
   },
   "outputs": [
    {
     "name": "stdout",
     "output_type": "stream",
     "text": [
      "경상남도\n",
      "창원시 의창구 사림동\n",
      "창원대학로 20-1, 대학본부\n"
     ]
    }
   ],
   "source": [
    "def print_company_address() :\r\n",
    "    print('경상남도')\r\n",
    "    print('창원시 의창구 사림동')\r\n",
    "    print('창원대학로 20-1, 대학본부')\r\n",
    "\r\n",
    "print_company_address()  # 정의한 함수를 호출"
   ]
  },
  {
   "cell_type": "code",
   "execution_count": 2,
   "metadata": {
    "id": "iIs5xSLYmZHQ"
   },
   "outputs": [
    {
     "name": "stdout",
     "output_type": "stream",
     "text": [
      "********************\n",
      "********************\n",
      "********************\n",
      "********************\n",
      "********************\n"
     ]
    }
   ],
   "source": [
    "def print_star() :\r\n",
    "    print('********************')\r\n",
    "print_star()\r\n",
    "print_star()\r\n",
    "print_star()\r\n",
    "print_star()\r\n",
    "print_star()"
   ]
  },
  {
   "cell_type": "markdown",
   "metadata": {
    "id": "T8KsP98tmccn"
   },
   "source": [
    "### 도전문제 6.2"
   ]
  },
  {
   "cell_type": "code",
   "execution_count": 3,
   "metadata": {
    "id": "cwIrIN6qoUOo"
   },
   "outputs": [
    {
     "name": "stdout",
     "output_type": "stream",
     "text": [
      "이름 : 홍길순\n",
      "주소: 부산광역시 남구 광안로 10번길 1-1\n"
     ]
    }
   ],
   "source": [
    "def print_address(name, address) :\r\n",
    "    print('이름 :', name)\r\n",
    "    print('주소:', address)\r\n",
    "\r\n",
    "print_address(\"홍길순\", \"부산광역시 남구 광안로 10번길 1-1\")"
   ]
  },
  {
   "cell_type": "markdown",
   "metadata": {
    "id": "eesIl9CGmcgc"
   },
   "source": [
    "### 도전문제 6.3"
   ]
  },
  {
   "cell_type": "code",
   "execution_count": 4,
   "metadata": {
    "id": "fE6Y1M56odYm"
   },
   "outputs": [
    {
     "name": "stdout",
     "output_type": "stream",
     "text": [
      "1 제곱 : 1 ,  2 제곱 : 4 ,  3 제곱 : 9\n"
     ]
    }
   ],
   "source": [
    "def get_square(a, b, c) :\r\n",
    "    return a ** 2, b ** 2, c ** 2\r\n",
    "\r\n",
    "a, b, c = 1, 2, 3\r\n",
    "a_sq, b_sq, c_sq = get_square(a, b, c) \r\n",
    "print(a, '제곱 :', a_sq, ', ', b,'제곱 :', b_sq,', ',c,'제곱 :',c_sq)"
   ]
  },
  {
   "cell_type": "markdown",
   "metadata": {
    "id": "T3hcuVfemckL"
   },
   "source": [
    "### 도전문제 6.4"
   ]
  },
  {
   "cell_type": "code",
   "execution_count": 5,
   "metadata": {
    "id": "sAn4SeVSoozm"
   },
   "outputs": [
    {
     "name": "stdin",
     "output_type": "stream",
     "text": [
      "몇 번째 항:  2\n"
     ]
    },
    {
     "name": "stdout",
     "output_type": "stream",
     "text": [
      "1\n"
     ]
    }
   ],
   "source": [
    "def fibonacci(n): \r\n",
    "    if n < 2:\r\n",
    "        return n\r\n",
    "\r\n",
    "    a, b = 0, 1\r\n",
    "    for _ in range(n-1):\r\n",
    "        a, b = b, a + b\r\n",
    "\r\n",
    "    return b\r\n",
    "\r\n",
    "i = int(input(\"몇 번째 항: \")) \r\n",
    "print(fibonacci(i-1))  "
   ]
  },
  {
   "cell_type": "markdown",
   "metadata": {
    "id": "4Hg59GAImcnH"
   },
   "source": [
    "### 심화문제 6.1"
   ]
  },
  {
   "cell_type": "code",
   "execution_count": 6,
   "metadata": {
    "id": "mf29rRp_tafV"
   },
   "outputs": [
    {
     "name": "stdout",
     "output_type": "stream",
     "text": [
      "3의 제곱은 :  9\n",
      "4의 제곱은 :  16\n"
     ]
    }
   ],
   "source": [
    "def square(n):\r\n",
    "    return n ** 2\r\n",
    " \r\n",
    "print('3의 제곱은 : ', square(3))\r\n",
    "print('4의 제곱은 : ', square(4))"
   ]
  },
  {
   "cell_type": "markdown",
   "metadata": {
    "id": "NP78afenmifm"
   },
   "source": [
    "### 심화문제 6.2"
   ]
  },
  {
   "cell_type": "code",
   "execution_count": 7,
   "metadata": {
    "id": "T3zQcgu7tbQe"
   },
   "outputs": [
    {
     "name": "stdout",
     "output_type": "stream",
     "text": [
      "100과 200중 큰 수는 : 200\n",
      "100과 200중 작은 수는 : 100\n"
     ]
    }
   ],
   "source": [
    "def max2(m, n):\r\n",
    "    if m > n :\r\n",
    "        return m\r\n",
    "    else :\r\n",
    "        return n\r\n",
    " \r\n",
    "def min2(m, n):\r\n",
    "    if m > n :\r\n",
    "        return n\r\n",
    "    else :\r\n",
    "        return m\r\n",
    " \r\n",
    "print('100과 200중 큰 수는 :', max2(100, 200))\r\n",
    "print('100과 200중 작은 수는 :', min2(100, 200))"
   ]
  },
  {
   "cell_type": "markdown",
   "metadata": {
    "id": "SFy-1bjXmimn"
   },
   "source": [
    "### 심화문제 6.3"
   ]
  },
  {
   "cell_type": "code",
   "execution_count": 8,
   "metadata": {
    "id": "CXONNQpxtfZs"
   },
   "outputs": [
    {
     "name": "stdin",
     "output_type": "stream",
     "text": [
      "3 수를 입력하시오 :  10 20 30\n"
     ]
    },
    {
     "name": "stdout",
     "output_type": "stream",
     "text": [
      "가장 큰 수 : 30\n",
      "가장 작은 수 : 10\n"
     ]
    }
   ],
   "source": [
    "def max3(n1, n2, n3):\r\n",
    "    if n1 > n2 and n1 > n3:\r\n",
    "        return n1\r\n",
    "    elif n2 > n3:\r\n",
    "        return n2\r\n",
    "    else:\r\n",
    "        return n3\r\n",
    "\r\n",
    "def min3(n1, n2, n3):\r\n",
    "    if n1 < n2 and n1 < n3:\r\n",
    "        return n1\r\n",
    "    elif n2 < n3:\r\n",
    "        return n2\r\n",
    "    else:\r\n",
    "        return n3\r\n",
    "\r\n",
    "n1, n2, n3 = map(int, input('3 수를 입력하시오 : ').split())\r\n",
    "print('가장 큰 수 :', max3(n1, n2, n3))\r\n",
    "print('가장 작은 수 :', min3(n1, n2, n3))"
   ]
  },
  {
   "cell_type": "markdown",
   "metadata": {
    "id": "blEv2S74miqr"
   },
   "source": [
    "### 심화문제 6.4"
   ]
  },
  {
   "cell_type": "code",
   "execution_count": 9,
   "metadata": {
    "id": "Stzb-g0Vthes"
   },
   "outputs": [
    {
     "name": "stdin",
     "output_type": "stream",
     "text": [
      "3 수를 입력하시오 :  10 20 30\n"
     ]
    },
    {
     "name": "stdout",
     "output_type": "stream",
     "text": [
      "가장 큰 수 : 30\n",
      "가장 작은 수 : 10\n"
     ]
    }
   ],
   "source": [
    "def max3(n1, n2, n3):\r\n",
    "    if n1 > n2 and n1 > n3:\r\n",
    "        return n1\r\n",
    "    elif n2 > n3:\r\n",
    "        return n2\r\n",
    "    else:\r\n",
    "        return n3\r\n",
    "\r\n",
    "def min3(n1, n2, n3):\r\n",
    "    if n1 < n2 and n1 < n3:\r\n",
    "        return n1\r\n",
    "    elif n2 < n3:\r\n",
    "        return n2\r\n",
    "    else:\r\n",
    "        return n3\r\n",
    "\r\n",
    "def max_and_min(n1, n2, n3):\r\n",
    "    return max3(n1, n2, n3), min3(n1, n2, n3)\r\n",
    "\r\n",
    "n1, n2, n3 = map(int, input('3 수를 입력하시오 : ').split())\r\n",
    "maximum, minimum = max_and_min(n1, n2, n3)\r\n",
    "print('가장 큰 수 :', maximum)\r\n",
    "print('가장 작은 수 :', minimum)"
   ]
  },
  {
   "cell_type": "markdown",
   "metadata": {
    "id": "9zej_Dopmiup"
   },
   "source": [
    "### 심화문제 6.5"
   ]
  },
  {
   "cell_type": "code",
   "execution_count": 10,
   "metadata": {
    "id": "Jrodg5t7tjdd"
   },
   "outputs": [
    {
     "name": "stdout",
     "output_type": "stream",
     "text": [
      "섭씨  0 도는 화씨  32.0 도 입니다.\n",
      "섭씨  10 도는 화씨  50.0 도 입니다.\n",
      "섭씨  20 도는 화씨  68.0 도 입니다.\n",
      "섭씨  30 도는 화씨  86.0 도 입니다.\n",
      "섭씨  40 도는 화씨  104.0 도 입니다.\n",
      "섭씨  50 도는 화씨  122.0 도 입니다.\n"
     ]
    }
   ],
   "source": [
    "def cel2fah(cel):\r\n",
    "    return (9/5) * cel + 32\r\n",
    "\r\n",
    "for i in range(0, 51, 10):\r\n",
    "    print('섭씨 ', i, '도는 화씨 ', cel2fah(i), '도 입니다.')"
   ]
  },
  {
   "cell_type": "markdown",
   "metadata": {
    "id": "O7KdG8s7miya"
   },
   "source": [
    "### 심화문제 6.6"
   ]
  },
  {
   "cell_type": "code",
   "execution_count": 11,
   "metadata": {
    "id": "qaV_KbsMtk8N"
   },
   "outputs": [
    {
     "name": "stdin",
     "output_type": "stream",
     "text": [
      "소수 검사를 할 정수를 입력하시오:  5\n"
     ]
    },
    {
     "name": "stdout",
     "output_type": "stream",
     "text": [
      "True\n"
     ]
    }
   ],
   "source": [
    "def is_prime(number):\r\n",
    "    for i in range(2, number):\r\n",
    "        if number % i == 0:\r\n",
    "            return False\r\n",
    "    return True\r\n",
    "\r\n",
    "number = int(input(\"소수 검사를 할 정수를 입력하시오: \"))\r\n",
    "print(is_prime(number))"
   ]
  },
  {
   "cell_type": "markdown",
   "metadata": {
    "id": "GG38780omi2L"
   },
   "source": [
    "### 심화문제 6.7"
   ]
  },
  {
   "cell_type": "code",
   "execution_count": 12,
   "metadata": {
    "id": "iukaFRC_tmO8"
   },
   "outputs": [
    {
     "name": "stdout",
     "output_type": "stream",
     "text": [
      "120\n",
      "5040\n",
      "3628800\n"
     ]
    }
   ],
   "source": [
    "def factorial(n):\r\n",
    "    result = 1\r\n",
    "    for i in range(n):\r\n",
    "        result *= i+1\r\n",
    "    return result\r\n",
    "\r\n",
    "print(factorial(5))\r\n",
    "print(factorial(7))\r\n",
    "print(factorial(10))"
   ]
  },
  {
   "cell_type": "markdown",
   "metadata": {
    "id": "1gBHkwnnmi5a"
   },
   "source": [
    "### 심화문제 6.8"
   ]
  },
  {
   "cell_type": "code",
   "execution_count": 13,
   "metadata": {
    "id": "18OUZ5Wrtn-s"
   },
   "outputs": [
    {
     "name": "stdin",
     "output_type": "stream",
     "text": [
      "x1 :  10\n",
      "y1 :  20\n",
      "x2 :  30\n",
      "y1 :  40\n"
     ]
    },
    {
     "name": "stdout",
     "output_type": "stream",
     "text": [
      "(10.0,20.0)과 (30.0,40.0) 사이의 거리는 28.284271247461902\n"
     ]
    }
   ],
   "source": [
    "def distance(x1, y1, x2, y2):\r\n",
    "    return ((x2 - x1) ** 2 + (y2 - y1) ** 2) ** 0.5\r\n",
    "\r\n",
    "x1 = float(input('x1 : '))\r\n",
    "y1 = float(input('y1 : '))\r\n",
    "x2 = float(input('x2 : '))\r\n",
    "y2 = float(input('y1 : '))\r\n",
    "print('({},{})과 ({},{}) 사이의 거리는 {}'.format(x1, y1, x2, y2, distance(x1, y1, x2, y2)))"
   ]
  }
 ],
 "metadata": {
  "colab": {
   "collapsed_sections": [],
   "name": "6장_도전문제_심화문제.ipynb",
   "provenance": []
  },
  "kernelspec": {
   "display_name": "Python 3",
   "language": "python",
   "name": "python3"
  },
  "language_info": {
   "codemirror_mode": {
    "name": "ipython",
    "version": 3
   },
   "file_extension": ".py",
   "mimetype": "text/x-python",
   "name": "python",
   "nbconvert_exporter": "python",
   "pygments_lexer": "ipython3",
   "version": "3.8.11"
  }
 },
 "nbformat": 4,
 "nbformat_minor": 4
}
