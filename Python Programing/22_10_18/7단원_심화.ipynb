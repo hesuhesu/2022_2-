{
 "cells": [
  {
   "cell_type": "markdown",
   "metadata": {
    "id": "i_ZRdpwUdd5S"
   },
   "source": [
    "### 도전문제 7.1"
   ]
  },
  {
   "cell_type": "code",
   "execution_count": 1,
   "metadata": {
    "id": "cmFluvKl7s8H"
   },
   "outputs": [
    {
     "name": "stdout",
     "output_type": "stream",
     "text": [
      "True\n"
     ]
    }
   ],
   "source": [
    "black_pink = ['Jisoo', 'Jennie', 'Rose', 'Lisa']\r\n",
    "print('Jennie' in black_pink)"
   ]
  },
  {
   "cell_type": "code",
   "execution_count": 2,
   "metadata": {
    "id": "YJ5K7NoP7uc-"
   },
   "outputs": [
    {
     "name": "stdout",
     "output_type": "stream",
     "text": [
      "False\n"
     ]
    }
   ],
   "source": [
    "black_pink = ['Jisoo', 'Jennie', 'Rose', 'Lisa']\r\n",
    "print('Psy' in black_pink)"
   ]
  },
  {
   "cell_type": "markdown",
   "metadata": {
    "id": "r5NzsUJW5M2z"
   },
   "source": [
    "### 도전문제 7.2"
   ]
  },
  {
   "cell_type": "code",
   "execution_count": 3,
   "metadata": {
    "id": "djR1Tl5q76Kn"
   },
   "outputs": [
    {
     "name": "stdout",
     "output_type": "stream",
     "text": [
      "[6]\n",
      "[5, 6]\n",
      "[4, 5, 6]\n",
      "[5, 7, 9]\n"
     ]
    }
   ],
   "source": [
    "numbers = [4, 5, 6, 7, 8, 9]\r\n",
    "\r\n",
    "# 1\r\n",
    "print(numbers[2:3])\r\n",
    "\r\n",
    "# 2\r\n",
    "print(numbers[1:3])\r\n",
    "\r\n",
    "# 3\r\n",
    "print(numbers[:3])\r\n",
    "\r\n",
    "# 4\r\n",
    "print(numbers[1::2])"
   ]
  },
  {
   "cell_type": "markdown",
   "metadata": {
    "id": "AjQnQ87G5M7j"
   },
   "source": [
    "### 도전문제 7.3"
   ]
  },
  {
   "cell_type": "code",
   "execution_count": 4,
   "metadata": {
    "id": "KdF6BaYx8CZe"
   },
   "outputs": [
    {
     "name": "stdout",
     "output_type": "stream",
     "text": [
      "P\n",
      "strong\n",
      "Python\n",
      "is\n"
     ]
    }
   ],
   "source": [
    "s = \"Python is strong\"\r\n",
    "\r\n",
    "# 1\r\n",
    "print(s[0:1])\r\n",
    "\r\n",
    "# 2\r\n",
    "print(s[-6:])\r\n",
    "\r\n",
    "# 3\r\n",
    "print(s[:6])\r\n",
    "\r\n",
    "# 4\r\n",
    "print(s[7:9])"
   ]
  },
  {
   "cell_type": "markdown",
   "metadata": {
    "id": "CI-MO_Ul5NAR"
   },
   "source": [
    "### 도전문제 7.5"
   ]
  },
  {
   "cell_type": "code",
   "execution_count": 5,
   "metadata": {
    "id": "hFndId2X-vbV"
   },
   "outputs": [
    {
     "name": "stdout",
     "output_type": "stream",
     "text": [
      "############################\n",
      "#    오늘의    수학문제    #\n",
      "############################\n",
      "\n",
      "516 / 4 = 129.0\n"
     ]
    }
   ],
   "source": [
    "import random \r\n",
    " \r\n",
    "express = [] \r\n",
    "express.append(\"1 + 2\") \r\n",
    "express.append(\"341 - 154\") \r\n",
    "express.append(\"514 * 516\") \r\n",
    "express.append(\"516 / 4\") \r\n",
    "express.append(\"5151 + 1541\")\r\n",
    "express.append(\"65411 - 65156\") \r\n",
    "express.append(\"12345679 * 81\") \r\n",
    "express.append(\"142857 * 7\") \r\n",
    "express.append(\"10761 - 9999\") \r\n",
    "express.append(\"1577 - 1577\") \r\n",
    " \r\n",
    "print(\"############################\") \r\n",
    "print(\"#    오늘의    수학문제    #\") \r\n",
    "print(\"############################\") \r\n",
    "print(\"\") \r\n",
    "dailyQuiz = random.choice(express) \r\n",
    "print(dailyQuiz, '=', eval(dailyQuiz))"
   ]
  },
  {
   "cell_type": "markdown",
   "metadata": {
    "id": "Z42uSHoU5Okj"
   },
   "source": [
    "### 심화문제 7.2"
   ]
  },
  {
   "cell_type": "code",
   "execution_count": 6,
   "metadata": {
    "id": "dyHWx2ng-9B0"
   },
   "outputs": [
    {
     "name": "stdout",
     "output_type": "stream",
     "text": [
      "3 * 2 = 6\n",
      "3 * 3 = 9\n",
      "3 * 4 = 12\n",
      "3 * 5 = 15\n",
      "3 * 6 = 18\n",
      "5 * 2 = 10\n",
      "5 * 3 = 15\n",
      "5 * 4 = 20\n",
      "5 * 5 = 25\n",
      "5 * 6 = 30\n",
      "7 * 2 = 14\n",
      "7 * 3 = 21\n",
      "7 * 4 = 28\n",
      "7 * 5 = 35\n",
      "7 * 6 = 42\n"
     ]
    }
   ],
   "source": [
    "list1 = [3, 5, 7]\r\n",
    "list2 = [2, 3, 4, 5, 6]\r\n",
    "\r\n",
    "for i in list1:\r\n",
    "    for j in list2:\r\n",
    "        print(i, '*', j, '=', i * j)"
   ]
  },
  {
   "cell_type": "markdown",
   "metadata": {
    "id": "bXcKsJDn7gGl"
   },
   "source": [
    "### 심화문제 7.3"
   ]
  },
  {
   "cell_type": "code",
   "execution_count": 7,
   "metadata": {
    "id": "An0DxXfm-9q9"
   },
   "outputs": [
    {
     "name": "stdout",
     "output_type": "stream",
     "text": [
      "I like pancakes.\n",
      "I like kiwi juice.\n",
      "I like espresso.\n",
      "I love pancakes.\n",
      "I love kiwi juice.\n",
      "I love espresso.\n"
     ]
    }
   ],
   "source": [
    "list1 = ['I like', 'I love']\r\n",
    "list2 = ['pancakes.', 'kiwi juice.', 'espresso.']\r\n",
    "\r\n",
    "for i in list1:\r\n",
    "    for j in list2:\r\n",
    "        print(i, j)"
   ]
  },
  {
   "cell_type": "markdown",
   "metadata": {
    "id": "fV_z14rz7hRy"
   },
   "source": [
    "### 심화문제 7.5"
   ]
  },
  {
   "cell_type": "code",
   "execution_count": 8,
   "metadata": {
    "id": "IfW5jdNy-_IF"
   },
   "outputs": [
    {
     "name": "stdout",
     "output_type": "stream",
     "text": [
      "['A1', 'A2', 'B1', 'B2', 'C1', 'C2']\n"
     ]
    }
   ],
   "source": [
    "word = ('A', 'B', 'C')\r\n",
    "number = (1, 2)\r\n",
    "\r\n",
    "# seats = [x + y for x in word for y in number]\r\n",
    "# print(number)\r\n",
    "\r\n",
    "seats = [x + str(y) for x in word for y in number]\r\n",
    "print(seats)"
   ]
  },
  {
   "cell_type": "markdown",
   "metadata": {
    "id": "SbAvuxXu7hZC"
   },
   "source": [
    "### 심화문제 7.6"
   ]
  },
  {
   "cell_type": "code",
   "execution_count": 9,
   "metadata": {
    "id": "u2KZyAge_A09"
   },
   "outputs": [
    {
     "name": "stdin",
     "output_type": "stream",
     "text": [
      "문자열을 입력하세요 :  Hello World!\n"
     ]
    },
    {
     "name": "stdout",
     "output_type": "stream",
     "text": [
      "H\n",
      "He\n",
      "Hel\n",
      "Hell\n",
      "Hello\n",
      "Hello \n",
      "Hello W\n",
      "Hello Wo\n",
      "Hello Wor\n",
      "Hello Worl\n",
      "Hello World\n",
      "Hello World!\n",
      "Hello World\n",
      "Hello Worl\n",
      "Hello Wor\n",
      "Hello Wo\n",
      "Hello W\n",
      "Hello \n",
      "Hello\n",
      "Hell\n",
      "Hel\n",
      "He\n",
      "H\n"
     ]
    }
   ],
   "source": [
    "word = input('문자열을 입력하세요 : ')\r\n",
    "size = len(word)\r\n",
    "\r\n",
    "for i in range(1, size+1):\r\n",
    "    print(word[:i])\r\n",
    "for i in range(-1, -size, -1):\r\n",
    "    print(word[:i])"
   ]
  },
  {
   "cell_type": "markdown",
   "metadata": {
    "id": "3SfM0ArD7hfy"
   },
   "source": [
    "### 심화문제 7.7"
   ]
  },
  {
   "cell_type": "code",
   "execution_count": 10,
   "metadata": {
    "id": "VVm3K7Lk_ChV"
   },
   "outputs": [
    {
     "name": "stdout",
     "output_type": "stream",
     "text": [
      "['kiwi', 'apple', 'melon']\n"
     ]
    }
   ],
   "source": [
    "fruit_list = ['banana', 'orange', 'kiwi', 'apple', 'melon' ]\r\n",
    "\r\n",
    "maximum_size = 0\r\n",
    "maximum_list = []\r\n",
    "\r\n",
    "for fruit in fruit_list:\r\n",
    "    if len(fruit) > maximum_size:\r\n",
    "        maximum_list = [fruit]\r\n",
    "        maximum_size = len(fruit)\r\n",
    "    elif len(fruit) == maximum_size:\r\n",
    "        maximum_list.append(fruit)\r\n",
    "\r\n",
    "for fruit in maximum_list:\r\n",
    "    fruit_list.remove(fruit)\r\n",
    "\r\n",
    "print(fruit_list)"
   ]
  },
  {
   "cell_type": "code",
   "execution_count": 11,
   "metadata": {
    "id": "dqZufPqv_D8U"
   },
   "outputs": [
    {
     "name": "stdout",
     "output_type": "stream",
     "text": [
      "banana : 문자열의 길이 6\n",
      "orange : 문자열의 길이 6\n",
      "kiwi : 문자열의 길이 4\n",
      "apple : 문자열의 길이 5\n",
      "melon : 문자열의 길이 5\n"
     ]
    }
   ],
   "source": [
    "fruit_list = ['banana', 'orange', 'kiwi', 'apple', 'melon' ]\r\n",
    "\r\n",
    "for fruit in fruit_list:\r\n",
    "    print(fruit, ':', '문자열의 길이', len(fruit))"
   ]
  },
  {
   "cell_type": "markdown",
   "metadata": {
    "id": "ApDRmgwA7hni"
   },
   "source": [
    "### 심화문제 7.8"
   ]
  },
  {
   "cell_type": "code",
   "execution_count": 12,
   "metadata": {
    "id": "DG1YyBOX_F9N"
   },
   "outputs": [
    {
     "name": "stdin",
     "output_type": "stream",
     "text": [
      "n을 입력하시오 :  10\n"
     ]
    },
    {
     "name": "stdout",
     "output_type": "stream",
     "text": [
      "  1   2   3   4   5   6   7   8   9  10 \n",
      " 20  19  18  17  16  15  14  13  12  11 \n",
      " 21  22  23  24  25  26  27  28  29  30 \n",
      " 40  39  38  37  36  35  34  33  32  31 \n",
      " 41  42  43  44  45  46  47  48  49  50 \n",
      " 60  59  58  57  56  55  54  53  52  51 \n",
      " 61  62  63  64  65  66  67  68  69  70 \n",
      " 80  79  78  77  76  75  74  73  72  71 \n",
      " 81  82  83  84  85  86  87  88  89  90 \n",
      "100  99  98  97  96  95  94  93  92  91 \n"
     ]
    }
   ],
   "source": [
    "size = int(input('n을 입력하시오 : '))\r\n",
    "num_list1 = [i + 1 for i in range(size)]\r\n",
    "num_list2 = []\r\n",
    "\r\n",
    "for i in num_list1:\r\n",
    "    if i % 2 == 1:\r\n",
    "        num_list2 = num_list1[::1]\r\n",
    "    else:\r\n",
    "        num_list2 = num_list1[::-1]\r\n",
    "    \r\n",
    "    for number in num_list2:\r\n",
    "        print('{0:3d}'.format((i - 1) * size + number), end=' ')\r\n",
    "    print('')   "
   ]
  },
  {
   "cell_type": "markdown",
   "metadata": {
    "id": "9fTnILCJ7htv"
   },
   "source": [
    "### 심화문제 7.9"
   ]
  },
  {
   "cell_type": "code",
   "execution_count": 13,
   "metadata": {
    "id": "D2-NIJal_Hwc"
   },
   "outputs": [
    {
     "name": "stdin",
     "output_type": "stream",
     "text": [
      "문자열1을 입력하시오 :  Python Programming\n",
      "문자열2을 입력하시오 :  Linux Programming\n"
     ]
    },
    {
     "name": "stdout",
     "output_type": "stream",
     "text": [
      "Python ProgrammingLinux Programming\n"
     ]
    }
   ],
   "source": [
    "def overlap(w1, w2):\r\n",
    "    size = 0\r\n",
    "    w1_pos = 0\r\n",
    "    w2_pos = len(w2)\r\n",
    "    if len(w1) > len(w2):\r\n",
    "        size = len(w2)\r\n",
    "        w1_pos = len(w1) - len(w2)\r\n",
    "    else:\r\n",
    "        size = len(w1)\r\n",
    "        w2_pos = len(w1)\r\n",
    "    \r\n",
    "    for i in range(size):\r\n",
    "        if w1[w1_pos + i:] == w2[:w2_pos-i]:\r\n",
    "            return w1[:w1_pos + i] + w2\r\n",
    "    return w1 + w2\r\n",
    "\r\n",
    "word1 = input('문자열1을 입력하시오 : ')\r\n",
    "word2 = input('문자열2을 입력하시오 : ')\r\n",
    "print(overlap(word1, word2))"
   ]
  }
 ],
 "metadata": {
  "colab": {
   "collapsed_sections": [],
   "name": "7장_도전문제_심화문제.ipynb",
   "provenance": []
  },
  "kernelspec": {
   "display_name": "Python 3",
   "language": "python",
   "name": "python3"
  },
  "language_info": {
   "codemirror_mode": {
    "name": "ipython",
    "version": 3
   },
   "file_extension": ".py",
   "mimetype": "text/x-python",
   "name": "python",
   "nbconvert_exporter": "python",
   "pygments_lexer": "ipython3",
   "version": "3.8.11"
  }
 },
 "nbformat": 4,
 "nbformat_minor": 4
}
