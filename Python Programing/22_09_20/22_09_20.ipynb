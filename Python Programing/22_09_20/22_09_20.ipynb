{
 "cells": [
  {
   "cell_type": "markdown",
   "id": "722ea767",
   "metadata": {},
   "source": [
    "## 조건문"
   ]
  },
  {
   "cell_type": "code",
   "execution_count": 2,
   "id": "19b9580c",
   "metadata": {},
   "outputs": [
    {
     "name": "stdout",
     "output_type": "stream",
     "text": [
      "정수를 입력하세요. 비교합니다 : 101\n",
      "100보다 큽니다.\n"
     ]
    }
   ],
   "source": [
    "a = int(input('정수를 입력하세요. 비교합니다 : '))\n",
    "\n",
    "if a < 100 :\n",
    "    print(\"100보다 작습니다.\")\n",
    "else :\n",
    "    print(\"100보다 큽니다.\")"
   ]
  },
  {
   "cell_type": "code",
   "execution_count": 16,
   "id": "ec681a2e",
   "metadata": {},
   "outputs": [
    {
     "name": "stdout",
     "output_type": "stream",
     "text": [
      "2094173013136 2094173014672\n",
      "True\n",
      "False\n"
     ]
    }
   ],
   "source": [
    "a = 800\n",
    "b = 800\n",
    "\n",
    "print(id(a), id(b))\n",
    "print(a==b)\n",
    "print(a is b)\n",
    "# id 값은 다르다. 즉 a is b 가 False로 출력."
   ]
  },
  {
   "cell_type": "markdown",
   "id": "efbec241",
   "metadata": {},
   "source": [
    "## 삼항 연산자를 사용한 if문"
   ]
  },
  {
   "cell_type": "code",
   "execution_count": 17,
   "id": "26f05404",
   "metadata": {},
   "outputs": [
    {
     "name": "stdout",
     "output_type": "stream",
     "text": [
      "불합격\n"
     ]
    }
   ],
   "source": [
    "# 기존 조건문\n",
    "\n",
    "jumsu = 55\n",
    "res = ''\n",
    "\n",
    "if jumsu >= 60 :\n",
    "    res = '합격'\n",
    "else :\n",
    "    res = '불합격'\n",
    "print(res)"
   ]
  },
  {
   "cell_type": "code",
   "execution_count": 24,
   "id": "1d26e69e",
   "metadata": {},
   "outputs": [
    {
     "name": "stdout",
     "output_type": "stream",
     "text": [
      "불합격\n"
     ]
    }
   ],
   "source": [
    "# 변경된 삼항 연산자\n",
    "\n",
    "jumsu = 55\n",
    "res = '합격' if jumsu >= 60 else '불합격'\n",
    "print(res)\n",
    "# 적용문을 제시하고 if 로 조건을 제시, 차후 나머지 조건시 적용까지 제시한다."
   ]
  },
  {
   "cell_type": "code",
   "execution_count": 25,
   "id": "9d1aa3dc",
   "metadata": {},
   "outputs": [
    {
     "name": "stdout",
     "output_type": "stream",
     "text": [
      "생성된 리스트 [0, 8, 3, 9, 8, 2, 1, 7, 1, 1]\n",
      "숫자 4는 리스트에 없다.\n",
      "숫자 5는 리스트에 없다.\n",
      "숫자 6는 리스트에 없다.\n"
     ]
    }
   ],
   "source": [
    "import random\n",
    "\n",
    "number = []\n",
    "\n",
    "for num in range(0,10) :        # 0~9까지 숫자.\n",
    "    number.append(random.randrange(0,10))\n",
    "\n",
    "print(\"생성된 리스트\", number)\n",
    "    \n",
    "for num in range(0,10) : \n",
    "    if num not in number :\n",
    "        print(\"숫자 %d는 리스트에 없다.\"%num)"
   ]
  }
 ],
 "metadata": {
  "kernelspec": {
   "display_name": "Python 3",
   "language": "python",
   "name": "python3"
  },
  "language_info": {
   "codemirror_mode": {
    "name": "ipython",
    "version": 3
   },
   "file_extension": ".py",
   "mimetype": "text/x-python",
   "name": "python",
   "nbconvert_exporter": "python",
   "pygments_lexer": "ipython3",
   "version": "3.8.8"
  }
 },
 "nbformat": 4,
 "nbformat_minor": 5
}
