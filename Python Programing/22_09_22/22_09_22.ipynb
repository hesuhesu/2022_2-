{
 "cells": [
  {
   "cell_type": "markdown",
   "id": "f1c71d54",
   "metadata": {},
   "source": [
    "## for문"
   ]
  },
  {
   "cell_type": "code",
   "execution_count": 1,
   "id": "0fc015b8",
   "metadata": {},
   "outputs": [
    {
     "name": "stdout",
     "output_type": "stream",
     "text": [
      "1에서 10까지의 합계 : 55\n"
     ]
    }
   ],
   "source": [
    "# for문을 활용한 합계 구하기\n",
    "\n",
    "i, hap = 0,0\n",
    "\n",
    "for i in range(1,11,1) : \n",
    "    hap = hap + i\n",
    "    \n",
    "print(\"1에서 10까지의 합계 : %d\" % hap)"
   ]
  },
  {
   "cell_type": "code",
   "execution_count": 4,
   "id": "697dcfde",
   "metadata": {},
   "outputs": [
    {
     "name": "stdout",
     "output_type": "stream",
     "text": [
      "50~1000까지의 짝수 합계 : 249900\n"
     ]
    }
   ],
   "source": [
    "# range 활용\n",
    "\n",
    "i, hap = 0,0\n",
    "\n",
    "for i in range(50,1001,2) :\n",
    "    hap = hap + i\n",
    "    \n",
    "print(\"50~1000까지의 짝수 합계 : %d\" % hap)"
   ]
  },
  {
   "cell_type": "code",
   "execution_count": 6,
   "id": "11d05b48",
   "metadata": {},
   "outputs": [
    {
     "name": "stdout",
     "output_type": "stream",
     "text": [
      "값을 입력하시오 : 10\n",
      "1에서 10까지의 합계 : 55\n"
     ]
    }
   ],
   "source": [
    "# input 추가\n",
    "\n",
    "i, hap = 0,0\n",
    "num = int(input(\"값을 입력하시오 : \"))\n",
    "\n",
    "for i in range(1, num+1, 1):\n",
    "    hap = hap + i\n",
    "    \n",
    "print(\"1에서 %d까지의 합계 : %d\" %(num,hap))"
   ]
  },
  {
   "cell_type": "code",
   "execution_count": 7,
   "id": "ad1c5f94",
   "metadata": {},
   "outputs": [
    {
     "name": "stdout",
     "output_type": "stream",
     "text": [
      "단을 입력하세요 : 6\n",
      "6 * 1 = 6\n",
      "6 * 2 = 12\n",
      "6 * 3 = 18\n",
      "6 * 4 = 24\n",
      "6 * 5 = 30\n",
      "6 * 6 = 36\n",
      "6 * 7 = 42\n",
      "6 * 8 = 48\n",
      "6 * 9 = 54\n"
     ]
    }
   ],
   "source": [
    "# 입력받은 구구단 출력\n",
    "\n",
    "i, dan = 0,0\n",
    "\n",
    "dan = int(input(\"단을 입력하세요 : \"))\n",
    "\n",
    "for i in range(1,10,1) :\n",
    "  print(\"%d * %d = %d\"%(dan,i,dan*i))"
   ]
  },
  {
   "cell_type": "code",
   "execution_count": 8,
   "id": "f995b0ad",
   "metadata": {},
   "outputs": [
    {
     "name": "stdout",
     "output_type": "stream",
     "text": [
      "정수를 입력하시오 : 10\n",
      "10 !은 3628800 이다.\n"
     ]
    }
   ],
   "source": [
    "# 팩토리얼 계산\n",
    "\n",
    "n = int(input(\"정수를 입력하시오 : \"))\n",
    "\n",
    "fact = 1\n",
    "for i in range(1,n+1):\n",
    "    fact = fact * i\n",
    "    \n",
    "print(n, \"!은\", fact, \"이다.\")"
   ]
  },
  {
   "cell_type": "markdown",
   "id": "61b62da5",
   "metadata": {},
   "source": [
    "## list형"
   ]
  },
  {
   "cell_type": "code",
   "execution_count": 10,
   "id": "16c8e246",
   "metadata": {},
   "outputs": [
    {
     "name": "stdout",
     "output_type": "stream",
     "text": [
      "1번째 숫자 : 1\n",
      "2번째 숫자 : 2\n",
      "3번째 숫자 : 3\n",
      "4번째 숫자 : 4\n",
      "합계 ==> 10\n"
     ]
    }
   ],
   "source": [
    "# 수의 합\n",
    "\n",
    "aa = []\n",
    "for i in range(0,4) :\n",
    "    aa.append(0)\n",
    "hap = 0\n",
    "\n",
    "for i in range(0,4) :\n",
    "    aa[i] = int(input(str(i+1) + \"번째 숫자 : \"))\n",
    "\n",
    "hap = aa[0] + aa[1] + aa[2] + aa[3]\n",
    "\n",
    "print(\"합계 ==> %d\" % hap)"
   ]
  },
  {
   "cell_type": "code",
   "execution_count": null,
   "id": "2c1a58ed",
   "metadata": {},
   "outputs": [],
   "source": [
    "# 리스트 생성과 초기화\n",
    " \n",
    "aa = [] # 빈 리스트\n",
    "bb = [10,20,30] # 숫자 리스트(정수)\n",
    "cc = ['파이썬', '공부는', '잼'] # 문자열로 구성된 리스트\n",
    "dd = [10,20,'파이썬'] # 문자열, 정수 섞여서 가능."
   ]
  },
  {
   "cell_type": "code",
   "execution_count": 11,
   "id": "a9c68b4d",
   "metadata": {},
   "outputs": [
    {
     "data": {
      "text/plain": [
       "10"
      ]
     },
     "execution_count": 11,
     "metadata": {},
     "output_type": "execute_result"
    }
   ],
   "source": [
    "# 방법 - 1\n",
    "\n",
    "aa = [10,20,30,40]\n",
    "aa[-4] # n개면 -n까지 존재."
   ]
  },
  {
   "cell_type": "code",
   "execution_count": 13,
   "id": "9ceb2ee0",
   "metadata": {},
   "outputs": [
    {
     "name": "stdout",
     "output_type": "stream",
     "text": [
      "[10, 20, 30, 40, 50, 60]\n",
      "[10, 20, 30, 10, 20, 30, 10, 20, 30]\n"
     ]
    }
   ],
   "source": [
    "# 방법 - 2\n",
    "\n",
    "aa = [10,20,30]\n",
    "bb = [40,50,60]\n",
    "print(aa+bb) # 리스트 항목이 추가된다.\n",
    "print(aa * 3) # 리스트의 항목이 3번 복사된다."
   ]
  },
  {
   "cell_type": "code",
   "execution_count": 14,
   "id": "973b58e9",
   "metadata": {},
   "outputs": [
    {
     "name": "stdout",
     "output_type": "stream",
     "text": [
      "[30, 40]\n",
      "[10, 20]\n"
     ]
    }
   ],
   "source": [
    "# 방법 - 3\n",
    "\n",
    "aa = [10,20,30,40]\n",
    "print(aa[2:]) # 숫자에 조심. 0부터 시작이다.\n",
    "print(aa[:2])"
   ]
  },
  {
   "cell_type": "code",
   "execution_count": 17,
   "id": "74b851e1",
   "metadata": {},
   "outputs": [
    {
     "name": "stdout",
     "output_type": "stream",
     "text": [
      "[10, 30, 50, 70]\n",
      "[70, 50, 30, 10]\n",
      "[70, 60, 50, 40, 30, 20, 10]\n"
     ]
    }
   ],
   "source": [
    "# 방법 - 4\n",
    "\n",
    "aa = [10,20,30,40,50,60,70]\n",
    "print(aa[::2]) # n칸씩 띄워읽기.\n",
    "print(aa[::-2]) # -가 붙으면 반대시작.\n",
    "print(aa[::-1]) # 반대부터 출력"
   ]
  },
  {
   "cell_type": "code",
   "execution_count": 19,
   "id": "41b753ec",
   "metadata": {},
   "outputs": [
    {
     "data": {
      "text/plain": [
       "[10, [200, 201], 30]"
      ]
     },
     "execution_count": 19,
     "metadata": {},
     "output_type": "execute_result"
    }
   ],
   "source": [
    "# 방법 - 5\n",
    "\n",
    "aa = [10,20,30]\n",
    "aa[1] = [200,201]\n",
    "aa # aa라는 리스트에 2번째 부분에 기입된다."
   ]
  },
  {
   "cell_type": "code",
   "execution_count": 20,
   "id": "d29471c2",
   "metadata": {},
   "outputs": [
    {
     "data": {
      "text/plain": [
       "[10, 30]"
      ]
     },
     "execution_count": 20,
     "metadata": {},
     "output_type": "execute_result"
    }
   ],
   "source": [
    "# 방법 - 6\n",
    "\n",
    "aa = [10,20,30]\n",
    "del(aa[1]) # 2번째 항목을 지운다\n",
    "aa"
   ]
  },
  {
   "cell_type": "code",
   "execution_count": 23,
   "id": "4e2c3ac0",
   "metadata": {},
   "outputs": [
    {
     "data": {
      "text/plain": [
       "[10, 50]"
      ]
     },
     "execution_count": 23,
     "metadata": {},
     "output_type": "execute_result"
    }
   ],
   "source": [
    "# 방법 - 7\n",
    "\n",
    "aa = [10,20,30,40,50]\n",
    "aa[1:4] = [] # 빈 리스트로 만든다 출력은 1번째와 5번째만 존재한다.\n",
    "aa"
   ]
  },
  {
   "cell_type": "code",
   "execution_count": 24,
   "id": "d8c434c0",
   "metadata": {},
   "outputs": [
    {
     "data": {
      "text/plain": [
       "[]"
      ]
     },
     "execution_count": 24,
     "metadata": {},
     "output_type": "execute_result"
    }
   ],
   "source": [
    "# 방법 - 8\n",
    "\n",
    "aa = [10,20,30]\n",
    "aa = [] # 리스트 삭제 빈 [] 대신 None을 입력하면 아무것도 안뜸.\n",
    "aa "
   ]
  }
 ],
 "metadata": {
  "kernelspec": {
   "display_name": "Python 3",
   "language": "python",
   "name": "python3"
  },
  "language_info": {
   "codemirror_mode": {
    "name": "ipython",
    "version": 3
   },
   "file_extension": ".py",
   "mimetype": "text/x-python",
   "name": "python",
   "nbconvert_exporter": "python",
   "pygments_lexer": "ipython3",
   "version": "3.8.8"
  }
 },
 "nbformat": 4,
 "nbformat_minor": 5
}
