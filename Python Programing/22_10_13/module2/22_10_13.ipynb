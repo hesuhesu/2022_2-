{
 "cells": [
  {
   "cell_type": "markdown",
   "id": "a5e61229",
   "metadata": {},
   "source": [
    "## 함수의 심화"
   ]
  },
  {
   "cell_type": "code",
   "execution_count": 1,
   "id": "0e5ab0cd",
   "metadata": {},
   "outputs": [
    {
     "name": "stdout",
     "output_type": "stream",
     "text": [
      "30\n"
     ]
    }
   ],
   "source": [
    "def outFunc(v1, v2) :\n",
    "    def inFunc(num1, num2) :\n",
    "        return num1+num2\n",
    "    return inFunc(v1,v2)\n",
    "print(outFunc(10,20))"
   ]
  },
  {
   "cell_type": "code",
   "execution_count": 2,
   "id": "4fcb5d38",
   "metadata": {
    "scrolled": true
   },
   "outputs": [
    {
     "ename": "NameError",
     "evalue": "name 'inFunc' is not defined",
     "output_type": "error",
     "traceback": [
      "\u001b[1;31m---------------------------------------------------------------------------\u001b[0m",
      "\u001b[1;31mNameError\u001b[0m                                 Traceback (most recent call last)",
      "\u001b[1;32m<ipython-input-2-a79d4faa5fa3>\u001b[0m in \u001b[0;36m<module>\u001b[1;34m\u001b[0m\n\u001b[1;32m----> 1\u001b[1;33m \u001b[0mprint\u001b[0m\u001b[1;33m(\u001b[0m\u001b[0minFunc\u001b[0m\u001b[1;33m(\u001b[0m\u001b[1;36m10\u001b[0m\u001b[1;33m,\u001b[0m\u001b[1;36m20\u001b[0m\u001b[1;33m)\u001b[0m\u001b[1;33m)\u001b[0m \u001b[1;31m# 내부 함수이기 때문에 밖에서 직접 호출이 안됨.\u001b[0m\u001b[1;33m\u001b[0m\u001b[1;33m\u001b[0m\u001b[0m\n\u001b[0m",
      "\u001b[1;31mNameError\u001b[0m: name 'inFunc' is not defined"
     ]
    }
   ],
   "source": [
    "print(inFunc(10,20)) # 내부 함수이기 때문에 밖에서 직접 호출이 안됨."
   ]
  },
  {
   "cell_type": "markdown",
   "id": "3ada69f9",
   "metadata": {},
   "source": [
    "## lanbda 함수"
   ]
  },
  {
   "cell_type": "code",
   "execution_count": 4,
   "id": "df6b4c2b",
   "metadata": {},
   "outputs": [
    {
     "name": "stdout",
     "output_type": "stream",
     "text": [
      "30\n"
     ]
    }
   ],
   "source": [
    "# 기존식\n",
    "\n",
    "def hap(num1, num2) :\n",
    "    res = num1 + num2\n",
    "    return res\n",
    "print(hap(10,20))"
   ]
  },
  {
   "cell_type": "code",
   "execution_count": 6,
   "id": "024bcdd9",
   "metadata": {},
   "outputs": [
    {
     "name": "stdout",
     "output_type": "stream",
     "text": [
      "30\n"
     ]
    }
   ],
   "source": [
    "# lambda를 이용한 식 - 1\n",
    "\n",
    "hap2 = lambda num1, num2 : num1 + num2\n",
    "print(hap2(10,20))"
   ]
  },
  {
   "cell_type": "code",
   "execution_count": 8,
   "id": "1236b299",
   "metadata": {},
   "outputs": [
    {
     "name": "stdout",
     "output_type": "stream",
     "text": [
      "30\n",
      "300\n"
     ]
    }
   ],
   "source": [
    "# lambda를 이용한 식 - 2\n",
    "\n",
    "hap3 = lambda num1 = 10, num2 = 20 : num1 + num2\n",
    "print(hap3()) # 매개변수에 기본값을 설정하므로, 10과 20이 자동으로 기입되서 계산.\n",
    "print(hap3(100,200))"
   ]
  },
  {
   "cell_type": "code",
   "execution_count": 12,
   "id": "b97d004c",
   "metadata": {},
   "outputs": [
    {
     "name": "stdout",
     "output_type": "stream",
     "text": [
      "100과 200의 합 : 300\n"
     ]
    }
   ],
   "source": [
    "# lambda를 이용한 식 - 3\n",
    "\n",
    "print('100과 200의 합 :', (lambda x,y : x+y)(100,200))\n",
    "# 이처럼 별도 라인없이 한 줄에 구현 가능하다."
   ]
  },
  {
   "cell_type": "markdown",
   "id": "a9c39052",
   "metadata": {},
   "source": [
    "## map 함수\n",
    "\n",
    "### r = map(function, iterable, ...) 이다."
   ]
  },
  {
   "cell_type": "code",
   "execution_count": 15,
   "id": "6fa7cd35",
   "metadata": {},
   "outputs": [
    {
     "data": {
      "text/plain": [
       "[18, 14, 14, 14]"
      ]
     },
     "execution_count": 15,
     "metadata": {},
     "output_type": "execute_result"
    }
   ],
   "source": [
    "a = [1,2,3,4]\n",
    "b = [17,12,11,10]\n",
    "list(map(lambda x,y : x+y,a,b))"
   ]
  },
  {
   "cell_type": "code",
   "execution_count": 16,
   "id": "0edfbb24",
   "metadata": {},
   "outputs": [
    {
     "name": "stdout",
     "output_type": "stream",
     "text": [
      "[11, 12, 13, 14, 15]\n"
     ]
    }
   ],
   "source": [
    "# 기존 예제\n",
    "\n",
    "mylist = [1,2,3,4,5]\n",
    "def add10(num):\n",
    "    return num+10\n",
    "\n",
    "for i in range(len(mylist)):\n",
    "    mylist[i] = add10(mylist[i])\n",
    "print(mylist)"
   ]
  },
  {
   "cell_type": "code",
   "execution_count": 19,
   "id": "b6544293",
   "metadata": {},
   "outputs": [
    {
     "name": "stdout",
     "output_type": "stream",
     "text": [
      "[11, 12, 13, 14, 15]\n"
     ]
    }
   ],
   "source": [
    "mylist = [1,2,3,4,5]\n",
    "add10_2 = lambda num:num+10\n",
    "mylist = list(map(add10_2,mylist))\n",
    "print(mylist)"
   ]
  },
  {
   "cell_type": "markdown",
   "id": "09a3e803",
   "metadata": {},
   "source": [
    "## filter 함수"
   ]
  },
  {
   "cell_type": "code",
   "execution_count": 28,
   "id": "e1fb194a",
   "metadata": {},
   "outputs": [
    {
     "name": "stdout",
     "output_type": "stream",
     "text": [
      "성인 제한 나이만 출력 : \n",
      "34 39 20 54 "
     ]
    }
   ],
   "source": [
    "def adult_func(n):\n",
    "    if n >= 19 :\n",
    "        return True\n",
    "    else :\n",
    "        return False\n",
    "\n",
    "ages = [34,39,20,18,13,54]\n",
    "print(\"성인 제한 나이만 출력 : \")\n",
    "for i in filter(adult_func, ages) :\n",
    "    print(i, end = ' ')"
   ]
  }
 ],
 "metadata": {
  "kernelspec": {
   "display_name": "Python 3",
   "language": "python",
   "name": "python3"
  },
  "language_info": {
   "codemirror_mode": {
    "name": "ipython",
    "version": 3
   },
   "file_extension": ".py",
   "mimetype": "text/x-python",
   "name": "python",
   "nbconvert_exporter": "python",
   "pygments_lexer": "ipython3",
   "version": "3.8.8"
  }
 },
 "nbformat": 4,
 "nbformat_minor": 5
}
