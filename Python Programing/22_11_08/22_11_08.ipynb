{
 "cells": [
  {
   "cell_type": "markdown",
   "id": "352c4756",
   "metadata": {},
   "source": [
    "# Class"
   ]
  },
  {
   "cell_type": "code",
   "execution_count": 1,
   "id": "b7cb8658",
   "metadata": {},
   "outputs": [
    {
     "name": "stdout",
     "output_type": "stream",
     "text": [
      "넓이는 200\n"
     ]
    }
   ],
   "source": [
    "class Rectangle :\n",
    "    count = 0\n",
    "\n",
    "    def __init__(self, width, height) :\n",
    "        self.width = width\n",
    "        self.height = height\n",
    "        Rectangle.count = 1\n",
    "    \n",
    "    def calcArea(self) :\n",
    "        area = self.width * self.height\n",
    "        return \"넓이는 {}\".format(area)\n",
    "\n",
    "A1 = Rectangle(20,10)\n",
    "\n",
    "print(A1.calcArea())"
   ]
  },
  {
   "cell_type": "code",
   "execution_count": 2,
   "id": "eed40069",
   "metadata": {},
   "outputs": [],
   "source": [
    "# 생성자가 없는 Car class\n",
    "\n",
    "class Car :\n",
    "    color = \"\"\n",
    "    speed = 0\n",
    "    \n",
    "    def upSpeed(self, value) :\n",
    "        self.speed += value\n",
    "        \n",
    "    def downSpeed(self, value) :\n",
    "        self.speed -= value\n",
    "        \n",
    "myCar1 = Car()\n",
    "myCar1.color = \"빨강\"\n",
    "myCar1.speed = 0\n",
    "\n",
    "myCar2 = Car()\n",
    "myCar2.color = \"파랑\"\n",
    "myCar2.speed = 0\n",
    "\n",
    "myCar3 = Car()\n",
    "myCar3.color = \"노랑\"\n",
    "myCar3.speed = 0"
   ]
  },
  {
   "cell_type": "code",
   "execution_count": 3,
   "id": "fe3eff80",
   "metadata": {},
   "outputs": [
    {
     "name": "stdout",
     "output_type": "stream",
     "text": [
      "30\n",
      "-20\n"
     ]
    }
   ],
   "source": [
    "myCar1.upSpeed(30)\n",
    "print(myCar1.speed)\n",
    "myCar1.downSpeed(50)\n",
    "print(myCar1.speed)"
   ]
  },
  {
   "cell_type": "code",
   "execution_count": 5,
   "id": "e0b12b30",
   "metadata": {},
   "outputs": [
    {
     "name": "stdout",
     "output_type": "stream",
     "text": [
      "30 60\n",
      "myCar1가 가속할 속도를 입력하시오 : 50\n",
      "myCar1가 가속할 속도를 입력하시오 : 30\n",
      "myCar1가 가속할 속도를 입력하시오 : 10\n",
      "myCar1가 가속할 속도를 입력하시오 : 0\n",
      "최종 속력은 120\n"
     ]
    }
   ],
   "source": [
    "# 생성자가 있는 Car class\n",
    "\n",
    "class Car :\n",
    "    color = \"\"\n",
    "    speed = 0\n",
    "    \n",
    "    def __init__(self, value1, value2) :\n",
    "        self.color = value1\n",
    "        self.speed = value2\n",
    "    \n",
    "    def upSpeed(self, value) :\n",
    "        self.speed += value\n",
    "        \n",
    "    def downSpeed(self, value) :\n",
    "        self.speed -= value\n",
    "        \n",
    "myCar1 = Car(\"빨강\", 30)\n",
    "myCar2 = Car(\"파랑\", 60)\n",
    "\n",
    "print(myCar1.speed, myCar2.speed)\n",
    "\n",
    "while 1 :\n",
    "    n1 = int(input(\"myCar1가 가속할 속도를 입력하시오 : \"))\n",
    "    if n1 == 0 :\n",
    "        break\n",
    "    myCar1.upSpeed(n1)\n",
    "\n",
    "print(\"최종 속력은 {}\".format(myCar1.speed))"
   ]
  },
  {
   "cell_type": "code",
   "execution_count": 6,
   "id": "a42ed498",
   "metadata": {},
   "outputs": [
    {
     "name": "stdout",
     "output_type": "stream",
     "text": [
      "Student __init__\n",
      "Person __init__\n",
      "Python Coding\n",
      "Hello.\n"
     ]
    }
   ],
   "source": [
    "# 상속\n",
    "\n",
    "class Person :\n",
    "    \n",
    "    def __init__(self) :\n",
    "        print(\"Person __init__\")\n",
    "        self.hello = \"Hello.\"\n",
    "    \n",
    "class Student(Person) :\n",
    "    def __init__(self) :\n",
    "        print(\"Student __init__\")\n",
    "        super().__init__()\n",
    "        self.school = 'Python Coding'\n",
    "\n",
    "james = Student()\n",
    "print(james.school)\n",
    "print(james.hello)"
   ]
  }
 ],
 "metadata": {
  "kernelspec": {
   "display_name": "Python 3",
   "language": "python",
   "name": "python3"
  },
  "language_info": {
   "codemirror_mode": {
    "name": "ipython",
    "version": 3
   },
   "file_extension": ".py",
   "mimetype": "text/x-python",
   "name": "python",
   "nbconvert_exporter": "python",
   "pygments_lexer": "ipython3",
   "version": "3.8.8"
  }
 },
 "nbformat": 4,
 "nbformat_minor": 5
}
