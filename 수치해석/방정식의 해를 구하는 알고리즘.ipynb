{
 "cells": [
  {
   "cell_type": "markdown",
   "id": "c4c53bc6",
   "metadata": {},
   "source": [
    "## 이분법"
   ]
  },
  {
   "cell_type": "code",
   "execution_count": 10,
   "id": "caa682d3",
   "metadata": {},
   "outputs": [
    {
     "name": "stdout",
     "output_type": "stream",
     "text": [
      "     k        c\n",
      "    1    0.5000\n",
      "    2    1.7500\n",
      "    3    1.1250\n",
      "    4    0.8125\n",
      "    5    0.9688\n",
      "    6    1.0469\n",
      "    7    1.0078\n"
     ]
    }
   ],
   "source": [
    "import matplotlib.pyplot as plt\n",
    "from numpy import zeros, sign, linspace, sqrt\n",
    "\n",
    "# Define bisection function\n",
    "def bisection(f,a,b,n):\n",
    "    c = zeros(n)\n",
    "    for i in range(n):\n",
    "        c[i] = (a+b)/2.0\n",
    "        if sign(f(c[i])) == sign(f(a)):\n",
    "            a = c[i]\n",
    "        else :\n",
    "            b = c[i]\n",
    "    return c\n",
    "\n",
    "# Define function\n",
    "def f(x) :\n",
    "    return -x**2 + 6.0 * x - 5.0\n",
    "\n",
    "# Execute bisection function\n",
    "a = -2.0\n",
    "b = 3.0\n",
    "n = 7\n",
    "xb = bisection(f,a,b,n)\n",
    "\n",
    "list_x = []\n",
    "list_y = []\n",
    "\n",
    "# Print results\n",
    "print(\" %5s %8s\" % ('k', 'c'))\n",
    "for k in range(n):\n",
    "    print(\"%5d %9.4f\" % (k+1,xb[k]))\n",
    "    list_x.append(k)\n",
    "    list_y.append(xb[k])"
   ]
  },
  {
   "cell_type": "code",
   "execution_count": 11,
   "id": "0594f8a9",
   "metadata": {},
   "outputs": [
    {
     "data": {
      "image/png": "[encoded data removed]",
      "text/plain": [
       "<Figure size 432x288 with 1 Axes>"
      ]
     },
     "metadata": {
      "needs_background": "light"
     },
     "output_type": "display_data"
    }
   ],
   "source": [
    "plt.plot(list_x,list_y)\n",
    "plt.show()"
   ]
  },
  {
   "cell_type": "markdown",
   "id": "94ac60b4",
   "metadata": {},
   "source": [
    "## 고정점"
   ]
  },
  {
   "cell_type": "code",
   "execution_count": 16,
   "id": "6f716c4c",
   "metadata": {},
   "outputs": [
    {
     "name": "stdout",
     "output_type": "stream",
     "text": [
      "     k        x\n",
      "     1    3.0000\n",
      "     2    2.3333\n",
      "     3    1.7407\n",
      "     4    1.3384\n",
      "     5    1.1319\n",
      "     6    1.0469\n",
      "     7    1.0160\n",
      "     8    1.0054\n",
      "     9    1.0018\n",
      "    10    1.0006\n",
      "    11    1.0002\n",
      "    12    1.0001\n",
      "    13    1.0000\n",
      "    14    1.0000\n",
      "    15    1.0000\n"
     ]
    }
   ],
   "source": [
    "from numpy import zeros\n",
    "\n",
    "def fixedpoint(g,x0,n):\n",
    "    x = zeros(n)\n",
    "    errs = zeros(n)\n",
    "    x[0] = x0\n",
    "    for i in range(n-1):\n",
    "        x[i+1] = g(x[i])\n",
    "    return x\n",
    "\n",
    "# Define functions\n",
    "def g(x):\n",
    "    return 1.0/6.0*(x**2 + 5)\n",
    "\n",
    "# Run FIXEDPOINT\n",
    "x0 = 3.0\n",
    "n = 15\n",
    "xf = fixedpoint(g,x0,n)\n",
    "\n",
    "list_x = []\n",
    "list_y = []\n",
    "\n",
    "# Print results\n",
    "print(\" %5s %8s\" % ('k', 'x'))\n",
    "for k in range(n):\n",
    "    print(\" %5d %9.4f\" % (k+1, xf[k]))\n",
    "    list_x.append(k)\n",
    "    list_y.append(xf[k])"
   ]
  },
  {
   "cell_type": "code",
   "execution_count": 17,
   "id": "14a6bc5e",
   "metadata": {},
   "outputs": [
    {
     "data": {
      "image/png": "[encoded data removed]",
      "text/plain": [
       "<Figure size 432x288 with 1 Axes>"
      ]
     },
     "metadata": {
      "needs_background": "light"
     },
     "output_type": "display_data"
    }
   ],
   "source": [
    "plt.plot(list_x,list_y)\n",
    "plt.show()"
   ]
  }
 ],
 "metadata": {
  "kernelspec": {
   "display_name": "Python 3 (ipykernel)",
   "language": "python",
   "name": "python3"
  },
  "language_info": {
   "codemirror_mode": {
    "name": "ipython",
    "version": 3
   },
   "file_extension": ".py",
   "mimetype": "text/x-python",
   "name": "python",
   "nbconvert_exporter": "python",
   "pygments_lexer": "ipython3",
   "version": "3.9.7"
  }
 },
 "nbformat": 4,
 "nbformat_minor": 5
}
