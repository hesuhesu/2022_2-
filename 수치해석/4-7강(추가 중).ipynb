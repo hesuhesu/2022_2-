{
 "cells": [
  {
   "cell_type": "markdown",
   "id": "b2956751",
   "metadata": {},
   "source": [
    "# Python 기초 문법"
   ]
  },
  {
   "cell_type": "code",
   "execution_count": 2,
   "id": "2503c1c6",
   "metadata": {
    "scrolled": true
   },
   "outputs": [
    {
     "name": "stdout",
     "output_type": "stream",
     "text": [
      "x =  [0, 1, 2, 3, 4]\n",
      "y =  [1.2, 3.7, 1.5, 2.1, 3.2]\n"
     ]
    }
   ],
   "source": [
    "x = list(range(5))\n",
    "y = [1.2, 3.7, 1.5, 2.1, 3.2]\n",
    "print('x = ', x)\n",
    "print('y = ', y)"
   ]
  },
  {
   "cell_type": "code",
   "execution_count": 3,
   "id": "a7542b7d",
   "metadata": {
    "scrolled": true
   },
   "outputs": [
    {
     "name": "stdout",
     "output_type": "stream",
     "text": [
      "a =  [0, 2, 4, 6, 8]\n",
      "b =  [0, 1, 2, 3, 4]\n"
     ]
    }
   ],
   "source": [
    "a = range(0,10,2)\n",
    "b = range(0,5)\n",
    "print('a = ', list(a))\n",
    "print('b = ', list(b))"
   ]
  },
  {
   "cell_type": "code",
   "execution_count": 5,
   "id": "3fcde711",
   "metadata": {},
   "outputs": [
    {
     "name": "stdout",
     "output_type": "stream",
     "text": [
      "0\n",
      "1\n",
      "2\n",
      "3\n",
      "4\n"
     ]
    }
   ],
   "source": [
    "for i in range(5) :\n",
    "    print(i)"
   ]
  },
  {
   "cell_type": "code",
   "execution_count": 6,
   "id": "7845a254",
   "metadata": {},
   "outputs": [
    {
     "name": "stdout",
     "output_type": "stream",
     "text": [
      "7\n"
     ]
    }
   ],
   "source": [
    "x = 7\n",
    "if x > 5 :\n",
    "    print(x)"
   ]
  }
 ],
 "metadata": {
  "kernelspec": {
   "display_name": "Python 3",
   "language": "python",
   "name": "python3"
  },
  "language_info": {
   "codemirror_mode": {
    "name": "ipython",
    "version": 3
   },
   "file_extension": ".py",
   "mimetype": "text/x-python",
   "name": "python",
   "nbconvert_exporter": "python",
   "pygments_lexer": "ipython3",
   "version": "3.8.8"
  }
 },
 "nbformat": 4,
 "nbformat_minor": 5
}
