{
 "cells": [
  {
   "cell_type": "markdown",
   "id": "b2956751",
   "metadata": {},
   "source": [
    "# Python 기초 문법"
   ]
  },
  {
   "cell_type": "markdown",
   "id": "a33ced41",
   "metadata": {},
   "source": [
    "## list, range"
   ]
  },
  {
   "cell_type": "code",
   "execution_count": 2,
   "id": "2503c1c6",
   "metadata": {
    "scrolled": true
   },
   "outputs": [
    {
     "name": "stdout",
     "output_type": "stream",
     "text": [
      "x =  [0, 1, 2, 3, 4]\n",
      "y =  [1.2, 3.7, 1.5, 2.1, 3.2]\n"
     ]
    }
   ],
   "source": [
    "x = list(range(5))\n",
    "y = [1.2, 3.7, 1.5, 2.1, 3.2]\n",
    "print('x = ', x)\n",
    "print('y = ', y)"
   ]
  },
  {
   "cell_type": "code",
   "execution_count": 3,
   "id": "a7542b7d",
   "metadata": {
    "scrolled": true
   },
   "outputs": [
    {
     "name": "stdout",
     "output_type": "stream",
     "text": [
      "a =  [0, 2, 4, 6, 8]\n",
      "b =  [0, 1, 2, 3, 4]\n"
     ]
    }
   ],
   "source": [
    "a = range(0,10,2)\n",
    "b = range(0,5)\n",
    "print('a = ', list(a))\n",
    "print('b = ', list(b))"
   ]
  },
  {
   "cell_type": "code",
   "execution_count": 5,
   "id": "3fcde711",
   "metadata": {},
   "outputs": [
    {
     "name": "stdout",
     "output_type": "stream",
     "text": [
      "0\n",
      "1\n",
      "2\n",
      "3\n",
      "4\n"
     ]
    }
   ],
   "source": [
    "for i in range(5) :\n",
    "    print(i)"
   ]
  },
  {
   "cell_type": "code",
   "execution_count": 6,
   "id": "7845a254",
   "metadata": {},
   "outputs": [
    {
     "name": "stdout",
     "output_type": "stream",
     "text": [
      "7\n"
     ]
    }
   ],
   "source": [
    "x = 7\n",
    "if x > 5 :\n",
    "    print(x)"
   ]
  },
  {
   "cell_type": "markdown",
   "id": "10e6e288",
   "metadata": {},
   "source": [
    "## functions"
   ]
  },
  {
   "cell_type": "code",
   "execution_count": 1,
   "id": "683e2692",
   "metadata": {},
   "outputs": [
    {
     "name": "stdout",
     "output_type": "stream",
     "text": [
      "9\n"
     ]
    }
   ],
   "source": [
    "def square(x) :\n",
    "    return x**2\n",
    "\n",
    "print(square(3))"
   ]
  },
  {
   "cell_type": "code",
   "execution_count": 1,
   "id": "dc17433c",
   "metadata": {},
   "outputs": [
    {
     "name": "stdout",
     "output_type": "stream",
     "text": [
      "8\n",
      "negative\n"
     ]
    }
   ],
   "source": [
    "def adding(a,b) :\n",
    "    c = a + b\n",
    "    if c > 0 :\n",
    "        return c\n",
    "    else :\n",
    "        return 'negative'\n",
    "\n",
    "print(adding(3,5))\n",
    "print(adding(-9,1))"
   ]
  },
  {
   "cell_type": "markdown",
   "id": "19f55acf",
   "metadata": {},
   "source": [
    "## Numpy"
   ]
  },
  {
   "cell_type": "code",
   "execution_count": 3,
   "id": "cd40bf68",
   "metadata": {},
   "outputs": [
    {
     "name": "stdout",
     "output_type": "stream",
     "text": [
      "[0 1 2 3 4]\n",
      "[0 1 2 3 4]\n",
      "5\n"
     ]
    }
   ],
   "source": [
    "from numpy import array\n",
    "listA = [0,1,2,3,4]\n",
    "y_vector = array(listA)\n",
    "a_vector = array([0,1,2,3,4])\n",
    "\n",
    "print(y_vector)\n",
    "print(a_vector)\n",
    "print(len(a_vector))"
   ]
  },
  {
   "cell_type": "code",
   "execution_count": 4,
   "id": "22d834e4",
   "metadata": {},
   "outputs": [
    {
     "name": "stdout",
     "output_type": "stream",
     "text": [
      "(3, 3)\n"
     ]
    }
   ],
   "source": [
    "amat = array([[0,1,2],[3,4,5],[6,7,8]])\n",
    "print(amat.shape)"
   ]
  },
  {
   "cell_type": "code",
   "execution_count": 5,
   "id": "d6295dcb",
   "metadata": {},
   "outputs": [
    {
     "name": "stdout",
     "output_type": "stream",
     "text": [
      "[0 1 2 3 4]\n",
      "[0 3 6 9]\n"
     ]
    }
   ],
   "source": [
    "from numpy import arange\n",
    "brange = arange(5)\n",
    "crange = arange(0,10,3)\n",
    "print(brange)\n",
    "print(crange)"
   ]
  },
  {
   "cell_type": "code",
   "execution_count": 6,
   "id": "d9298e91",
   "metadata": {},
   "outputs": [
    {
     "name": "stdout",
     "output_type": "stream",
     "text": [
      "[0.   0.25 0.5  0.75 1.  ]\n"
     ]
    }
   ],
   "source": [
    "from numpy import linspace\n",
    "aspace = linspace(0,1,5)\n",
    "print(aspace)"
   ]
  },
  {
   "cell_type": "markdown",
   "id": "ab80889e",
   "metadata": {},
   "source": [
    "## ones / zeros / eye 함수"
   ]
  },
  {
   "cell_type": "code",
   "execution_count": 8,
   "id": "7b6bb812",
   "metadata": {},
   "outputs": [
    {
     "name": "stdout",
     "output_type": "stream",
     "text": [
      "ones =  [[1. 1. 1.]\n",
      " [1. 1. 1.]\n",
      " [1. 1. 1.]]\n",
      "zeros =  [[0. 0. 0.]\n",
      " [0. 0. 0.]\n",
      " [0. 0. 0.]]\n",
      "eye =  [[1. 0. 0.]\n",
      " [0. 1. 0.]\n",
      " [0. 0. 1.]]\n"
     ]
    }
   ],
   "source": [
    "from numpy import ones, zeros, eye\n",
    "aones = ones((3,3))\n",
    "azeros = zeros((3,3))\n",
    "aeye = eye(3)\n",
    "print('ones = ', aones)\n",
    "print('zeros = ',azeros)\n",
    "print('eye = ',aeye)"
   ]
  },
  {
   "cell_type": "markdown",
   "id": "db8929a5",
   "metadata": {},
   "source": [
    "## 행렬 연산"
   ]
  },
  {
   "cell_type": "code",
   "execution_count": 10,
   "id": "2333bb06",
   "metadata": {},
   "outputs": [
    {
     "name": "stdout",
     "output_type": "stream",
     "text": [
      "[[ 0  3  5]\n",
      " [ 9  9  8]\n",
      " [10  9  7]]\n",
      "[[ 2  1  1]\n",
      " [-1  1  4]\n",
      " [ 4  7 11]]\n"
     ]
    }
   ],
   "source": [
    "from numpy import array\n",
    "A = array([[1,2,3],[4,5,6],[7,8,9]])\n",
    "B = array([[-1,1,2],[5,4,2],[3,1,-2]])\n",
    "madd = A + B\n",
    "msub = A - B\n",
    "print(madd)\n",
    "print(msub)"
   ]
  },
  {
   "cell_type": "code",
   "execution_count": 14,
   "id": "3b3e0201",
   "metadata": {},
   "outputs": [
    {
     "name": "stdout",
     "output_type": "stream",
     "text": [
      "A*10 =  [[10. 20. 30.]\n",
      " [40. 50. 60.]\n",
      " [70. 80. 90.]]\n",
      "A/2 =  [[0.5 1.  1.5]\n",
      " [2.  2.5 3. ]\n",
      " [3.5 4.  4.5]]\n"
     ]
    }
   ],
   "source": [
    "from numpy import array\n",
    "A = array([[1,2,3],[4,5,6],[7,8,9]])\n",
    "mult = A * 10.0\n",
    "divi = A/2.0\n",
    "print('A*10 = ',mult)\n",
    "print('A/2 = ',divi)"
   ]
  },
  {
   "cell_type": "markdown",
   "id": "715f620e",
   "metadata": {},
   "source": [
    "## 내적과 행렬 곱"
   ]
  },
  {
   "cell_type": "code",
   "execution_count": 18,
   "id": "6f5c00da",
   "metadata": {},
   "outputs": [
    {
     "name": "stdout",
     "output_type": "stream",
     "text": [
      "11\n"
     ]
    }
   ],
   "source": [
    "from numpy import array\n",
    "a = array([1,2])\n",
    "b = array([3,4])\n",
    "dots = a.dot(b)\n",
    "print(dots)"
   ]
  },
  {
   "cell_type": "code",
   "execution_count": 19,
   "id": "05f260a1",
   "metadata": {},
   "outputs": [
    {
     "name": "stdout",
     "output_type": "stream",
     "text": [
      "matrix multiplication =  [[ -1   2   6]\n",
      " [ 20  20  12]\n",
      " [ 21   8 -18]]\n",
      "dot product =  [[18 12  0]\n",
      " [39 30  6]\n",
      " [60 48 12]]\n"
     ]
    }
   ],
   "source": [
    "from numpy import array, dot\n",
    "A = array([[1,2,3],[4,5,6],[7,8,9]])\n",
    "B = array([[-1,1,2],[5,4,2],[3,1,-2]])\n",
    "mmt = A * B\n",
    "dotp = A.dot(B)\n",
    "print('matrix multiplication = ',mmt)\n",
    "print('dot product = ',dotp)"
   ]
  },
  {
   "cell_type": "markdown",
   "id": "f4a1e7d9",
   "metadata": {},
   "source": [
    "## 조회(indexing)"
   ]
  },
  {
   "cell_type": "code",
   "execution_count": 20,
   "id": "a7ec21e9",
   "metadata": {},
   "outputs": [
    {
     "name": "stdout",
     "output_type": "stream",
     "text": [
      "a[1] =  2\n",
      "a[3] =  4\n",
      "a[-1] =  5\n"
     ]
    }
   ],
   "source": [
    "from numpy import array\n",
    "a = array([1,2,3,4,5])\n",
    "print('a[1] = ',a[1])\n",
    "print('a[3] = ',a[3])\n",
    "print('a[-1] = ',a[-1])"
   ]
  },
  {
   "cell_type": "code",
   "execution_count": 21,
   "id": "c761467a",
   "metadata": {},
   "outputs": [
    {
     "name": "stdout",
     "output_type": "stream",
     "text": [
      "5\n",
      "8\n"
     ]
    }
   ],
   "source": [
    "from numpy import array\n",
    "A = array([[1,2,3],[4,5,6],[7,8,9]])\n",
    "print(A[1,1])\n",
    "print(A[2,1])"
   ]
  },
  {
   "cell_type": "markdown",
   "id": "5b182ba7",
   "metadata": {},
   "source": [
    "## 추출(slicing)"
   ]
  },
  {
   "cell_type": "code",
   "execution_count": 22,
   "id": "b8a58fee",
   "metadata": {},
   "outputs": [
    {
     "name": "stdout",
     "output_type": "stream",
     "text": [
      "a[1:5] =  [1 2 3 4]\n"
     ]
    }
   ],
   "source": [
    "from numpy import array\n",
    "a = array([0,1,2,3,4,5,6,7,8])\n",
    "print('a[1:5] = ',a[1:5])"
   ]
  },
  {
   "cell_type": "code",
   "execution_count": 23,
   "id": "14294d99",
   "metadata": {},
   "outputs": [
    {
     "name": "stdout",
     "output_type": "stream",
     "text": [
      "a[:3] =  [0 1 2]\n"
     ]
    }
   ],
   "source": [
    "from numpy import array\n",
    "a = array([0,1,2,3,4,5,6,7,8])\n",
    "print('a[:3] = ',a[:3])"
   ]
  },
  {
   "cell_type": "markdown",
   "id": "49806d5d",
   "metadata": {},
   "source": [
    "## 벡터화 기법"
   ]
  },
  {
   "cell_type": "code",
   "execution_count": 26,
   "id": "ccfb2a6d",
   "metadata": {},
   "outputs": [
    {
     "name": "stdout",
     "output_type": "stream",
     "text": [
      "  1.0000\n",
      "  0.9754\n",
      "  0.9028\n",
      "  0.7859\n",
      "  0.6303\n",
      "  0.4437\n",
      "  0.2352\n",
      "  0.0152\n",
      " -0.2055\n",
      " -0.4161\n"
     ]
    }
   ],
   "source": [
    "# 벡터화 기법 적용.\n",
    "\n",
    "from numpy import linspace, zeros,cos\n",
    "x = linspace(0,2,10)\n",
    "n = len(x)\n",
    "y = zeros(n)\n",
    "for i in range(n):\n",
    "    y[i] = cos(x[i])\n",
    "    print('%8.4f' % y[i])"
   ]
  },
  {
   "cell_type": "code",
   "execution_count": 27,
   "id": "e332cba0",
   "metadata": {},
   "outputs": [
    {
     "name": "stdout",
     "output_type": "stream",
     "text": [
      "[ 1.          0.97541009  0.90284967  0.78588726  0.63027505  0.44366602\n",
      "  0.23523757  0.01524018 -0.20550672 -0.41614684]\n"
     ]
    }
   ],
   "source": [
    "from numpy import linspace, zeros, cos\n",
    "x = linspace(0,2,10)\n",
    "y = cos(x)\n",
    "print(y)"
   ]
  },
  {
   "cell_type": "markdown",
   "id": "4041fed2",
   "metadata": {},
   "source": [
    "## matplotlib를 통한 함수 작성"
   ]
  },
  {
   "cell_type": "code",
   "execution_count": 30,
   "id": "fe526f54",
   "metadata": {},
   "outputs": [
    {
     "data": {
      "image/png": "[encoded data removed]",
      "text/plain": [
       "<Figure size 432x288 with 1 Axes>"
      ]
     },
     "metadata": {
      "needs_background": "light"
     },
     "output_type": "display_data"
    }
   ],
   "source": [
    "from numpy import linspace,cos,pi\n",
    "import matplotlib.pyplot as plt\n",
    "x = linspace(0,2.0*pi,40)\n",
    "y = cos(x)\n",
    "plt.plot(x,y,'k')\n",
    "plt.show()"
   ]
  },
  {
   "cell_type": "code",
   "execution_count": 31,
   "id": "44f42195",
   "metadata": {},
   "outputs": [
    {
     "data": {
      "image/png": "[encoded data removed]",
      "text/plain": [
       "<Figure size 432x288 with 1 Axes>"
      ]
     },
     "metadata": {
      "needs_background": "light"
     },
     "output_type": "display_data"
    }
   ],
   "source": [
    "# cos(x) 작성. 각 축에 명칭 표시\n",
    "\n",
    "from numpy import linspace,cos,pi\n",
    "import matplotlib.pyplot as plt\n",
    "x = linspace(0,2.0*pi,40)\n",
    "y = cos(x)\n",
    "plt.plot(x,y)\n",
    "plt.xlabel('x')\n",
    "plt.ylabel('y')\n",
    "plt.title('y = cos(x)')\n",
    "plt.show()"
   ]
  },
  {
   "cell_type": "code",
   "execution_count": 32,
   "id": "efd94ebf",
   "metadata": {},
   "outputs": [
    {
     "data": {
      "image/png": "[encoded data removed]",
      "text/plain": [
       "<Figure size 432x288 with 1 Axes>"
      ]
     },
     "metadata": {
      "needs_background": "light"
     },
     "output_type": "display_data"
    }
   ],
   "source": [
    "# cos, sin을 동시 작성\n",
    "\n",
    "from numpy import linspace,cos,sin,pi\n",
    "import matplotlib.pyplot as plt\n",
    "x = linspace(0,2.0*pi,40)\n",
    "yc = cos(x)\n",
    "ys = sin(x)\n",
    "plt.plot(x,yc,'ko-',label='cos(x)')\n",
    "plt.plot(x,ys,'k--',label='sin(x)')\n",
    "plt.legend()\n",
    "plt.xlabel('x')\n",
    "plt.ylabel('y')\n",
    "plt.title('y = cos(x) & sin(x)')\n",
    "plt.show()"
   ]
  },
  {
   "cell_type": "code",
   "execution_count": 33,
   "id": "f5598deb",
   "metadata": {},
   "outputs": [
    {
     "data": {
      "image/png": "[encoded data removed]",
      "text/plain": [
       "<Figure size 432x288 with 1 Axes>"
      ]
     },
     "metadata": {
      "needs_background": "light"
     },
     "output_type": "display_data"
    }
   ],
   "source": [
    "from numpy import array\n",
    "import matplotlib.pyplot as plt\n",
    "x = array([0,1,3,7,8])\n",
    "y = array([1.1,2.5,-0.7,3.0,2.9])\n",
    "plt.plot(x,y,'ko-')\n",
    "plt.xlabel('x')\n",
    "plt.ylabel('y')\n",
    "plt.show()"
   ]
  }
 ],
 "metadata": {
  "kernelspec": {
   "display_name": "Python 3",
   "language": "python",
   "name": "python3"
  },
  "language_info": {
   "codemirror_mode": {
    "name": "ipython",
    "version": 3
   },
   "file_extension": ".py",
   "mimetype": "text/x-python",
   "name": "python",
   "nbconvert_exporter": "python",
   "pygments_lexer": "ipython3",
   "version": "3.8.8"
  }
 },
 "nbformat": 4,
 "nbformat_minor": 5
}
