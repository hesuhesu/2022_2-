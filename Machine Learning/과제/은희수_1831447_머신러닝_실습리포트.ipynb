{
  "nbformat": 4,
  "nbformat_minor": 0,
  "metadata": {
    "colab": {
      "provenance": []
    },
    "kernelspec": {
      "name": "python3",
      "display_name": "Python 3"
    },
    "language_info": {
      "name": "python"
    },
    "accelerator": "GPU",
    "gpuClass": "standard"
  },
  "cells": [
    {
      "cell_type": "markdown",
      "source": [
        "### 패키지 선언"
      ],
      "metadata": {
        "id": "QklLFdrtjr5a"
      }
    },
    {
      "cell_type": "code",
      "source": [
        "import torch\n",
        "import torch.nn as nn\n",
        "import torchvision.datasets as dataset\n",
        "import torchvision.transforms as transform\n",
        "from torch.utils.data import DataLoader\n",
        "import matplotlib.pyplot as plt\n",
        "import numpy as np"
      ],
      "metadata": {
        "id": "7lV8TMctTuX7"
      },
      "execution_count": 1,
      "outputs": []
    },
    {
      "cell_type": "markdown",
      "source": [
        "## Dataset 다운로드"
      ],
      "metadata": {
        "id": "wglW_lW5j8RM"
      }
    },
    {
      "cell_type": "code",
      "source": [
        "# Training dataset 다운로드\n",
        "cifar100_train = dataset.CIFAR100(root = \"./\",\n",
        "                            train = True,\n",
        "                            transform = transform.ToTensor(),\n",
        "                            download = True)\n",
        "# Testing dataset 다운로드\n",
        "cifar100_test = dataset.CIFAR100(root = \"./\",\n",
        "                            train = False,\n",
        "                            transform = transform.ToTensor(),\n",
        "                            download = True)\n",
        "\n",
        "dataLabel = [\"apple\", \"aquarium_fish\", \"baby\", \"bear\", \"beaver\",\n",
        "             \"bed\", \"bee\", \"beetle\", \"bicycle\", \"bottle\", \"bowl\",\n",
        "             \"boy\", \"bridge\", \"bus\", \"butterfly\", \"camel\", \"can\",\n",
        "             \"castle\", \"caterpillar\", \"cattle\", \"chair\", \"chimpanzee\",\n",
        "             \"clock\", \"cloud\", \"cockroach\", \"couch\", \"cra\", \"crocodile\",\n",
        "             \"cup\", \"dinosaur\", \"dolphin\", \"elephant\", \"flatfish\", \"forest\",\n",
        "             \"fox\", \"girl\", \"hamster\", \"house\", \"kangaroo\", \"keyboard\",\n",
        "             \"lamp\", \"lawn_mower\", \"leopard\", \"lion\", \"lizard\", \"lobster\",\n",
        "             \"man\", \"maple_tree\", \"motorcycle\", \"mountain\", \"mouse\", \"mushroom\",\n",
        "             \"oak_tree\", \"orange\", \"orchid\", \"otter\", \"palm_tree\", \"pear\", \"pickup_truck\",\n",
        "             \"pine_tree\", \"plain\", \"plate\", \"poppy\", \"porcupine\", \"possum\", \"rabbit\", \"raccoon\",\n",
        "             \"ray\", \"road\", \"rocket\", \"rose\", \"sea\", \"seal\", \"shark\", \"shrew\",\n",
        "             \"skunk\", \"skyscraper\", \"snail\", \"snake\", \"spider\", \"squirrel\",\n",
        "             \"streetcar\", \"sunflower\", \"sweet_pepper\", \"table\", \"tank\", \"telephone\",\n",
        "             \"television\", \"tiger\", \"tractor\", \"train\", \"trout\", \"tulip\",\n",
        "             \"turtle\", \"wardrobe\", \"whale\", \"willow_tree\", \"wolf\", \"woman\", \"worm\"\n",
        "             ]"
      ],
      "metadata": {
        "id": "24F1ZKZ9j2y-",
        "colab": {
          "base_uri": "https://localhost:8080/"
        },
        "outputId": "32a89756-01d4-489b-db5a-49f7f63dfdb9"
      },
      "execution_count": 2,
      "outputs": [
        {
          "output_type": "stream",
          "name": "stdout",
          "text": [
            "Downloading https://www.cs.toronto.edu/~kriz/cifar-100-python.tar.gz to ./cifar-100-python.tar.gz\n"
          ]
        },
        {
          "output_type": "stream",
          "name": "stderr",
          "text": [
            "100%|██████████| 169001437/169001437 [00:05<00:00, 32610007.33it/s]\n"
          ]
        },
        {
          "output_type": "stream",
          "name": "stdout",
          "text": [
            "Extracting ./cifar-100-python.tar.gz to ./\n",
            "Files already downloaded and verified\n"
          ]
        }
      ]
    },
    {
      "cell_type": "markdown",
      "source": [
        "## 신경망 모델 정의\n",
        "- Fully Connected Layer -> nn.Linear(in_features, out_features)\n",
        "- Convolutional Layer -> nn.Conv2d(in_channels, out_channels, kernel_size, stride, padding)\n",
        "- ReLU -> nn.ReLU()\n",
        "- Max Pooling -> nn.MaxPool2d(kernel_size, stride)\n"
      ],
      "metadata": {
        "id": "I65fUdO7uzp-"
      }
    },
    {
      "cell_type": "code",
      "source": [
        "'''\n",
        "초기 모델\n",
        "\n",
        "class SimpleCNN(nn.Module):\n",
        "    def __init__(self):\n",
        "        super(SimpleCNN, self).__init__()\n",
        "        self.conv1 = nn.Conv2d(3, 64, kernel_size=3, stride=1, padding=1)\n",
        "        self.conv2 = nn.Conv2d(64, 128, kernel_size=3, stride=1, padding=1)\n",
        "        self.conv3 = nn.Conv2d(128, 256, kernel_size=3, stride=1, padding=1)\n",
        "        self.pool = nn.MaxPool2d(kernel_size=2, stride=2, padding=0)\n",
        "        self.fc1 = nn.Linear(4096, 1024)\n",
        "        self.fc2 = nn.Linear(1024, 512)\n",
        "        self.fc3 = nn.Linear(512, 100)\n",
        "\n",
        "    def forward(self, x):\n",
        "        x = self.pool(F.relu(self.conv1(x)))\n",
        "        x = self.pool(F.relu(self.conv2(x)))\n",
        "        x = self.pool(F.relu(self.conv3(x)))\n",
        "        x = x.view(-1, 4096)\n",
        "        x = F.relu(self.fc1(x))\n",
        "        x = F.relu(self.fc2(x))\n",
        "        x = self.fc3(x)\n",
        "        return x\n",
        "'''\n",
        "\n",
        "class SimpleCNN(nn.Module):\n",
        "\n",
        "  def __init__(self):\n",
        "    super(SimpleCNN, self).__init__()\n",
        "\n",
        "    self.conv1 = nn.Conv2d(3, 64, kernel_size=3, stride=1, padding=1)\n",
        "    self.conv2 = nn.Conv2d(64, 128, kernel_size=3, stride=1, padding=1)\n",
        "    self.conv3 = nn.Conv2d(128, 256, kernel_size=3, stride=1, padding=1)\n",
        "\n",
        "    self.fc1 = nn.Linear(in_features=4096, out_features=2024) # 4096, 2024\n",
        "    self.fc2 = nn.Linear(in_features=2024, out_features=100) # 2024, 100\n",
        "\n",
        "    self.relu = nn.ReLU()\n",
        "    self.max_pool = nn.MaxPool2d(kernel_size=2, stride=2)\n",
        "\n",
        "    self.conv_skip1 = nn.Conv2d(in_channels=3, out_channels=64, kernel_size=3, stride=1, padding=1)\n",
        "    self.conv_skip2 = nn.Conv2d(in_channels=64, out_channels=128, kernel_size=3, stride=1, padding=1)\n",
        "    self.conv_skip3 = nn.Conv2d(in_channels=128, out_channels=256, kernel_size=3, stride=1, padding=1)\n",
        "\n",
        "  def forward(self, x):\n",
        "    #-----------------------------------------------------------------\n",
        "    # Convolution, ReLU, MaxPool layer\n",
        "    skip_y = self.conv_skip1(x)\n",
        "    y = self.relu(self.conv1(x))\n",
        "    y = y + skip_y\n",
        "    y = self.max_pool(y)\n",
        "\n",
        "    skip_y = self.conv_skip2(y)\n",
        "    y = self.relu(self.conv2(y))\n",
        "    y = y + skip_y\n",
        "    y = self.max_pool(y)\n",
        "\n",
        "    skip_y = self.conv_skip3(y)\n",
        "    y = self.relu(self.conv3(y))\n",
        "    y = y + skip_y\n",
        "    y = self.max_pool(y)\n",
        "    #-----------------------------------------------------------------\n",
        "\n",
        "    y = y.view(-1, 4096) # feature map 평탄화\n",
        "\n",
        "    #-----------------------------------------------------------------\n",
        "    # Fully Connected, ReLU layer\n",
        "    y = self.relu(self.fc1(y))\n",
        "    y = self.fc2(y)\n",
        "    #-----------------------------------------------------------------\n",
        "\n",
        "    return y\n"
      ],
      "metadata": {
        "id": "oc4HgDKRtDFk"
      },
      "execution_count": 72,
      "outputs": []
    },
    {
      "cell_type": "markdown",
      "source": [
        "## Hyper-parameters 지정"
      ],
      "metadata": {
        "id": "5Fz63UdivjY3"
      }
    },
    {
      "cell_type": "code",
      "source": [
        "batch_size = 100 # 고정값\n",
        "learning_rate = 0.1 # 가변\n",
        "training_epochs = 30 # 고정값\n",
        "loss_function = nn.CrossEntropyLoss() # 가변\n",
        "network = SimpleCNN().to('cuda')\n",
        "optimizer = torch.optim.SGD(network.parameters(), lr = learning_rate) # 가변\n",
        "\n",
        "data_loader = DataLoader(dataset=cifar100_train,\n",
        "                         batch_size=batch_size,\n",
        "                         shuffle=True,\n",
        "                         drop_last=True)"
      ],
      "metadata": {
        "id": "DIdnVvA4vjCe"
      },
      "execution_count": 73,
      "outputs": []
    },
    {
      "cell_type": "markdown",
      "source": [
        "## CNN 학습을 위한 반복문 선언"
      ],
      "metadata": {
        "id": "dBPBa7th2oNx"
      }
    },
    {
      "cell_type": "code",
      "source": [
        "for epoch in range(training_epochs):\n",
        "  network.train()\n",
        "  avg_cost = 0\n",
        "  total_batch = len(data_loader)\n",
        "\n",
        "  for img, label in data_loader:\n",
        "    img = img.to('cuda')\n",
        "    label = label.to('cuda')\n",
        "    pred = network(img)\n",
        "\n",
        "    loss = loss_function(pred, label)\n",
        "    optimizer.zero_grad() # gradient 초기화\n",
        "    loss.backward()\n",
        "    optimizer.step()\n",
        "\n",
        "    avg_cost += loss / total_batch\n",
        "\n",
        "  print('Epoch: %d Loss = %f'%(epoch+1, avg_cost))\n",
        "\n",
        "print('Learning finished')"
      ],
      "metadata": {
        "id": "_vKcxUMlvUJE",
        "colab": {
          "base_uri": "https://localhost:8080/"
        },
        "outputId": "e69fe73b-8576-4f67-f6a2-2d251e231a55"
      },
      "execution_count": 74,
      "outputs": [
        {
          "output_type": "stream",
          "name": "stdout",
          "text": [
            "Epoch: 1 Loss = 3.914755\n",
            "Epoch: 2 Loss = 3.069475\n",
            "Epoch: 3 Loss = 2.553084\n",
            "Epoch: 4 Loss = 2.115431\n",
            "Epoch: 5 Loss = 1.689973\n",
            "Epoch: 6 Loss = 1.234741\n",
            "Epoch: 7 Loss = 0.759313\n",
            "Epoch: 8 Loss = 0.423749\n",
            "Epoch: 9 Loss = 0.270158\n",
            "Epoch: 10 Loss = 0.167417\n",
            "Epoch: 11 Loss = 0.126553\n",
            "Epoch: 12 Loss = 0.079215\n",
            "Epoch: 13 Loss = 0.050262\n",
            "Epoch: 14 Loss = 0.030964\n",
            "Epoch: 15 Loss = 0.015848\n",
            "Epoch: 16 Loss = 0.010474\n",
            "Epoch: 17 Loss = 0.008715\n",
            "Epoch: 18 Loss = 0.005912\n",
            "Epoch: 19 Loss = 0.004884\n",
            "Epoch: 20 Loss = 0.004589\n",
            "Epoch: 21 Loss = 0.003946\n",
            "Epoch: 22 Loss = 0.002792\n",
            "Epoch: 23 Loss = 0.003253\n",
            "Epoch: 24 Loss = 0.002644\n",
            "Epoch: 25 Loss = 0.002242\n",
            "Epoch: 26 Loss = 0.002454\n",
            "Epoch: 27 Loss = 0.002212\n",
            "Epoch: 28 Loss = 0.001900\n",
            "Epoch: 29 Loss = 0.002067\n",
            "Epoch: 30 Loss = 0.001695\n",
            "Learning finished\n"
          ]
        }
      ]
    },
    {
      "cell_type": "markdown",
      "source": [
        "## 학습이 완료된 모델을 이용해 정답률 확인"
      ],
      "metadata": {
        "id": "M-ewxZmlAPZ1"
      }
    },
    {
      "cell_type": "code",
      "source": [
        "network.eval()\n",
        "network = network.to('cuda')\n",
        "img_test = torch.tensor(np.transpose(cifar100_test.data,(0,3,1,2))) / 255.\n",
        "label_test = torch.tensor(cifar100_test.targets)\n",
        "\n",
        "img_test = img_test.to('cuda')\n",
        "label_test = label_test.to('cuda')\n",
        "\n",
        "with torch.no_grad(): # test에서는 기울기 계산 제외\n",
        "  prediction = network(img_test) # 전체 test data를 한번에 계산\n",
        "\n",
        "  correct_prediction = torch.argmax(prediction, 1) == label_test\n",
        "  accuracy = correct_prediction.float().mean()\n",
        "  print('Accuracy:', accuracy.item())"
      ],
      "metadata": {
        "id": "ae3-hzD67GG5",
        "colab": {
          "base_uri": "https://localhost:8080/"
        },
        "outputId": "ada57024-5f6b-4dd7-9236-cdeec1626ea0"
      },
      "execution_count": 75,
      "outputs": [
        {
          "output_type": "stream",
          "name": "stdout",
          "text": [
            "Accuracy: 0.46629998087882996\n"
          ]
        }
      ]
    },
    {
      "cell_type": "code",
      "source": [
        "dataIdx = 1199\n",
        "# tmp_img = img_test[dataIdx] ## dense 를 제외한 부분은 unsqueeze(0) 미포함\n",
        "tmp_img = img_test[dataIdx].unsqueeze(0)\n",
        "tmp_label = label_test[dataIdx]\n",
        "\n",
        "with torch.no_grad():\n",
        "  prediction = network(tmp_img)\n",
        "  ## dense 를 제외한 부분은 제외\n",
        "  tmp_img = tmp_img.squeeze(0)\n",
        "prediction_num = torch.argmax(prediction, 1)\n",
        "\n",
        "print(prediction)\n",
        "print(\"prediction: \", dataLabel[prediction_num])\n",
        "print(\"label: \", dataLabel[tmp_label])\n",
        "\n",
        "# plt.imshow(np.transpose(tmp_img,(1,2,0))) ## dense 를 제외한 부분은 .to('cpu') 제외\n",
        "plt.imshow(np.transpose(tmp_img.to('cpu'),(1,2,0)))\n",
        "plt.show"
      ],
      "metadata": {
        "id": "PA-a4ou_kABo",
        "colab": {
          "base_uri": "https://localhost:8080/",
          "height": 871
        },
        "outputId": "f75905d1-87a2-4f83-f405-e71562902ef1"
      },
      "execution_count": 76,
      "outputs": [
        {
          "output_type": "stream",
          "name": "stdout",
          "text": [
            "tensor([[-3.2481e+00,  4.8214e+00,  9.0696e+00,  1.4373e+01,  1.4921e+01,\n",
            "          5.4030e-01, -4.3335e+00, -3.9042e+00, -1.0686e+01, -1.1330e+01,\n",
            "         -7.7257e+00,  6.4707e+00,  1.4166e+00,  1.0958e+00,  3.3184e+00,\n",
            "         -1.0487e+00,  7.0234e+00,  5.4592e+00,  2.6867e+00,  1.5828e+01,\n",
            "         -8.4434e+00,  3.3080e+01, -6.5924e+00, -3.6820e+00, -1.0672e+01,\n",
            "          4.2971e+00, -1.9370e+00,  4.3623e-01, -9.0408e+00,  8.7183e-03,\n",
            "          1.7514e+00,  1.2931e+01, -3.7784e-01, -7.4790e-01, -9.3744e+00,\n",
            "          9.4075e+00, -7.3213e+00,  5.4090e+00,  1.3730e+01,  2.8137e+00,\n",
            "         -4.2453e+00, -2.9496e+00,  2.9596e+00, -6.7043e+00, -2.5484e+00,\n",
            "         -7.6102e+00,  1.1000e+01, -1.8914e+01, -4.1918e+00, -6.3792e+00,\n",
            "          9.4170e+00, -3.4017e+00, -1.1575e+01, -1.3268e+01, -6.9788e+00,\n",
            "          6.1934e+00, -1.2519e+01, -8.8937e+00, -5.7444e+00, -8.8084e+00,\n",
            "         -1.9255e+01,  7.2320e-01, -9.7145e+00,  1.4252e+01,  1.4369e+01,\n",
            "         -3.5473e-01,  1.3470e+01,  1.0263e+01, -8.1121e-01, -1.0865e+01,\n",
            "         -9.9684e+00, -1.1520e+01,  4.2119e+00,  5.7827e+00,  8.1576e+00,\n",
            "          8.6653e+00, -5.1013e+00,  7.1267e+00,  8.1421e+00, -5.3391e+00,\n",
            "          1.2020e+01, -4.1669e+00, -1.0094e+01, -5.7714e+00, -1.1667e+01,\n",
            "          7.2554e+00,  3.4163e+00,  4.6752e+00, -1.1175e+01, -2.0037e+00,\n",
            "          9.6730e+00, -7.4782e+00,  7.6201e-01,  5.0299e+00,  6.6346e+00,\n",
            "          1.7432e-01, -9.3913e+00,  2.9823e+00,  6.9699e+00,  2.5631e+00]],\n",
            "       device='cuda:0')\n",
            "prediction:  chimpanzee\n",
            "label:  chimpanzee\n"
          ]
        },
        {
          "output_type": "execute_result",
          "data": {
            "text/plain": [
              "<function matplotlib.pyplot.show(close=None, block=None)>"
            ]
          },
          "metadata": {},
          "execution_count": 76
        },
        {
          "output_type": "display_data",
          "data": {
            "text/plain": [
              "<Figure size 640x480 with 1 Axes>"
            ],
            "image/png": "[encoded data removed]"
          },
          "metadata": {}
        }
      ]
    },
    {
      "cell_type": "code",
      "source": [
        "from torchsummary import summary\n",
        "\n",
        "summary(SimpleCNN().to('cuda'), (3,32,32))"
      ],
      "metadata": {
        "colab": {
          "base_uri": "https://localhost:8080/"
        },
        "id": "aGdhtUg-ulYy",
        "outputId": "8ce47d44-54f9-4ef9-c055-b8886f6a8209"
      },
      "execution_count": 77,
      "outputs": [
        {
          "output_type": "stream",
          "name": "stdout",
          "text": [
            "----------------------------------------------------------------\n",
            "        Layer (type)               Output Shape         Param #\n",
            "================================================================\n",
            "            Conv2d-1           [-1, 64, 32, 32]           1,792\n",
            "            Conv2d-2           [-1, 64, 32, 32]           1,792\n",
            "              ReLU-3           [-1, 64, 32, 32]               0\n",
            "         MaxPool2d-4           [-1, 64, 16, 16]               0\n",
            "            Conv2d-5          [-1, 128, 16, 16]          73,856\n",
            "            Conv2d-6          [-1, 128, 16, 16]          73,856\n",
            "              ReLU-7          [-1, 128, 16, 16]               0\n",
            "         MaxPool2d-8            [-1, 128, 8, 8]               0\n",
            "            Conv2d-9            [-1, 256, 8, 8]         295,168\n",
            "           Conv2d-10            [-1, 256, 8, 8]         295,168\n",
            "             ReLU-11            [-1, 256, 8, 8]               0\n",
            "        MaxPool2d-12            [-1, 256, 4, 4]               0\n",
            "           Linear-13                 [-1, 2024]       8,292,328\n",
            "             ReLU-14                 [-1, 2024]               0\n",
            "           Linear-15                  [-1, 100]         202,500\n",
            "================================================================\n",
            "Total params: 9,236,460\n",
            "Trainable params: 9,236,460\n",
            "Non-trainable params: 0\n",
            "----------------------------------------------------------------\n",
            "Input size (MB): 0.01\n",
            "Forward/backward pass size (MB): 2.88\n",
            "Params size (MB): 35.23\n",
            "Estimated Total Size (MB): 38.12\n",
            "----------------------------------------------------------------\n"
          ]
        }
      ]
    }
  ]
}